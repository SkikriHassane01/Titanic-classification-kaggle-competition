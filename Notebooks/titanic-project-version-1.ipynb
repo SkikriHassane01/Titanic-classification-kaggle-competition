{
 "cells": [
  {
   "cell_type": "markdown",
   "id": "1ebd147b",
   "metadata": {
    "papermill": {
     "duration": 0.014377,
     "end_time": "2024-03-21T06:01:26.247761",
     "exception": false,
     "start_time": "2024-03-21T06:01:26.233384",
     "status": "completed"
    },
    "tags": []
   },
   "source": [
    "\n",
    "\n",
    "<h1 style=\"font-family: Trebuchet MS; padding: 12px; font-size: 30px; text-align: center; line-height: 1.25;\">Classification Problem<br><span style=\" font-size: 48px\"><b>🚢🧊🌊 Titanic🚢🧊🌊 </b>\n",
    " <hr>\n",
    "    \n",
    "<h1 style=\"font-family: Trebuchet MS; font-size: 14px; text-align: right; \"><strong>Created By: Hassane Skikri</strong></h1>\n",
    "\n"
   ]
  },
  {
   "cell_type": "markdown",
   "id": "065c8446",
   "metadata": {
    "papermill": {
     "duration": 0.013434,
     "end_time": "2024-03-21T06:01:26.275074",
     "exception": false,
     "start_time": "2024-03-21T06:01:26.261640",
     "status": "completed"
    },
    "tags": []
   },
   "source": [
    "<hr>\n",
    "<p style=\"background-color:#93CDDD; font-family: 'Trebuchet MS'; font-weight: bold; color: #3a5a40; font-size: 40px; text-align: center; border-radius: 50px; padding: 10px;\">Table of Contents</p>\n",
    "<hr>\n"
   ]
  },
  {
   "cell_type": "markdown",
   "id": "8a730da5",
   "metadata": {
    "papermill": {
     "duration": 0.013987,
     "end_time": "2024-03-21T06:01:26.302845",
     "exception": false,
     "start_time": "2024-03-21T06:01:26.288858",
     "status": "completed"
    },
    "tags": []
   },
   "source": [
    "## **What is covered in this notebook?**\n",
    "\n",
    " - [**1 - Importing Libraries**](#1d)\n",
    " - [**2 - Loading Dataset**](#2)\n",
    " - [**3 - Exploring the data**](#3)\n",
    " - [**4 - Data Preprocessing**](#4)\n",
    " - [**5 - Feature Scaling**](#5)\n",
    " - [**6 - Model Building and Evaluation**](#6)\n",
    " - [**7 - Hyperparameter Tuning**](#7)\n",
    " - [**8 -  Model Evaluation on Test Data**](#8)\n",
    " - [**9 - Preparing the Final Submission:**](#9)\n",
    "<hr>"
   ]
  },
  {
   "cell_type": "markdown",
   "id": "9574bacd",
   "metadata": {
    "papermill": {
     "duration": 0.013478,
     "end_time": "2024-03-21T06:01:26.330061",
     "exception": false,
     "start_time": "2024-03-21T06:01:26.316583",
     "status": "completed"
    },
    "tags": []
   },
   "source": [
    "<h1 style=\"background-color:#93CDDD; font-family: 'Trebuchet MS'; font-weight: bold; color: #3a5a40; font-size: 40px; text-align: center; border-radius: 50px; padding: 10px;\">1️⃣ - Importing libraries</h1>\n",
    "<hr>\n"
   ]
  },
  {
   "cell_type": "code",
   "execution_count": 1,
   "id": "2f662520",
   "metadata": {
    "_cell_guid": "b1076dfc-b9ad-4769-8c92-a6c4dae69d19",
    "_uuid": "8f2839f25d086af736a60e9eeb907d3b93b6e0e5",
    "execution": {
     "iopub.execute_input": "2024-03-21T06:01:26.360385Z",
     "iopub.status.busy": "2024-03-21T06:01:26.359672Z",
     "iopub.status.idle": "2024-03-21T06:01:29.810767Z",
     "shell.execute_reply": "2024-03-21T06:01:29.809524Z"
    },
    "papermill": {
     "duration": 3.469776,
     "end_time": "2024-03-21T06:01:29.813582",
     "exception": false,
     "start_time": "2024-03-21T06:01:26.343806",
     "status": "completed"
    },
    "tags": []
   },
   "outputs": [],
   "source": [
    "# Data Analysis and Manipulation Libraries Import\n",
    "import numpy as np \n",
    "import pandas as pd \n",
    "\n",
    "# Data Visualization Libraries Import\n",
    "import  matplotlib.pyplot as plt\n",
    "import seaborn as sns\n",
    "\n",
    "#Splitting the data\n",
    "from sklearn.model_selection import StratifiedShuffleSplit\n",
    "\n",
    "#Custom Transformer Class for Data Imputation \n",
    "from sklearn.base import BaseEstimator,TransformerMixin\n",
    "from sklearn.impute import SimpleImputer\n",
    "\n",
    "#encoding\n",
    "from sklearn.preprocessing import OneHotEncoder\n",
    "\n",
    "#calling the pipeline\n",
    "from sklearn.pipeline import Pipeline\n",
    "\n",
    "#Scaling\n",
    "from sklearn.preprocessing import StandardScaler\n",
    "\n",
    "#build the model\n",
    "\n",
    "from sklearn.linear_model import LogisticRegression\n",
    "from sklearn.ensemble import RandomForestClassifier\n",
    "from sklearn.tree import DecisionTreeClassifier\n",
    "from sklearn.neighbors import KNeighborsClassifier\n",
    "from sklearn.discriminant_analysis import LinearDiscriminantAnalysis\n",
    "from sklearn.naive_bayes import GaussianNB\n",
    "from sklearn.svm import SVC\n",
    "\n",
    "\n",
    "from sklearn.model_selection import GridSearchCV,StratifiedKFold,cross_validate\n",
    "from sklearn.metrics import accuracy_score\n",
    "\n",
    "from sklearn.model_selection import train_test_split\n",
    "\n",
    "#ignore all the warning \n",
    "import warnings\n",
    "warnings.filterwarnings('ignore')"
   ]
  },
  {
   "cell_type": "code",
   "execution_count": 3,
   "id": "4b5fa8ed",
   "metadata": {
    "execution": {
     "iopub.execute_input": "2024-03-21T06:01:29.886348Z",
     "iopub.status.busy": "2024-03-21T06:01:29.885893Z",
     "iopub.status.idle": "2024-03-21T06:01:29.893873Z",
     "shell.execute_reply": "2024-03-21T06:01:29.892564Z"
    },
    "papermill": {
     "duration": 0.026501,
     "end_time": "2024-03-21T06:01:29.896360",
     "exception": false,
     "start_time": "2024-03-21T06:01:29.869859",
     "status": "completed"
    },
    "tags": []
   },
   "outputs": [],
   "source": [
    "#display Matplotlib plots directly within the notebook\n",
    "%matplotlib inline\n",
    "# display graphs correctly\n",
    "plt.rcParams['figure.figsize'] = (12, 5)\n",
    "plt.rcParams['figure.dpi'] = 120\n",
    "\n",
    "\n",
    "plt.style.use('dark_background')\n"
   ]
  },
  {
   "cell_type": "markdown",
   "id": "38f79fd4",
   "metadata": {
    "papermill": {
     "duration": 0.013877,
     "end_time": "2024-03-21T06:01:29.924219",
     "exception": false,
     "start_time": "2024-03-21T06:01:29.910342",
     "status": "completed"
    },
    "tags": []
   },
   "source": [
    "\n",
    "<hr>\n",
    "<h1 style=\"background-color:#93CDDD; font-family: 'Trebuchet MS'; font-weight: bold; color: #3a5a40; font-size: 40px; text-align: center; border-radius: 50px; padding: 10px;\">2️⃣ - Loading Dataset</h1>\n",
    "<a name = 2d > </a>\n",
    "<hr>\n"
   ]
  },
  {
   "cell_type": "code",
   "execution_count": 4,
   "id": "a856b3fe",
   "metadata": {
    "execution": {
     "iopub.execute_input": "2024-03-21T06:01:29.955439Z",
     "iopub.status.busy": "2024-03-21T06:01:29.955026Z",
     "iopub.status.idle": "2024-03-21T06:01:30.018276Z",
     "shell.execute_reply": "2024-03-21T06:01:30.017442Z"
    },
    "papermill": {
     "duration": 0.081676,
     "end_time": "2024-03-21T06:01:30.020569",
     "exception": false,
     "start_time": "2024-03-21T06:01:29.938893",
     "status": "completed"
    },
    "tags": []
   },
   "outputs": [
    {
     "data": {
      "text/html": [
       "<div>\n",
       "<style scoped>\n",
       "    .dataframe tbody tr th:only-of-type {\n",
       "        vertical-align: middle;\n",
       "    }\n",
       "\n",
       "    .dataframe tbody tr th {\n",
       "        vertical-align: top;\n",
       "    }\n",
       "\n",
       "    .dataframe thead th {\n",
       "        text-align: right;\n",
       "    }\n",
       "</style>\n",
       "<table border=\"1\" class=\"dataframe\">\n",
       "  <thead>\n",
       "    <tr style=\"text-align: right;\">\n",
       "      <th></th>\n",
       "      <th>PassengerId</th>\n",
       "      <th>Survived</th>\n",
       "      <th>Pclass</th>\n",
       "      <th>Name</th>\n",
       "      <th>Sex</th>\n",
       "      <th>Age</th>\n",
       "      <th>SibSp</th>\n",
       "      <th>Parch</th>\n",
       "      <th>Ticket</th>\n",
       "      <th>Fare</th>\n",
       "      <th>Cabin</th>\n",
       "      <th>Embarked</th>\n",
       "    </tr>\n",
       "  </thead>\n",
       "  <tbody>\n",
       "    <tr>\n",
       "      <th>0</th>\n",
       "      <td>1</td>\n",
       "      <td>0</td>\n",
       "      <td>3</td>\n",
       "      <td>Braund, Mr. Owen Harris</td>\n",
       "      <td>male</td>\n",
       "      <td>22.0</td>\n",
       "      <td>1</td>\n",
       "      <td>0</td>\n",
       "      <td>A/5 21171</td>\n",
       "      <td>7.2500</td>\n",
       "      <td>NaN</td>\n",
       "      <td>S</td>\n",
       "    </tr>\n",
       "    <tr>\n",
       "      <th>1</th>\n",
       "      <td>2</td>\n",
       "      <td>1</td>\n",
       "      <td>1</td>\n",
       "      <td>Cumings, Mrs. John Bradley (Florence Briggs Th...</td>\n",
       "      <td>female</td>\n",
       "      <td>38.0</td>\n",
       "      <td>1</td>\n",
       "      <td>0</td>\n",
       "      <td>PC 17599</td>\n",
       "      <td>71.2833</td>\n",
       "      <td>C85</td>\n",
       "      <td>C</td>\n",
       "    </tr>\n",
       "    <tr>\n",
       "      <th>2</th>\n",
       "      <td>3</td>\n",
       "      <td>1</td>\n",
       "      <td>3</td>\n",
       "      <td>Heikkinen, Miss. Laina</td>\n",
       "      <td>female</td>\n",
       "      <td>26.0</td>\n",
       "      <td>0</td>\n",
       "      <td>0</td>\n",
       "      <td>STON/O2. 3101282</td>\n",
       "      <td>7.9250</td>\n",
       "      <td>NaN</td>\n",
       "      <td>S</td>\n",
       "    </tr>\n",
       "    <tr>\n",
       "      <th>3</th>\n",
       "      <td>4</td>\n",
       "      <td>1</td>\n",
       "      <td>1</td>\n",
       "      <td>Futrelle, Mrs. Jacques Heath (Lily May Peel)</td>\n",
       "      <td>female</td>\n",
       "      <td>35.0</td>\n",
       "      <td>1</td>\n",
       "      <td>0</td>\n",
       "      <td>113803</td>\n",
       "      <td>53.1000</td>\n",
       "      <td>C123</td>\n",
       "      <td>S</td>\n",
       "    </tr>\n",
       "  </tbody>\n",
       "</table>\n",
       "</div>"
      ],
      "text/plain": [
       "   PassengerId  Survived  Pclass  \\\n",
       "0            1         0       3   \n",
       "1            2         1       1   \n",
       "2            3         1       3   \n",
       "3            4         1       1   \n",
       "\n",
       "                                                Name     Sex   Age  SibSp  \\\n",
       "0                            Braund, Mr. Owen Harris    male  22.0      1   \n",
       "1  Cumings, Mrs. John Bradley (Florence Briggs Th...  female  38.0      1   \n",
       "2                             Heikkinen, Miss. Laina  female  26.0      0   \n",
       "3       Futrelle, Mrs. Jacques Heath (Lily May Peel)  female  35.0      1   \n",
       "\n",
       "   Parch            Ticket     Fare Cabin Embarked  \n",
       "0      0         A/5 21171   7.2500   NaN        S  \n",
       "1      0          PC 17599  71.2833   C85        C  \n",
       "2      0  STON/O2. 3101282   7.9250   NaN        S  \n",
       "3      0            113803  53.1000  C123        S  "
      ]
     },
     "execution_count": 4,
     "metadata": {},
     "output_type": "execute_result"
    }
   ],
   "source": [
    "titanic = pd.read_csv('..Data/train.csv')\n",
    "titanic_test = pd.read_csv('..Data/test.csv')\n",
    "titanic.head(4)"
   ]
  },
  {
   "cell_type": "code",
   "execution_count": 5,
   "id": "f12afa5a",
   "metadata": {
    "execution": {
     "iopub.execute_input": "2024-03-21T06:01:30.051439Z",
     "iopub.status.busy": "2024-03-21T06:01:30.050117Z",
     "iopub.status.idle": "2024-03-21T06:01:30.068706Z",
     "shell.execute_reply": "2024-03-21T06:01:30.067520Z"
    },
    "papermill": {
     "duration": 0.036725,
     "end_time": "2024-03-21T06:01:30.071380",
     "exception": false,
     "start_time": "2024-03-21T06:01:30.034655",
     "status": "completed"
    },
    "tags": []
   },
   "outputs": [
    {
     "data": {
      "text/plain": [
       "Survived\n",
       "0    549\n",
       "1    342\n",
       "dtype: int64"
      ]
     },
     "execution_count": 5,
     "metadata": {},
     "output_type": "execute_result"
    }
   ],
   "source": [
    "titanic.groupby('Survived').size()"
   ]
  },
  {
   "cell_type": "code",
   "execution_count": 6,
   "id": "530957b4",
   "metadata": {
    "execution": {
     "iopub.execute_input": "2024-03-21T06:01:30.102707Z",
     "iopub.status.busy": "2024-03-21T06:01:30.102249Z",
     "iopub.status.idle": "2024-03-21T06:01:30.113177Z",
     "shell.execute_reply": "2024-03-21T06:01:30.111965Z"
    },
    "papermill": {
     "duration": 0.029778,
     "end_time": "2024-03-21T06:01:30.115838",
     "exception": false,
     "start_time": "2024-03-21T06:01:30.086060",
     "status": "completed"
    },
    "tags": []
   },
   "outputs": [
    {
     "data": {
      "text/plain": [
       "Sex\n",
       "female    314\n",
       "male      577\n",
       "dtype: int64"
      ]
     },
     "execution_count": 6,
     "metadata": {},
     "output_type": "execute_result"
    }
   ],
   "source": [
    "titanic.groupby('Sex').size()"
   ]
  },
  {
   "cell_type": "markdown",
   "id": "ebaa0e43",
   "metadata": {
    "papermill": {
     "duration": 0.087179,
     "end_time": "2024-03-21T06:01:30.218735",
     "exception": false,
     "start_time": "2024-03-21T06:01:30.131556",
     "status": "completed"
    },
    "tags": []
   },
   "source": [
    "\n",
    "<h1 style=\"background-color:#93CDDD; font-family: 'Trebuchet MS'; font-weight: bold; color: #3a5a40; font-size: 40px; text-align: center; border-radius: 50px; padding: 10px;\">3️⃣ - Exploring the data</h1>\n",
    "<a name = 3 ></a>\n",
    "<hr>\n"
   ]
  },
  {
   "cell_type": "code",
   "execution_count": 7,
   "id": "26f15396",
   "metadata": {
    "execution": {
     "iopub.execute_input": "2024-03-21T06:01:30.249824Z",
     "iopub.status.busy": "2024-03-21T06:01:30.248985Z",
     "iopub.status.idle": "2024-03-21T06:01:30.271056Z",
     "shell.execute_reply": "2024-03-21T06:01:30.270086Z"
    },
    "papermill": {
     "duration": 0.040204,
     "end_time": "2024-03-21T06:01:30.273383",
     "exception": false,
     "start_time": "2024-03-21T06:01:30.233179",
     "status": "completed"
    },
    "tags": []
   },
   "outputs": [
    {
     "name": "stdout",
     "output_type": "stream",
     "text": [
      "<class 'pandas.core.frame.DataFrame'>\n",
      "RangeIndex: 891 entries, 0 to 890\n",
      "Data columns (total 12 columns):\n",
      " #   Column       Non-Null Count  Dtype  \n",
      "---  ------       --------------  -----  \n",
      " 0   PassengerId  891 non-null    int64  \n",
      " 1   Survived     891 non-null    int64  \n",
      " 2   Pclass       891 non-null    int64  \n",
      " 3   Name         891 non-null    object \n",
      " 4   Sex          891 non-null    object \n",
      " 5   Age          714 non-null    float64\n",
      " 6   SibSp        891 non-null    int64  \n",
      " 7   Parch        891 non-null    int64  \n",
      " 8   Ticket       891 non-null    object \n",
      " 9   Fare         891 non-null    float64\n",
      " 10  Cabin        204 non-null    object \n",
      " 11  Embarked     889 non-null    object \n",
      "dtypes: float64(2), int64(5), object(5)\n",
      "memory usage: 83.7+ KB\n"
     ]
    }
   ],
   "source": [
    "titanic.info()"
   ]
  },
  {
   "cell_type": "code",
   "execution_count": 8,
   "id": "54dd6f77",
   "metadata": {
    "execution": {
     "iopub.execute_input": "2024-03-21T06:01:30.304790Z",
     "iopub.status.busy": "2024-03-21T06:01:30.303938Z",
     "iopub.status.idle": "2024-03-21T06:01:30.335237Z",
     "shell.execute_reply": "2024-03-21T06:01:30.334114Z"
    },
    "papermill": {
     "duration": 0.049506,
     "end_time": "2024-03-21T06:01:30.337650",
     "exception": false,
     "start_time": "2024-03-21T06:01:30.288144",
     "status": "completed"
    },
    "tags": []
   },
   "outputs": [
    {
     "data": {
      "text/html": [
       "<div>\n",
       "<style scoped>\n",
       "    .dataframe tbody tr th:only-of-type {\n",
       "        vertical-align: middle;\n",
       "    }\n",
       "\n",
       "    .dataframe tbody tr th {\n",
       "        vertical-align: top;\n",
       "    }\n",
       "\n",
       "    .dataframe thead th {\n",
       "        text-align: right;\n",
       "    }\n",
       "</style>\n",
       "<table border=\"1\" class=\"dataframe\">\n",
       "  <thead>\n",
       "    <tr style=\"text-align: right;\">\n",
       "      <th></th>\n",
       "      <th>PassengerId</th>\n",
       "      <th>Survived</th>\n",
       "      <th>Pclass</th>\n",
       "      <th>Age</th>\n",
       "      <th>SibSp</th>\n",
       "      <th>Parch</th>\n",
       "      <th>Fare</th>\n",
       "    </tr>\n",
       "  </thead>\n",
       "  <tbody>\n",
       "    <tr>\n",
       "      <th>count</th>\n",
       "      <td>891.000000</td>\n",
       "      <td>891.000000</td>\n",
       "      <td>891.000000</td>\n",
       "      <td>714.000000</td>\n",
       "      <td>891.000000</td>\n",
       "      <td>891.000000</td>\n",
       "      <td>891.000000</td>\n",
       "    </tr>\n",
       "    <tr>\n",
       "      <th>mean</th>\n",
       "      <td>446.000000</td>\n",
       "      <td>0.383838</td>\n",
       "      <td>2.308642</td>\n",
       "      <td>29.699118</td>\n",
       "      <td>0.523008</td>\n",
       "      <td>0.381594</td>\n",
       "      <td>32.204208</td>\n",
       "    </tr>\n",
       "    <tr>\n",
       "      <th>std</th>\n",
       "      <td>257.353842</td>\n",
       "      <td>0.486592</td>\n",
       "      <td>0.836071</td>\n",
       "      <td>14.526497</td>\n",
       "      <td>1.102743</td>\n",
       "      <td>0.806057</td>\n",
       "      <td>49.693429</td>\n",
       "    </tr>\n",
       "    <tr>\n",
       "      <th>min</th>\n",
       "      <td>1.000000</td>\n",
       "      <td>0.000000</td>\n",
       "      <td>1.000000</td>\n",
       "      <td>0.420000</td>\n",
       "      <td>0.000000</td>\n",
       "      <td>0.000000</td>\n",
       "      <td>0.000000</td>\n",
       "    </tr>\n",
       "    <tr>\n",
       "      <th>25%</th>\n",
       "      <td>223.500000</td>\n",
       "      <td>0.000000</td>\n",
       "      <td>2.000000</td>\n",
       "      <td>20.125000</td>\n",
       "      <td>0.000000</td>\n",
       "      <td>0.000000</td>\n",
       "      <td>7.910400</td>\n",
       "    </tr>\n",
       "    <tr>\n",
       "      <th>50%</th>\n",
       "      <td>446.000000</td>\n",
       "      <td>0.000000</td>\n",
       "      <td>3.000000</td>\n",
       "      <td>28.000000</td>\n",
       "      <td>0.000000</td>\n",
       "      <td>0.000000</td>\n",
       "      <td>14.454200</td>\n",
       "    </tr>\n",
       "    <tr>\n",
       "      <th>75%</th>\n",
       "      <td>668.500000</td>\n",
       "      <td>1.000000</td>\n",
       "      <td>3.000000</td>\n",
       "      <td>38.000000</td>\n",
       "      <td>1.000000</td>\n",
       "      <td>0.000000</td>\n",
       "      <td>31.000000</td>\n",
       "    </tr>\n",
       "    <tr>\n",
       "      <th>max</th>\n",
       "      <td>891.000000</td>\n",
       "      <td>1.000000</td>\n",
       "      <td>3.000000</td>\n",
       "      <td>80.000000</td>\n",
       "      <td>8.000000</td>\n",
       "      <td>6.000000</td>\n",
       "      <td>512.329200</td>\n",
       "    </tr>\n",
       "  </tbody>\n",
       "</table>\n",
       "</div>"
      ],
      "text/plain": [
       "       PassengerId    Survived      Pclass         Age       SibSp  \\\n",
       "count   891.000000  891.000000  891.000000  714.000000  891.000000   \n",
       "mean    446.000000    0.383838    2.308642   29.699118    0.523008   \n",
       "std     257.353842    0.486592    0.836071   14.526497    1.102743   \n",
       "min       1.000000    0.000000    1.000000    0.420000    0.000000   \n",
       "25%     223.500000    0.000000    2.000000   20.125000    0.000000   \n",
       "50%     446.000000    0.000000    3.000000   28.000000    0.000000   \n",
       "75%     668.500000    1.000000    3.000000   38.000000    1.000000   \n",
       "max     891.000000    1.000000    3.000000   80.000000    8.000000   \n",
       "\n",
       "            Parch        Fare  \n",
       "count  891.000000  891.000000  \n",
       "mean     0.381594   32.204208  \n",
       "std      0.806057   49.693429  \n",
       "min      0.000000    0.000000  \n",
       "25%      0.000000    7.910400  \n",
       "50%      0.000000   14.454200  \n",
       "75%      0.000000   31.000000  \n",
       "max      6.000000  512.329200  "
      ]
     },
     "execution_count": 8,
     "metadata": {},
     "output_type": "execute_result"
    }
   ],
   "source": [
    "titanic.describe()"
   ]
  },
  {
   "cell_type": "code",
   "execution_count": 9,
   "id": "289501c6",
   "metadata": {
    "execution": {
     "iopub.execute_input": "2024-03-21T06:01:30.369382Z",
     "iopub.status.busy": "2024-03-21T06:01:30.368561Z",
     "iopub.status.idle": "2024-03-21T06:01:30.378676Z",
     "shell.execute_reply": "2024-03-21T06:01:30.377443Z"
    },
    "papermill": {
     "duration": 0.028445,
     "end_time": "2024-03-21T06:01:30.381001",
     "exception": false,
     "start_time": "2024-03-21T06:01:30.352556",
     "status": "completed"
    },
    "tags": []
   },
   "outputs": [
    {
     "data": {
      "text/plain": [
       "PassengerId      0\n",
       "Survived         0\n",
       "Pclass           0\n",
       "Name             0\n",
       "Sex              0\n",
       "Age            177\n",
       "SibSp            0\n",
       "Parch            0\n",
       "Ticket           0\n",
       "Fare             0\n",
       "Cabin          687\n",
       "Embarked         2\n",
       "dtype: int64"
      ]
     },
     "execution_count": 9,
     "metadata": {},
     "output_type": "execute_result"
    }
   ],
   "source": [
    "titanic.isna().sum()"
   ]
  },
  {
   "cell_type": "markdown",
   "id": "3255d0ba",
   "metadata": {
    "papermill": {
     "duration": 0.014635,
     "end_time": "2024-03-21T06:01:30.410755",
     "exception": false,
     "start_time": "2024-03-21T06:01:30.396120",
     "status": "completed"
    },
    "tags": []
   },
   "source": [
    "#### **From this information, we can summarize:**\n",
    "- **There are categorical features in the data. So we need to encode them into numeric features.**\n",
    "- **3 column has missing values.**\n"
   ]
  },
  {
   "cell_type": "markdown",
   "id": "8b9b1516",
   "metadata": {
    "papermill": {
     "duration": 0.014503,
     "end_time": "2024-03-21T06:01:30.440202",
     "exception": false,
     "start_time": "2024-03-21T06:01:30.425699",
     "status": "completed"
    },
    "tags": []
   },
   "source": [
    "## **Visualizing the correlations**"
   ]
  },
  {
   "cell_type": "code",
   "execution_count": 10,
   "id": "70a28760",
   "metadata": {
    "execution": {
     "iopub.execute_input": "2024-03-21T06:01:30.472834Z",
     "iopub.status.busy": "2024-03-21T06:01:30.471829Z",
     "iopub.status.idle": "2024-03-21T06:01:31.016316Z",
     "shell.execute_reply": "2024-03-21T06:01:31.015043Z"
    },
    "papermill": {
     "duration": 0.56429,
     "end_time": "2024-03-21T06:01:31.019550",
     "exception": false,
     "start_time": "2024-03-21T06:01:30.455260",
     "status": "completed"
    },
    "tags": []
   },
   "outputs": [
    {
     "data": {
      "text/plain": [
       "<Axes: >"
      ]
     },
     "execution_count": 10,
     "metadata": {},
     "output_type": "execute_result"
    },
    {
     "data": {
      "image/png": "[encoded data removed]",
      "text/plain": [
       "<Figure size 1440x600 with 2 Axes>"
      ]
     },
     "metadata": {},
     "output_type": "display_data"
    }
   ],
   "source": [
    "# Select only numeric columns\n",
    "numeric_columns = titanic.select_dtypes(include=['number'])\n",
    "\n",
    "# Calculate correlations and create the heatmap\n",
    "corr = numeric_columns.corr()\n",
    "sns.heatmap(corr, annot=True, fmt='.2f',cmap=\"YlGnBu\")"
   ]
  },
  {
   "cell_type": "markdown",
   "id": "79ff9735",
   "metadata": {
    "papermill": {
     "duration": 0.016839,
     "end_time": "2024-03-21T06:01:31.053585",
     "exception": false,
     "start_time": "2024-03-21T06:01:31.036746",
     "status": "completed"
    },
    "tags": []
   },
   "source": [
    "***we can conclude that there is a small reverse corrolation between the Pclass and the Survived column***"
   ]
  },
  {
   "cell_type": "markdown",
   "id": "761061cc",
   "metadata": {
    "papermill": {
     "duration": 0.017808,
     "end_time": "2024-03-21T06:01:31.088211",
     "exception": false,
     "start_time": "2024-03-21T06:01:31.070403",
     "status": "completed"
    },
    "tags": []
   },
   "source": [
    "<hr>\n",
    "<h1 style=\"background-color:#93CDDD; font-family: 'Trebuchet MS'; font-weight: bold; color: #3a5a40; font-size: 40px; text-align: center; border-radius: 50px; padding: 10px;\">4️⃣ - Data Preprocessing</h1>\n",
    "<a name = 4 ></a>\n",
    "<hr>\n"
   ]
  },
  {
   "cell_type": "markdown",
   "id": "df374246",
   "metadata": {
    "papermill": {
     "duration": 0.016402,
     "end_time": "2024-03-21T06:01:31.121690",
     "exception": false,
     "start_time": "2024-03-21T06:01:31.105288",
     "status": "completed"
    },
    "tags": []
   },
   "source": [
    "## Splitting the data into training and testing sets using stratified sampling."
   ]
  },
  {
   "cell_type": "code",
   "execution_count": 11,
   "id": "0f69ff05",
   "metadata": {
    "execution": {
     "iopub.execute_input": "2024-03-21T06:01:31.157596Z",
     "iopub.status.busy": "2024-03-21T06:01:31.157155Z",
     "iopub.status.idle": "2024-03-21T06:01:31.177909Z",
     "shell.execute_reply": "2024-03-21T06:01:31.176659Z"
    },
    "papermill": {
     "duration": 0.041879,
     "end_time": "2024-03-21T06:01:31.180541",
     "exception": false,
     "start_time": "2024-03-21T06:01:31.138662",
     "status": "completed"
    },
    "tags": []
   },
   "outputs": [],
   "source": [
    "# Create an instance of StratifiedShuffleSplit\n",
    "split = StratifiedShuffleSplit(n_splits = 1 , test_size =0.2)   #20%  testing data\n",
    "#titanic[[\"Survived\",\"Pclass\",\"Sex\"]] my target labels  is maintained in both the training and testing sets\n",
    "for train_index, test_index in split.split(titanic,titanic[[\"Survived\",\"Pclass\",\"Sex\"]]):\n",
    "    strat_train = titanic.loc[train_index]\n",
    "    strat_test = titanic.loc[test_index]\n",
    "# Now, you have the train and test sets with stratified sampling"
   ]
  },
  {
   "cell_type": "code",
   "execution_count": 12,
   "id": "45dc7df6",
   "metadata": {
    "execution": {
     "iopub.execute_input": "2024-03-21T06:01:31.215966Z",
     "iopub.status.busy": "2024-03-21T06:01:31.215511Z",
     "iopub.status.idle": "2024-03-21T06:01:31.757675Z",
     "shell.execute_reply": "2024-03-21T06:01:31.756388Z"
    },
    "papermill": {
     "duration": 0.563685,
     "end_time": "2024-03-21T06:01:31.760908",
     "exception": false,
     "start_time": "2024-03-21T06:01:31.197223",
     "status": "completed"
    },
    "tags": []
   },
   "outputs": [
    {
     "data": {
      "text/plain": [
       "<Axes: xlabel='Survived', ylabel='Count'>"
      ]
     },
     "execution_count": 12,
     "metadata": {},
     "output_type": "execute_result"
    },
    {
     "data": {
      "image/png": "[encoded data removed]",
      "text/plain": [
       "<Figure size 1440x600 with 2 Axes>"
      ]
     },
     "metadata": {},
     "output_type": "display_data"
    }
   ],
   "source": [
    "plt.subplot(1,2,1)\n",
    "sns.histplot(strat_train['Survived'],color='blue')\n",
    "sns.histplot(strat_train['Pclass'],color='orange')\n",
    "plt.subplot(1,2,2)\n",
    "sns.histplot(strat_test['Survived'],color='blue')\n",
    "sns.histplot(strat_test['Pclass'],color='orange')\n"
   ]
  },
  {
   "cell_type": "code",
   "execution_count": 13,
   "id": "3afe19e9",
   "metadata": {
    "execution": {
     "iopub.execute_input": "2024-03-21T06:01:31.799285Z",
     "iopub.status.busy": "2024-03-21T06:01:31.798392Z",
     "iopub.status.idle": "2024-03-21T06:01:31.812483Z",
     "shell.execute_reply": "2024-03-21T06:01:31.811065Z"
    },
    "papermill": {
     "duration": 0.035726,
     "end_time": "2024-03-21T06:01:31.815114",
     "exception": false,
     "start_time": "2024-03-21T06:01:31.779388",
     "status": "completed"
    },
    "tags": []
   },
   "outputs": [
    {
     "name": "stdout",
     "output_type": "stream",
     "text": [
      "<class 'pandas.core.frame.DataFrame'>\n",
      "Index: 712 entries, 176 to 504\n",
      "Data columns (total 12 columns):\n",
      " #   Column       Non-Null Count  Dtype  \n",
      "---  ------       --------------  -----  \n",
      " 0   PassengerId  712 non-null    int64  \n",
      " 1   Survived     712 non-null    int64  \n",
      " 2   Pclass       712 non-null    int64  \n",
      " 3   Name         712 non-null    object \n",
      " 4   Sex          712 non-null    object \n",
      " 5   Age          562 non-null    float64\n",
      " 6   SibSp        712 non-null    int64  \n",
      " 7   Parch        712 non-null    int64  \n",
      " 8   Ticket       712 non-null    object \n",
      " 9   Fare         712 non-null    float64\n",
      " 10  Cabin        162 non-null    object \n",
      " 11  Embarked     710 non-null    object \n",
      "dtypes: float64(2), int64(5), object(5)\n",
      "memory usage: 72.3+ KB\n"
     ]
    }
   ],
   "source": [
    "strat_train.info()"
   ]
  },
  {
   "cell_type": "markdown",
   "id": "498f2fa0",
   "metadata": {
    "papermill": {
     "duration": 0.017203,
     "end_time": "2024-03-21T06:01:31.849706",
     "exception": false,
     "start_time": "2024-03-21T06:01:31.832503",
     "status": "completed"
    },
    "tags": []
   },
   "source": [
    "**we can see that the age has a lot of missing value**\n",
    "<br>\n",
    "**the cabin column isn't important so we will drop it**"
   ]
  },
  {
   "cell_type": "markdown",
   "id": "dc04c982",
   "metadata": {
    "papermill": {
     "duration": 0.01727,
     "end_time": "2024-03-21T06:01:31.886189",
     "exception": false,
     "start_time": "2024-03-21T06:01:31.868919",
     "status": "completed"
    },
    "tags": []
   },
   "source": [
    "## Handling missing values in the Age column."
   ]
  },
  {
   "cell_type": "code",
   "execution_count": 14,
   "id": "1335f5a7",
   "metadata": {
    "execution": {
     "iopub.execute_input": "2024-03-21T06:01:31.923564Z",
     "iopub.status.busy": "2024-03-21T06:01:31.923088Z",
     "iopub.status.idle": "2024-03-21T06:01:31.930181Z",
     "shell.execute_reply": "2024-03-21T06:01:31.928744Z"
    },
    "papermill": {
     "duration": 0.029367,
     "end_time": "2024-03-21T06:01:31.932914",
     "exception": false,
     "start_time": "2024-03-21T06:01:31.903547",
     "status": "completed"
    },
    "tags": []
   },
   "outputs": [],
   "source": [
    "class AgeImputer(BaseEstimator, TransformerMixin):\n",
    "    def fit (self, X,y=None):\n",
    "        return self\n",
    "    def transform(self,X):\n",
    "        imputer = SimpleImputer(strategy = \"mean\")\n",
    "        X['Age'] = imputer.fit_transform(X[['Age']])\n",
    "        return X"
   ]
  },
  {
   "cell_type": "code",
   "execution_count": 15,
   "id": "11261880",
   "metadata": {
    "execution": {
     "iopub.execute_input": "2024-03-21T06:01:31.971005Z",
     "iopub.status.busy": "2024-03-21T06:01:31.970562Z",
     "iopub.status.idle": "2024-03-21T06:01:31.977941Z",
     "shell.execute_reply": "2024-03-21T06:01:31.976648Z"
    },
    "papermill": {
     "duration": 0.029732,
     "end_time": "2024-03-21T06:01:31.980372",
     "exception": false,
     "start_time": "2024-03-21T06:01:31.950640",
     "status": "completed"
    },
    "tags": []
   },
   "outputs": [
    {
     "data": {
      "text/plain": [
       "array(['S', 'Q', 'C', nan], dtype=object)"
      ]
     },
     "execution_count": 15,
     "metadata": {},
     "output_type": "execute_result"
    }
   ],
   "source": [
    "strat_train[\"Embarked\"].unique()"
   ]
  },
  {
   "cell_type": "markdown",
   "id": "91ccb822",
   "metadata": {
    "papermill": {
     "duration": 0.017334,
     "end_time": "2024-03-21T06:01:32.015320",
     "exception": false,
     "start_time": "2024-03-21T06:01:31.997986",
     "status": "completed"
    },
    "tags": []
   },
   "source": [
    "## Encoding categorical features ('Embarked' and 'Sex')"
   ]
  },
  {
   "cell_type": "code",
   "execution_count": 16,
   "id": "9310b826",
   "metadata": {
    "execution": {
     "iopub.execute_input": "2024-03-21T06:01:32.054937Z",
     "iopub.status.busy": "2024-03-21T06:01:32.054508Z",
     "iopub.status.idle": "2024-03-21T06:01:32.061709Z",
     "shell.execute_reply": "2024-03-21T06:01:32.060571Z"
    },
    "papermill": {
     "duration": 0.030655,
     "end_time": "2024-03-21T06:01:32.064332",
     "exception": false,
     "start_time": "2024-03-21T06:01:32.033677",
     "status": "completed"
    },
    "tags": []
   },
   "outputs": [],
   "source": [
    "class FeatureEncoder(BaseEstimator, TransformerMixin):\n",
    "    def fit (self,X):\n",
    "        return self\n",
    "    def transform(self,X):\n",
    "        encoder = OneHotEncoder()\n",
    "        \n",
    "        matrix= encoder.fit_transform(X[['Embarked']]).toarray()\n",
    "        columns = [\"C\",\"S\",\"Q\",\"N\"]\n",
    "        for i in range(len(matrix.T)):\n",
    "            X[columns[i]]= matrix.T[i]\n",
    "        \n",
    "        matrix = encoder.fit_transform(X[[\"Sex\"]]).toarray()\n",
    "        columns = [\"Female\",\"Male\"]\n",
    "        for i in range(len(matrix.T)):\n",
    "            X[columns[i]]= matrix.T[i]\n",
    "        return X"
   ]
  },
  {
   "cell_type": "markdown",
   "id": "31c086a8",
   "metadata": {
    "papermill": {
     "duration": 0.018802,
     "end_time": "2024-03-21T06:01:32.101372",
     "exception": false,
     "start_time": "2024-03-21T06:01:32.082570",
     "status": "completed"
    },
    "tags": []
   },
   "source": [
    "## Dropping unnecessary columns."
   ]
  },
  {
   "cell_type": "code",
   "execution_count": 17,
   "id": "a04416ed",
   "metadata": {
    "execution": {
     "iopub.execute_input": "2024-03-21T06:01:32.140856Z",
     "iopub.status.busy": "2024-03-21T06:01:32.140393Z",
     "iopub.status.idle": "2024-03-21T06:01:32.147293Z",
     "shell.execute_reply": "2024-03-21T06:01:32.145887Z"
    },
    "papermill": {
     "duration": 0.029691,
     "end_time": "2024-03-21T06:01:32.149893",
     "exception": false,
     "start_time": "2024-03-21T06:01:32.120202",
     "status": "completed"
    },
    "tags": []
   },
   "outputs": [],
   "source": [
    "#feature dropper\n",
    "\n",
    "class FeatureDropper(BaseEstimator, TransformerMixin):\n",
    "    def fit(self , X , y =None):\n",
    "        return self\n",
    "    def transform(self , X ):\n",
    "        return X.drop([\"Name\",\"Sex\",\"Embarked\",\"Ticket\",\"Cabin\",\"N\"], axis =1, errors = \"ignore\")\n"
   ]
  },
  {
   "cell_type": "markdown",
   "id": "920ac4a0",
   "metadata": {
    "papermill": {
     "duration": 0.017856,
     "end_time": "2024-03-21T06:01:32.186227",
     "exception": false,
     "start_time": "2024-03-21T06:01:32.168371",
     "status": "completed"
    },
    "tags": []
   },
   "source": [
    "## Pipeline"
   ]
  },
  {
   "cell_type": "code",
   "execution_count": 18,
   "id": "3d45198d",
   "metadata": {
    "execution": {
     "iopub.execute_input": "2024-03-21T06:01:32.223883Z",
     "iopub.status.busy": "2024-03-21T06:01:32.222837Z",
     "iopub.status.idle": "2024-03-21T06:01:32.228918Z",
     "shell.execute_reply": "2024-03-21T06:01:32.227629Z"
    },
    "papermill": {
     "duration": 0.02739,
     "end_time": "2024-03-21T06:01:32.231276",
     "exception": false,
     "start_time": "2024-03-21T06:01:32.203886",
     "status": "completed"
    },
    "tags": []
   },
   "outputs": [],
   "source": [
    "pipeline = Pipeline([(\"ageimputer\",AgeImputer()),\n",
    "                    (\"featureencoder\",FeatureEncoder()),\n",
    "                    (\"featuredropper\",FeatureDropper())])"
   ]
  },
  {
   "cell_type": "code",
   "execution_count": 19,
   "id": "a204b8ca",
   "metadata": {
    "execution": {
     "iopub.execute_input": "2024-03-21T06:01:32.271134Z",
     "iopub.status.busy": "2024-03-21T06:01:32.270670Z",
     "iopub.status.idle": "2024-03-21T06:01:32.291941Z",
     "shell.execute_reply": "2024-03-21T06:01:32.290610Z"
    },
    "papermill": {
     "duration": 0.044496,
     "end_time": "2024-03-21T06:01:32.294631",
     "exception": false,
     "start_time": "2024-03-21T06:01:32.250135",
     "status": "completed"
    },
    "tags": []
   },
   "outputs": [],
   "source": [
    "strat_train = pipeline.fit_transform(strat_train)"
   ]
  },
  {
   "cell_type": "code",
   "execution_count": 20,
   "id": "49247946",
   "metadata": {
    "execution": {
     "iopub.execute_input": "2024-03-21T06:01:32.332260Z",
     "iopub.status.busy": "2024-03-21T06:01:32.331746Z",
     "iopub.status.idle": "2024-03-21T06:01:32.350659Z",
     "shell.execute_reply": "2024-03-21T06:01:32.349434Z"
    },
    "papermill": {
     "duration": 0.040664,
     "end_time": "2024-03-21T06:01:32.353287",
     "exception": false,
     "start_time": "2024-03-21T06:01:32.312623",
     "status": "completed"
    },
    "tags": []
   },
   "outputs": [
    {
     "data": {
      "text/html": [
       "<div>\n",
       "<style scoped>\n",
       "    .dataframe tbody tr th:only-of-type {\n",
       "        vertical-align: middle;\n",
       "    }\n",
       "\n",
       "    .dataframe tbody tr th {\n",
       "        vertical-align: top;\n",
       "    }\n",
       "\n",
       "    .dataframe thead th {\n",
       "        text-align: right;\n",
       "    }\n",
       "</style>\n",
       "<table border=\"1\" class=\"dataframe\">\n",
       "  <thead>\n",
       "    <tr style=\"text-align: right;\">\n",
       "      <th></th>\n",
       "      <th>PassengerId</th>\n",
       "      <th>Survived</th>\n",
       "      <th>Pclass</th>\n",
       "      <th>Age</th>\n",
       "      <th>SibSp</th>\n",
       "      <th>Parch</th>\n",
       "      <th>Fare</th>\n",
       "      <th>C</th>\n",
       "      <th>S</th>\n",
       "      <th>Q</th>\n",
       "      <th>Female</th>\n",
       "      <th>Male</th>\n",
       "    </tr>\n",
       "  </thead>\n",
       "  <tbody>\n",
       "    <tr>\n",
       "      <th>176</th>\n",
       "      <td>177</td>\n",
       "      <td>0</td>\n",
       "      <td>3</td>\n",
       "      <td>29.342687</td>\n",
       "      <td>3</td>\n",
       "      <td>1</td>\n",
       "      <td>25.4667</td>\n",
       "      <td>0.0</td>\n",
       "      <td>0.0</td>\n",
       "      <td>1.0</td>\n",
       "      <td>0.0</td>\n",
       "      <td>1.0</td>\n",
       "    </tr>\n",
       "    <tr>\n",
       "      <th>468</th>\n",
       "      <td>469</td>\n",
       "      <td>0</td>\n",
       "      <td>3</td>\n",
       "      <td>29.342687</td>\n",
       "      <td>0</td>\n",
       "      <td>0</td>\n",
       "      <td>7.7250</td>\n",
       "      <td>0.0</td>\n",
       "      <td>1.0</td>\n",
       "      <td>0.0</td>\n",
       "      <td>0.0</td>\n",
       "      <td>1.0</td>\n",
       "    </tr>\n",
       "  </tbody>\n",
       "</table>\n",
       "</div>"
      ],
      "text/plain": [
       "     PassengerId  Survived  Pclass        Age  SibSp  Parch     Fare    C  \\\n",
       "176          177         0       3  29.342687      3      1  25.4667  0.0   \n",
       "468          469         0       3  29.342687      0      0   7.7250  0.0   \n",
       "\n",
       "       S    Q  Female  Male  \n",
       "176  0.0  1.0     0.0   1.0  \n",
       "468  1.0  0.0     0.0   1.0  "
      ]
     },
     "execution_count": 20,
     "metadata": {},
     "output_type": "execute_result"
    }
   ],
   "source": [
    "strat_train.head(2)"
   ]
  },
  {
   "cell_type": "markdown",
   "id": "2b0315b0",
   "metadata": {
    "papermill": {
     "duration": 0.017582,
     "end_time": "2024-03-21T06:01:32.388883",
     "exception": false,
     "start_time": "2024-03-21T06:01:32.371301",
     "status": "completed"
    },
    "tags": []
   },
   "source": [
    "\n",
    "<hr>\n",
    "\n",
    "<h1 style=\"background-color:#93CDDD; font-family: 'Trebuchet MS'; font-weight: bold; color: #3a5a40; font-size: 40px; text-align: center; border-radius: 50px; padding: 10px;\">5️⃣ - Feature Scaling</h1>\n",
    "<a name = 5 ></a>\n",
    "<hr>\n"
   ]
  },
  {
   "cell_type": "code",
   "execution_count": 21,
   "id": "8e17706a",
   "metadata": {
    "execution": {
     "iopub.execute_input": "2024-03-21T06:01:32.426715Z",
     "iopub.status.busy": "2024-03-21T06:01:32.425868Z",
     "iopub.status.idle": "2024-03-21T06:01:32.432783Z",
     "shell.execute_reply": "2024-03-21T06:01:32.431537Z"
    },
    "papermill": {
     "duration": 0.028558,
     "end_time": "2024-03-21T06:01:32.435230",
     "exception": false,
     "start_time": "2024-03-21T06:01:32.406672",
     "status": "completed"
    },
    "tags": []
   },
   "outputs": [],
   "source": [
    "y = strat_train.iloc[:, -1]\n",
    "X = strat_train.drop(columns='Survived')"
   ]
  },
  {
   "cell_type": "code",
   "execution_count": 22,
   "id": "139e5373",
   "metadata": {
    "execution": {
     "iopub.execute_input": "2024-03-21T06:01:32.473951Z",
     "iopub.status.busy": "2024-03-21T06:01:32.472598Z",
     "iopub.status.idle": "2024-03-21T06:01:32.480887Z",
     "shell.execute_reply": "2024-03-21T06:01:32.479546Z"
    },
    "papermill": {
     "duration": 0.03053,
     "end_time": "2024-03-21T06:01:32.483333",
     "exception": false,
     "start_time": "2024-03-21T06:01:32.452803",
     "status": "completed"
    },
    "tags": []
   },
   "outputs": [],
   "source": [
    "X_train, X_test, y_train, y_test = train_test_split(X, y, test_size=0.5, random_state=123)"
   ]
  },
  {
   "cell_type": "markdown",
   "id": "9ab618d4",
   "metadata": {
    "papermill": {
     "duration": 0.017555,
     "end_time": "2024-03-21T06:01:32.519054",
     "exception": false,
     "start_time": "2024-03-21T06:01:32.501499",
     "status": "completed"
    },
    "tags": []
   },
   "source": [
    "\n",
    "\n",
    "<hr>\n",
    "\n",
    "<p style=\"background-color:#93CDDD; font-family: 'Trebuchet MS'; font-weight: bold; color: #3a5a40; font-size: 40px; text-align: center; border-radius: 50px; padding: 10px;\">6️⃣ - Model Building and Evaluation</p>\n",
    "<a name = 6 ></a>\n",
    "<hr>\n"
   ]
  },
  {
   "cell_type": "code",
   "execution_count": 23,
   "id": "1c46b728",
   "metadata": {
    "execution": {
     "iopub.execute_input": "2024-03-21T06:01:32.556846Z",
     "iopub.status.busy": "2024-03-21T06:01:32.555586Z",
     "iopub.status.idle": "2024-03-21T06:01:32.563282Z",
     "shell.execute_reply": "2024-03-21T06:01:32.562340Z"
    },
    "papermill": {
     "duration": 0.029108,
     "end_time": "2024-03-21T06:01:32.565691",
     "exception": false,
     "start_time": "2024-03-21T06:01:32.536583",
     "status": "completed"
    },
    "tags": []
   },
   "outputs": [],
   "source": [
    "\n",
    "models = []\n",
    "models.append(('LogisticRegression',LogisticRegression(solver ='liblinear',multi_class = 'ovr')))\n",
    "models.append(('RandomForestClassifier',RandomForestClassifier()))\n",
    "models.append(('DecisionTreeClassifier',DecisionTreeClassifier()))\n",
    "models.append(('KNeighborsClassifier',KNeighborsClassifier()))\n",
    "models.append(('KNeighborsClassifier',KNeighborsClassifier()))\n",
    "models.append(('LinearDiscriminantAnalysis',LinearDiscriminantAnalysis()))\n",
    "models.append(('GaussianNB', GaussianNB()))\n",
    "models.append(('SVM',SVC(gamma = 'auto')))\n",
    "    "
   ]
  },
  {
   "cell_type": "markdown",
   "id": "5977835f",
   "metadata": {
    "papermill": {
     "duration": 0.017707,
     "end_time": "2024-03-21T06:01:32.601928",
     "exception": false,
     "start_time": "2024-03-21T06:01:32.584221",
     "status": "completed"
    },
    "tags": []
   },
   "source": [
    "## Selecting the best model based on performance."
   ]
  },
  {
   "cell_type": "code",
   "execution_count": 24,
   "id": "b24bb60b",
   "metadata": {
    "execution": {
     "iopub.execute_input": "2024-03-21T06:01:32.639532Z",
     "iopub.status.busy": "2024-03-21T06:01:32.638835Z",
     "iopub.status.idle": "2024-03-21T06:01:35.028370Z",
     "shell.execute_reply": "2024-03-21T06:01:35.027224Z"
    },
    "papermill": {
     "duration": 2.411227,
     "end_time": "2024-03-21T06:01:35.030966",
     "exception": false,
     "start_time": "2024-03-21T06:01:32.619739",
     "status": "completed"
    },
    "tags": []
   },
   "outputs": [
    {
     "name": "stdout",
     "output_type": "stream",
     "text": [
      "LogisticRegression: Mean Accuracy = 1.0000 (Std = 0.0000)\n",
      "RandomForestClassifier: Mean Accuracy = 1.0000 (Std = 0.0000)\n",
      "DecisionTreeClassifier: Mean Accuracy = 1.0000 (Std = 0.0000)\n",
      "KNeighborsClassifier: Mean Accuracy = 0.6037 (Std = 0.0737)\n",
      "KNeighborsClassifier: Mean Accuracy = 0.6037 (Std = 0.0737)\n",
      "LinearDiscriminantAnalysis: Mean Accuracy = 0.6908 (Std = 0.0371)\n",
      "GaussianNB: Mean Accuracy = 1.0000 (Std = 0.0000)\n",
      "SVM: Mean Accuracy = 0.6656 (Std = 0.0180)\n",
      "The best model is LogisticRegression with a mean accuracy of 1.0000\n"
     ]
    }
   ],
   "source": [
    "results = []\n",
    "names = []\n",
    "\n",
    "best_model = None\n",
    "best_score = 0  \n",
    "\n",
    "for name, model in models:\n",
    "    kfold = StratifiedKFold(n_splits=10)\n",
    "    cv_results = cross_validate(model, X_train, y_train, cv=kfold, scoring='accuracy')\n",
    "    results.append(cv_results['test_score'])\n",
    "    names.append(name)\n",
    "    \n",
    "    mean_score = cv_results['test_score'].mean()\n",
    "    std_score = cv_results['test_score'].std()\n",
    "    \n",
    "    print(f\"{name}: Mean Accuracy = {mean_score:.4f} (Std = {std_score:.4f})\")\n",
    "    \n",
    "    if mean_score > best_score:\n",
    "        best_score = mean_score\n",
    "        best_model = model\n",
    "\n",
    "print(f\"The best model is {best_model.__class__.__name__} with a mean accuracy of {best_score:.4f}\")"
   ]
  },
  {
   "cell_type": "code",
   "execution_count": 25,
   "id": "846f398b",
   "metadata": {
    "execution": {
     "iopub.execute_input": "2024-03-21T06:01:35.071655Z",
     "iopub.status.busy": "2024-03-21T06:01:35.070765Z",
     "iopub.status.idle": "2024-03-21T06:01:35.419863Z",
     "shell.execute_reply": "2024-03-21T06:01:35.418300Z"
    },
    "papermill": {
     "duration": 0.372864,
     "end_time": "2024-03-21T06:01:35.422836",
     "exception": false,
     "start_time": "2024-03-21T06:01:35.049972",
     "status": "completed"
    },
    "tags": []
   },
   "outputs": [
    {
     "data": {
      "image/png": "[encoded data removed]",
      "text/plain": [
       "<Figure size 1440x600 with 1 Axes>"
      ]
     },
     "metadata": {},
     "output_type": "display_data"
    }
   ],
   "source": [
    "plt.boxplot(results,labels = names)\n",
    "plt.xticks(rotation=90)\n",
    "plt.title =('Models comparison')\n",
    "# Annotate the mean, max, and min of each box with accuracy values\n",
    "for i in range(len(names)):\n",
    "    x = i + 1  # x-coordinate of the annotation\n",
    "    data = results[i]  \n",
    "    mean_value = np.mean(data)\n",
    "    max_value = np.max(data)\n",
    "    min_value = np.min(data)\n",
    "    \n",
    "    # Annotate mean value\n",
    "    plt.text(x, mean_value, f'{mean_value:.2f}', ha='center', va='bottom', fontsize=10, color='blue')\n",
    "    \n",
    "    # Annotate max value\n",
    "    plt.text(x, max_value, f' {max_value:.2f}', ha='center', va='bottom', fontsize=10, color='red')\n",
    "    \n",
    "    # Annotate min value\n",
    "    plt.text(x, min_value, f'{min_value:.2f}', ha='center', va='bottom', fontsize=10, color='green')\n",
    "\n",
    "plt.show()"
   ]
  },
  {
   "cell_type": "code",
   "execution_count": 26,
   "id": "da975427",
   "metadata": {
    "execution": {
     "iopub.execute_input": "2024-03-21T06:01:35.465327Z",
     "iopub.status.busy": "2024-03-21T06:01:35.464864Z",
     "iopub.status.idle": "2024-03-21T06:01:35.472152Z",
     "shell.execute_reply": "2024-03-21T06:01:35.470552Z"
    },
    "papermill": {
     "duration": 0.031895,
     "end_time": "2024-03-21T06:01:35.474803",
     "exception": false,
     "start_time": "2024-03-21T06:01:35.442908",
     "status": "completed"
    },
    "tags": []
   },
   "outputs": [
    {
     "name": "stdout",
     "output_type": "stream",
     "text": [
      "X_train_data shape: (356, 11)\n",
      "y_train_data shape: (356,)\n",
      "X_test shape: (356, 11)\n",
      "y_test shape: (356,)\n"
     ]
    }
   ],
   "source": [
    "print(\"X_train_data shape:\", X_train.shape)\n",
    "print(\"y_train_data shape:\", y_train.shape)\n",
    "print(\"X_test shape:\", X_test.shape)\n",
    "print(\"y_test shape:\", y_test.shape)\n"
   ]
  },
  {
   "cell_type": "markdown",
   "id": "2725b85d",
   "metadata": {
    "papermill": {
     "duration": 0.019299,
     "end_time": "2024-03-21T06:01:35.513785",
     "exception": false,
     "start_time": "2024-03-21T06:01:35.494486",
     "status": "completed"
    },
    "tags": []
   },
   "source": [
    "\n",
    "<hr>\n",
    "\n",
    "<h1 style=\"background-color:#93CDDD; font-family: 'Trebuchet MS'; font-weight: bold; color: #3a5a40; font-size: 40px; text-align: center; border-radius: 50px; padding: 10px;\">7️⃣ - Hyperparameter Tuning</h1>\n",
    "<a name = 7 ></a>\n",
    "<hr>\n"
   ]
  },
  {
   "cell_type": "code",
   "execution_count": 27,
   "id": "0f17bfd1",
   "metadata": {
    "execution": {
     "iopub.execute_input": "2024-03-21T06:01:35.556314Z",
     "iopub.status.busy": "2024-03-21T06:01:35.555714Z",
     "iopub.status.idle": "2024-03-21T06:02:01.466511Z",
     "shell.execute_reply": "2024-03-21T06:02:01.465307Z"
    },
    "papermill": {
     "duration": 25.935222,
     "end_time": "2024-03-21T06:02:01.469136",
     "exception": false,
     "start_time": "2024-03-21T06:01:35.533914",
     "status": "completed"
    },
    "tags": []
   },
   "outputs": [
    {
     "data": {
      "text/html": [
       "<style>#sk-container-id-1 {color: black;background-color: white;}#sk-container-id-1 pre{padding: 0;}#sk-container-id-1 div.sk-toggleable {background-color: white;}#sk-container-id-1 label.sk-toggleable__label {cursor: pointer;display: block;width: 100%;margin-bottom: 0;padding: 0.3em;box-sizing: border-box;text-align: center;}#sk-container-id-1 label.sk-toggleable__label-arrow:before {content: \"▸\";float: left;margin-right: 0.25em;color: #696969;}#sk-container-id-1 label.sk-toggleable__label-arrow:hover:before {color: black;}#sk-container-id-1 div.sk-estimator:hover label.sk-toggleable__label-arrow:before {color: black;}#sk-container-id-1 div.sk-toggleable__content {max-height: 0;max-width: 0;overflow: hidden;text-align: left;background-color: #f0f8ff;}#sk-container-id-1 div.sk-toggleable__content pre {margin: 0.2em;color: black;border-radius: 0.25em;background-color: #f0f8ff;}#sk-container-id-1 input.sk-toggleable__control:checked~div.sk-toggleable__content {max-height: 200px;max-width: 100%;overflow: auto;}#sk-container-id-1 input.sk-toggleable__control:checked~label.sk-toggleable__label-arrow:before {content: \"▾\";}#sk-container-id-1 div.sk-estimator input.sk-toggleable__control:checked~label.sk-toggleable__label {background-color: #d4ebff;}#sk-container-id-1 div.sk-label input.sk-toggleable__control:checked~label.sk-toggleable__label {background-color: #d4ebff;}#sk-container-id-1 input.sk-hidden--visually {border: 0;clip: rect(1px 1px 1px 1px);clip: rect(1px, 1px, 1px, 1px);height: 1px;margin: -1px;overflow: hidden;padding: 0;position: absolute;width: 1px;}#sk-container-id-1 div.sk-estimator {font-family: monospace;background-color: #f0f8ff;border: 1px dotted black;border-radius: 0.25em;box-sizing: border-box;margin-bottom: 0.5em;}#sk-container-id-1 div.sk-estimator:hover {background-color: #d4ebff;}#sk-container-id-1 div.sk-parallel-item::after {content: \"\";width: 100%;border-bottom: 1px solid gray;flex-grow: 1;}#sk-container-id-1 div.sk-label:hover label.sk-toggleable__label {background-color: #d4ebff;}#sk-container-id-1 div.sk-serial::before {content: \"\";position: absolute;border-left: 1px solid gray;box-sizing: border-box;top: 0;bottom: 0;left: 50%;z-index: 0;}#sk-container-id-1 div.sk-serial {display: flex;flex-direction: column;align-items: center;background-color: white;padding-right: 0.2em;padding-left: 0.2em;position: relative;}#sk-container-id-1 div.sk-item {position: relative;z-index: 1;}#sk-container-id-1 div.sk-parallel {display: flex;align-items: stretch;justify-content: center;background-color: white;position: relative;}#sk-container-id-1 div.sk-item::before, #sk-container-id-1 div.sk-parallel-item::before {content: \"\";position: absolute;border-left: 1px solid gray;box-sizing: border-box;top: 0;bottom: 0;left: 50%;z-index: -1;}#sk-container-id-1 div.sk-parallel-item {display: flex;flex-direction: column;z-index: 1;position: relative;background-color: white;}#sk-container-id-1 div.sk-parallel-item:first-child::after {align-self: flex-end;width: 50%;}#sk-container-id-1 div.sk-parallel-item:last-child::after {align-self: flex-start;width: 50%;}#sk-container-id-1 div.sk-parallel-item:only-child::after {width: 0;}#sk-container-id-1 div.sk-dashed-wrapped {border: 1px dashed gray;margin: 0 0.4em 0.5em 0.4em;box-sizing: border-box;padding-bottom: 0.4em;background-color: white;}#sk-container-id-1 div.sk-label label {font-family: monospace;font-weight: bold;display: inline-block;line-height: 1.2em;}#sk-container-id-1 div.sk-label-container {text-align: center;}#sk-container-id-1 div.sk-container {/* jupyter's `normalize.less` sets `[hidden] { display: none; }` but bootstrap.min.css set `[hidden] { display: none !important; }` so we also need the `!important` here to be able to override the default hidden behavior on the sphinx rendered scikit-learn.org. See: https://github.com/scikit-learn/scikit-learn/issues/21755 */display: inline-block !important;position: relative;}#sk-container-id-1 div.sk-text-repr-fallback {display: none;}</style><div id=\"sk-container-id-1\" class=\"sk-top-container\"><div class=\"sk-text-repr-fallback\"><pre>GridSearchCV(cv=3, estimator=RandomForestClassifier(),\n",
       "             param_grid=[{&#x27;max_depth&#x27;: [None, 5],\n",
       "                          &#x27;min_samples_split&#x27;: [2, 3, 4],\n",
       "                          &#x27;n_estimators&#x27;: [10, 100, 700]}],\n",
       "             return_train_score=True, scoring=&#x27;accuracy&#x27;)</pre><b>In a Jupyter environment, please rerun this cell to show the HTML representation or trust the notebook. <br />On GitHub, the HTML representation is unable to render, please try loading this page with nbviewer.org.</b></div><div class=\"sk-container\" hidden><div class=\"sk-item sk-dashed-wrapped\"><div class=\"sk-label-container\"><div class=\"sk-label sk-toggleable\"><input class=\"sk-toggleable__control sk-hidden--visually\" id=\"sk-estimator-id-1\" type=\"checkbox\" ><label for=\"sk-estimator-id-1\" class=\"sk-toggleable__label sk-toggleable__label-arrow\">GridSearchCV</label><div class=\"sk-toggleable__content\"><pre>GridSearchCV(cv=3, estimator=RandomForestClassifier(),\n",
       "             param_grid=[{&#x27;max_depth&#x27;: [None, 5],\n",
       "                          &#x27;min_samples_split&#x27;: [2, 3, 4],\n",
       "                          &#x27;n_estimators&#x27;: [10, 100, 700]}],\n",
       "             return_train_score=True, scoring=&#x27;accuracy&#x27;)</pre></div></div></div><div class=\"sk-parallel\"><div class=\"sk-parallel-item\"><div class=\"sk-item\"><div class=\"sk-label-container\"><div class=\"sk-label sk-toggleable\"><input class=\"sk-toggleable__control sk-hidden--visually\" id=\"sk-estimator-id-2\" type=\"checkbox\" ><label for=\"sk-estimator-id-2\" class=\"sk-toggleable__label sk-toggleable__label-arrow\">estimator: RandomForestClassifier</label><div class=\"sk-toggleable__content\"><pre>RandomForestClassifier()</pre></div></div></div><div class=\"sk-serial\"><div class=\"sk-item\"><div class=\"sk-estimator sk-toggleable\"><input class=\"sk-toggleable__control sk-hidden--visually\" id=\"sk-estimator-id-3\" type=\"checkbox\" ><label for=\"sk-estimator-id-3\" class=\"sk-toggleable__label sk-toggleable__label-arrow\">RandomForestClassifier</label><div class=\"sk-toggleable__content\"><pre>RandomForestClassifier()</pre></div></div></div></div></div></div></div></div></div></div>"
      ],
      "text/plain": [
       "GridSearchCV(cv=3, estimator=RandomForestClassifier(),\n",
       "             param_grid=[{'max_depth': [None, 5],\n",
       "                          'min_samples_split': [2, 3, 4],\n",
       "                          'n_estimators': [10, 100, 700]}],\n",
       "             return_train_score=True, scoring='accuracy')"
      ]
     },
     "execution_count": 27,
     "metadata": {},
     "output_type": "execute_result"
    }
   ],
   "source": [
    "#grid search cv\n",
    "\n",
    "clf = RandomForestClassifier()\n",
    "parameters = [\n",
    "    {\n",
    "    'n_estimators': [10, 100, 700],\n",
    "    'max_depth': [None, 5],\n",
    "    'min_samples_split': [2, 3, 4],\n",
    "    }\n",
    "]\n",
    "grid_search = GridSearchCV(clf,parameters,cv = 3,scoring =  \"accuracy\",return_train_score = True)\n",
    "grid_search.fit(X_train,y_train)"
   ]
  },
  {
   "cell_type": "code",
   "execution_count": 28,
   "id": "6d252a77",
   "metadata": {
    "execution": {
     "iopub.execute_input": "2024-03-21T06:02:01.510156Z",
     "iopub.status.busy": "2024-03-21T06:02:01.509747Z",
     "iopub.status.idle": "2024-03-21T06:02:01.517753Z",
     "shell.execute_reply": "2024-03-21T06:02:01.516527Z"
    },
    "papermill": {
     "duration": 0.03062,
     "end_time": "2024-03-21T06:02:01.519865",
     "exception": false,
     "start_time": "2024-03-21T06:02:01.489245",
     "status": "completed"
    },
    "tags": []
   },
   "outputs": [
    {
     "data": {
      "text/html": [
       "<style>#sk-container-id-2 {color: black;background-color: white;}#sk-container-id-2 pre{padding: 0;}#sk-container-id-2 div.sk-toggleable {background-color: white;}#sk-container-id-2 label.sk-toggleable__label {cursor: pointer;display: block;width: 100%;margin-bottom: 0;padding: 0.3em;box-sizing: border-box;text-align: center;}#sk-container-id-2 label.sk-toggleable__label-arrow:before {content: \"▸\";float: left;margin-right: 0.25em;color: #696969;}#sk-container-id-2 label.sk-toggleable__label-arrow:hover:before {color: black;}#sk-container-id-2 div.sk-estimator:hover label.sk-toggleable__label-arrow:before {color: black;}#sk-container-id-2 div.sk-toggleable__content {max-height: 0;max-width: 0;overflow: hidden;text-align: left;background-color: #f0f8ff;}#sk-container-id-2 div.sk-toggleable__content pre {margin: 0.2em;color: black;border-radius: 0.25em;background-color: #f0f8ff;}#sk-container-id-2 input.sk-toggleable__control:checked~div.sk-toggleable__content {max-height: 200px;max-width: 100%;overflow: auto;}#sk-container-id-2 input.sk-toggleable__control:checked~label.sk-toggleable__label-arrow:before {content: \"▾\";}#sk-container-id-2 div.sk-estimator input.sk-toggleable__control:checked~label.sk-toggleable__label {background-color: #d4ebff;}#sk-container-id-2 div.sk-label input.sk-toggleable__control:checked~label.sk-toggleable__label {background-color: #d4ebff;}#sk-container-id-2 input.sk-hidden--visually {border: 0;clip: rect(1px 1px 1px 1px);clip: rect(1px, 1px, 1px, 1px);height: 1px;margin: -1px;overflow: hidden;padding: 0;position: absolute;width: 1px;}#sk-container-id-2 div.sk-estimator {font-family: monospace;background-color: #f0f8ff;border: 1px dotted black;border-radius: 0.25em;box-sizing: border-box;margin-bottom: 0.5em;}#sk-container-id-2 div.sk-estimator:hover {background-color: #d4ebff;}#sk-container-id-2 div.sk-parallel-item::after {content: \"\";width: 100%;border-bottom: 1px solid gray;flex-grow: 1;}#sk-container-id-2 div.sk-label:hover label.sk-toggleable__label {background-color: #d4ebff;}#sk-container-id-2 div.sk-serial::before {content: \"\";position: absolute;border-left: 1px solid gray;box-sizing: border-box;top: 0;bottom: 0;left: 50%;z-index: 0;}#sk-container-id-2 div.sk-serial {display: flex;flex-direction: column;align-items: center;background-color: white;padding-right: 0.2em;padding-left: 0.2em;position: relative;}#sk-container-id-2 div.sk-item {position: relative;z-index: 1;}#sk-container-id-2 div.sk-parallel {display: flex;align-items: stretch;justify-content: center;background-color: white;position: relative;}#sk-container-id-2 div.sk-item::before, #sk-container-id-2 div.sk-parallel-item::before {content: \"\";position: absolute;border-left: 1px solid gray;box-sizing: border-box;top: 0;bottom: 0;left: 50%;z-index: -1;}#sk-container-id-2 div.sk-parallel-item {display: flex;flex-direction: column;z-index: 1;position: relative;background-color: white;}#sk-container-id-2 div.sk-parallel-item:first-child::after {align-self: flex-end;width: 50%;}#sk-container-id-2 div.sk-parallel-item:last-child::after {align-self: flex-start;width: 50%;}#sk-container-id-2 div.sk-parallel-item:only-child::after {width: 0;}#sk-container-id-2 div.sk-dashed-wrapped {border: 1px dashed gray;margin: 0 0.4em 0.5em 0.4em;box-sizing: border-box;padding-bottom: 0.4em;background-color: white;}#sk-container-id-2 div.sk-label label {font-family: monospace;font-weight: bold;display: inline-block;line-height: 1.2em;}#sk-container-id-2 div.sk-label-container {text-align: center;}#sk-container-id-2 div.sk-container {/* jupyter's `normalize.less` sets `[hidden] { display: none; }` but bootstrap.min.css set `[hidden] { display: none !important; }` so we also need the `!important` here to be able to override the default hidden behavior on the sphinx rendered scikit-learn.org. See: https://github.com/scikit-learn/scikit-learn/issues/21755 */display: inline-block !important;position: relative;}#sk-container-id-2 div.sk-text-repr-fallback {display: none;}</style><div id=\"sk-container-id-2\" class=\"sk-top-container\"><div class=\"sk-text-repr-fallback\"><pre>RandomForestClassifier(n_estimators=10)</pre><b>In a Jupyter environment, please rerun this cell to show the HTML representation or trust the notebook. <br />On GitHub, the HTML representation is unable to render, please try loading this page with nbviewer.org.</b></div><div class=\"sk-container\" hidden><div class=\"sk-item\"><div class=\"sk-estimator sk-toggleable\"><input class=\"sk-toggleable__control sk-hidden--visually\" id=\"sk-estimator-id-4\" type=\"checkbox\" checked><label for=\"sk-estimator-id-4\" class=\"sk-toggleable__label sk-toggleable__label-arrow\">RandomForestClassifier</label><div class=\"sk-toggleable__content\"><pre>RandomForestClassifier(n_estimators=10)</pre></div></div></div></div></div>"
      ],
      "text/plain": [
       "RandomForestClassifier(n_estimators=10)"
      ]
     },
     "execution_count": 28,
     "metadata": {},
     "output_type": "execute_result"
    }
   ],
   "source": [
    "best_estimator =grid_search.best_estimator_\n",
    "best_estimator"
   ]
  },
  {
   "cell_type": "markdown",
   "id": "ed2f0855",
   "metadata": {
    "papermill": {
     "duration": 0.018812,
     "end_time": "2024-03-21T06:02:01.557798",
     "exception": false,
     "start_time": "2024-03-21T06:02:01.538986",
     "status": "completed"
    },
    "tags": []
   },
   "source": [
    "\n",
    "\n",
    "<hr>\n",
    "\n",
    "<h1 style=\"background-color:#93CDDD; font-family: 'Trebuchet MS'; font-weight: bold; color: #3a5a40; font-size: 40px; text-align: center; border-radius: 50px; padding: 10px;\">8️⃣ -  Model Evaluation on Test Data</h1>\n",
    "\n",
    "<a name = 8 ></a>\n",
    "<hr>\n",
    "\n"
   ]
  },
  {
   "cell_type": "code",
   "execution_count": 29,
   "id": "74700401",
   "metadata": {
    "execution": {
     "iopub.execute_input": "2024-03-21T06:02:01.598290Z",
     "iopub.status.busy": "2024-03-21T06:02:01.597582Z",
     "iopub.status.idle": "2024-03-21T06:02:01.630238Z",
     "shell.execute_reply": "2024-03-21T06:02:01.629083Z"
    },
    "papermill": {
     "duration": 0.055653,
     "end_time": "2024-03-21T06:02:01.632482",
     "exception": false,
     "start_time": "2024-03-21T06:02:01.576829",
     "status": "completed"
    },
    "tags": []
   },
   "outputs": [
    {
     "data": {
      "text/html": [
       "<div>\n",
       "<style scoped>\n",
       "    .dataframe tbody tr th:only-of-type {\n",
       "        vertical-align: middle;\n",
       "    }\n",
       "\n",
       "    .dataframe tbody tr th {\n",
       "        vertical-align: top;\n",
       "    }\n",
       "\n",
       "    .dataframe thead th {\n",
       "        text-align: right;\n",
       "    }\n",
       "</style>\n",
       "<table border=\"1\" class=\"dataframe\">\n",
       "  <thead>\n",
       "    <tr style=\"text-align: right;\">\n",
       "      <th></th>\n",
       "      <th>PassengerId</th>\n",
       "      <th>Survived</th>\n",
       "      <th>Pclass</th>\n",
       "      <th>Age</th>\n",
       "      <th>SibSp</th>\n",
       "      <th>Parch</th>\n",
       "      <th>Fare</th>\n",
       "      <th>C</th>\n",
       "      <th>S</th>\n",
       "      <th>Q</th>\n",
       "      <th>Female</th>\n",
       "      <th>Male</th>\n",
       "    </tr>\n",
       "  </thead>\n",
       "  <tbody>\n",
       "    <tr>\n",
       "      <th>173</th>\n",
       "      <td>174</td>\n",
       "      <td>0</td>\n",
       "      <td>3</td>\n",
       "      <td>21.000000</td>\n",
       "      <td>0</td>\n",
       "      <td>0</td>\n",
       "      <td>7.9250</td>\n",
       "      <td>0.0</td>\n",
       "      <td>0.0</td>\n",
       "      <td>1.0</td>\n",
       "      <td>0.0</td>\n",
       "      <td>1.0</td>\n",
       "    </tr>\n",
       "    <tr>\n",
       "      <th>66</th>\n",
       "      <td>67</td>\n",
       "      <td>1</td>\n",
       "      <td>2</td>\n",
       "      <td>29.000000</td>\n",
       "      <td>0</td>\n",
       "      <td>0</td>\n",
       "      <td>10.5000</td>\n",
       "      <td>0.0</td>\n",
       "      <td>0.0</td>\n",
       "      <td>1.0</td>\n",
       "      <td>1.0</td>\n",
       "      <td>0.0</td>\n",
       "    </tr>\n",
       "    <tr>\n",
       "      <th>340</th>\n",
       "      <td>341</td>\n",
       "      <td>1</td>\n",
       "      <td>2</td>\n",
       "      <td>2.000000</td>\n",
       "      <td>1</td>\n",
       "      <td>1</td>\n",
       "      <td>26.0000</td>\n",
       "      <td>0.0</td>\n",
       "      <td>0.0</td>\n",
       "      <td>1.0</td>\n",
       "      <td>0.0</td>\n",
       "      <td>1.0</td>\n",
       "    </tr>\n",
       "    <tr>\n",
       "      <th>38</th>\n",
       "      <td>39</td>\n",
       "      <td>0</td>\n",
       "      <td>3</td>\n",
       "      <td>18.000000</td>\n",
       "      <td>2</td>\n",
       "      <td>0</td>\n",
       "      <td>18.0000</td>\n",
       "      <td>0.0</td>\n",
       "      <td>0.0</td>\n",
       "      <td>1.0</td>\n",
       "      <td>1.0</td>\n",
       "      <td>0.0</td>\n",
       "    </tr>\n",
       "    <tr>\n",
       "      <th>470</th>\n",
       "      <td>471</td>\n",
       "      <td>0</td>\n",
       "      <td>3</td>\n",
       "      <td>31.016974</td>\n",
       "      <td>0</td>\n",
       "      <td>0</td>\n",
       "      <td>7.2500</td>\n",
       "      <td>0.0</td>\n",
       "      <td>0.0</td>\n",
       "      <td>1.0</td>\n",
       "      <td>0.0</td>\n",
       "      <td>1.0</td>\n",
       "    </tr>\n",
       "    <tr>\n",
       "      <th>...</th>\n",
       "      <td>...</td>\n",
       "      <td>...</td>\n",
       "      <td>...</td>\n",
       "      <td>...</td>\n",
       "      <td>...</td>\n",
       "      <td>...</td>\n",
       "      <td>...</td>\n",
       "      <td>...</td>\n",
       "      <td>...</td>\n",
       "      <td>...</td>\n",
       "      <td>...</td>\n",
       "      <td>...</td>\n",
       "    </tr>\n",
       "    <tr>\n",
       "      <th>749</th>\n",
       "      <td>750</td>\n",
       "      <td>0</td>\n",
       "      <td>3</td>\n",
       "      <td>31.000000</td>\n",
       "      <td>0</td>\n",
       "      <td>0</td>\n",
       "      <td>7.7500</td>\n",
       "      <td>0.0</td>\n",
       "      <td>1.0</td>\n",
       "      <td>0.0</td>\n",
       "      <td>0.0</td>\n",
       "      <td>1.0</td>\n",
       "    </tr>\n",
       "    <tr>\n",
       "      <th>369</th>\n",
       "      <td>370</td>\n",
       "      <td>1</td>\n",
       "      <td>1</td>\n",
       "      <td>24.000000</td>\n",
       "      <td>0</td>\n",
       "      <td>0</td>\n",
       "      <td>69.3000</td>\n",
       "      <td>1.0</td>\n",
       "      <td>0.0</td>\n",
       "      <td>0.0</td>\n",
       "      <td>1.0</td>\n",
       "      <td>0.0</td>\n",
       "    </tr>\n",
       "    <tr>\n",
       "      <th>160</th>\n",
       "      <td>161</td>\n",
       "      <td>0</td>\n",
       "      <td>3</td>\n",
       "      <td>44.000000</td>\n",
       "      <td>0</td>\n",
       "      <td>1</td>\n",
       "      <td>16.1000</td>\n",
       "      <td>0.0</td>\n",
       "      <td>0.0</td>\n",
       "      <td>1.0</td>\n",
       "      <td>0.0</td>\n",
       "      <td>1.0</td>\n",
       "    </tr>\n",
       "    <tr>\n",
       "      <th>125</th>\n",
       "      <td>126</td>\n",
       "      <td>1</td>\n",
       "      <td>3</td>\n",
       "      <td>12.000000</td>\n",
       "      <td>1</td>\n",
       "      <td>0</td>\n",
       "      <td>11.2417</td>\n",
       "      <td>1.0</td>\n",
       "      <td>0.0</td>\n",
       "      <td>0.0</td>\n",
       "      <td>0.0</td>\n",
       "      <td>1.0</td>\n",
       "    </tr>\n",
       "    <tr>\n",
       "      <th>663</th>\n",
       "      <td>664</td>\n",
       "      <td>0</td>\n",
       "      <td>3</td>\n",
       "      <td>36.000000</td>\n",
       "      <td>0</td>\n",
       "      <td>0</td>\n",
       "      <td>7.4958</td>\n",
       "      <td>0.0</td>\n",
       "      <td>0.0</td>\n",
       "      <td>1.0</td>\n",
       "      <td>0.0</td>\n",
       "      <td>1.0</td>\n",
       "    </tr>\n",
       "  </tbody>\n",
       "</table>\n",
       "<p>179 rows × 12 columns</p>\n",
       "</div>"
      ],
      "text/plain": [
       "     PassengerId  Survived  Pclass        Age  SibSp  Parch     Fare    C  \\\n",
       "173          174         0       3  21.000000      0      0   7.9250  0.0   \n",
       "66            67         1       2  29.000000      0      0  10.5000  0.0   \n",
       "340          341         1       2   2.000000      1      1  26.0000  0.0   \n",
       "38            39         0       3  18.000000      2      0  18.0000  0.0   \n",
       "470          471         0       3  31.016974      0      0   7.2500  0.0   \n",
       "..           ...       ...     ...        ...    ...    ...      ...  ...   \n",
       "749          750         0       3  31.000000      0      0   7.7500  0.0   \n",
       "369          370         1       1  24.000000      0      0  69.3000  1.0   \n",
       "160          161         0       3  44.000000      0      1  16.1000  0.0   \n",
       "125          126         1       3  12.000000      1      0  11.2417  1.0   \n",
       "663          664         0       3  36.000000      0      0   7.4958  0.0   \n",
       "\n",
       "       S    Q  Female  Male  \n",
       "173  0.0  1.0     0.0   1.0  \n",
       "66   0.0  1.0     1.0   0.0  \n",
       "340  0.0  1.0     0.0   1.0  \n",
       "38   0.0  1.0     1.0   0.0  \n",
       "470  0.0  1.0     0.0   1.0  \n",
       "..   ...  ...     ...   ...  \n",
       "749  1.0  0.0     0.0   1.0  \n",
       "369  0.0  0.0     1.0   0.0  \n",
       "160  0.0  1.0     0.0   1.0  \n",
       "125  0.0  0.0     0.0   1.0  \n",
       "663  0.0  1.0     0.0   1.0  \n",
       "\n",
       "[179 rows x 12 columns]"
      ]
     },
     "execution_count": 29,
     "metadata": {},
     "output_type": "execute_result"
    }
   ],
   "source": [
    "strat_test =pipeline.fit_transform(strat_test)\n",
    "strat_test"
   ]
  },
  {
   "cell_type": "code",
   "execution_count": 30,
   "id": "e03854de",
   "metadata": {
    "execution": {
     "iopub.execute_input": "2024-03-21T06:02:01.674279Z",
     "iopub.status.busy": "2024-03-21T06:02:01.673824Z",
     "iopub.status.idle": "2024-03-21T06:02:01.686538Z",
     "shell.execute_reply": "2024-03-21T06:02:01.685310Z"
    },
    "papermill": {
     "duration": 0.036344,
     "end_time": "2024-03-21T06:02:01.688908",
     "exception": false,
     "start_time": "2024-03-21T06:02:01.652564",
     "status": "completed"
    },
    "tags": []
   },
   "outputs": [],
   "source": [
    "X_test = strat_test .drop ( ['Survived'],axis = 1)\n",
    "Y_test = strat_test ['Survived']\n",
    "\n",
    "scaler = StandardScaler()\n",
    "X_test_data =scaler.fit_transform(X_test)\n",
    "Y_test_data = Y_test.to_numpy()\n"
   ]
  },
  {
   "cell_type": "code",
   "execution_count": 31,
   "id": "e00084c7",
   "metadata": {
    "execution": {
     "iopub.execute_input": "2024-03-21T06:02:01.732344Z",
     "iopub.status.busy": "2024-03-21T06:02:01.731895Z",
     "iopub.status.idle": "2024-03-21T06:02:01.742701Z",
     "shell.execute_reply": "2024-03-21T06:02:01.741537Z"
    },
    "papermill": {
     "duration": 0.035722,
     "end_time": "2024-03-21T06:02:01.745236",
     "exception": false,
     "start_time": "2024-03-21T06:02:01.709514",
     "status": "completed"
    },
    "tags": []
   },
   "outputs": [
    {
     "data": {
      "text/plain": [
       "0.2122905027932961"
      ]
     },
     "execution_count": 31,
     "metadata": {},
     "output_type": "execute_result"
    }
   ],
   "source": [
    "Score =best_estimator.score(X_test_data,Y_test_data)\n",
    "Score"
   ]
  },
  {
   "cell_type": "markdown",
   "id": "b385a6a3",
   "metadata": {
    "papermill": {
     "duration": 0.020556,
     "end_time": "2024-03-21T06:02:01.785928",
     "exception": false,
     "start_time": "2024-03-21T06:02:01.765372",
     "status": "completed"
    },
    "tags": []
   },
   "source": [
    "\n",
    "\n",
    "<hr>\n",
    "\n",
    "<h1 style=\"background-color:#93CDDD; font-family: 'Trebuchet MS'; font-weight: bold; color: #3a5a40; font-size: 40px; text-align: center; border-radius: 50px; padding: 10px;\">9️⃣ - Preparing the Final Submission</h1>\n",
    "<a name = 9 ></a>\n",
    "<hr>\n",
    "\n",
    "\n"
   ]
  },
  {
   "cell_type": "code",
   "execution_count": 32,
   "id": "b55e381e",
   "metadata": {
    "execution": {
     "iopub.execute_input": "2024-03-21T06:02:01.828383Z",
     "iopub.status.busy": "2024-03-21T06:02:01.827945Z",
     "iopub.status.idle": "2024-03-21T06:02:01.866059Z",
     "shell.execute_reply": "2024-03-21T06:02:01.864684Z"
    },
    "papermill": {
     "duration": 0.062667,
     "end_time": "2024-03-21T06:02:01.868903",
     "exception": false,
     "start_time": "2024-03-21T06:02:01.806236",
     "status": "completed"
    },
    "tags": []
   },
   "outputs": [
    {
     "data": {
      "text/html": [
       "<div>\n",
       "<style scoped>\n",
       "    .dataframe tbody tr th:only-of-type {\n",
       "        vertical-align: middle;\n",
       "    }\n",
       "\n",
       "    .dataframe tbody tr th {\n",
       "        vertical-align: top;\n",
       "    }\n",
       "\n",
       "    .dataframe thead th {\n",
       "        text-align: right;\n",
       "    }\n",
       "</style>\n",
       "<table border=\"1\" class=\"dataframe\">\n",
       "  <thead>\n",
       "    <tr style=\"text-align: right;\">\n",
       "      <th></th>\n",
       "      <th>PassengerId</th>\n",
       "      <th>Survived</th>\n",
       "      <th>Pclass</th>\n",
       "      <th>Age</th>\n",
       "      <th>SibSp</th>\n",
       "      <th>Parch</th>\n",
       "      <th>Fare</th>\n",
       "      <th>C</th>\n",
       "      <th>S</th>\n",
       "      <th>Q</th>\n",
       "      <th>Female</th>\n",
       "      <th>Male</th>\n",
       "    </tr>\n",
       "  </thead>\n",
       "  <tbody>\n",
       "    <tr>\n",
       "      <th>0</th>\n",
       "      <td>1</td>\n",
       "      <td>0</td>\n",
       "      <td>3</td>\n",
       "      <td>22.000000</td>\n",
       "      <td>1</td>\n",
       "      <td>0</td>\n",
       "      <td>7.2500</td>\n",
       "      <td>0.0</td>\n",
       "      <td>0.0</td>\n",
       "      <td>1.0</td>\n",
       "      <td>0.0</td>\n",
       "      <td>1.0</td>\n",
       "    </tr>\n",
       "    <tr>\n",
       "      <th>1</th>\n",
       "      <td>2</td>\n",
       "      <td>1</td>\n",
       "      <td>1</td>\n",
       "      <td>38.000000</td>\n",
       "      <td>1</td>\n",
       "      <td>0</td>\n",
       "      <td>71.2833</td>\n",
       "      <td>1.0</td>\n",
       "      <td>0.0</td>\n",
       "      <td>0.0</td>\n",
       "      <td>1.0</td>\n",
       "      <td>0.0</td>\n",
       "    </tr>\n",
       "    <tr>\n",
       "      <th>2</th>\n",
       "      <td>3</td>\n",
       "      <td>1</td>\n",
       "      <td>3</td>\n",
       "      <td>26.000000</td>\n",
       "      <td>0</td>\n",
       "      <td>0</td>\n",
       "      <td>7.9250</td>\n",
       "      <td>0.0</td>\n",
       "      <td>0.0</td>\n",
       "      <td>1.0</td>\n",
       "      <td>1.0</td>\n",
       "      <td>0.0</td>\n",
       "    </tr>\n",
       "    <tr>\n",
       "      <th>3</th>\n",
       "      <td>4</td>\n",
       "      <td>1</td>\n",
       "      <td>1</td>\n",
       "      <td>35.000000</td>\n",
       "      <td>1</td>\n",
       "      <td>0</td>\n",
       "      <td>53.1000</td>\n",
       "      <td>0.0</td>\n",
       "      <td>0.0</td>\n",
       "      <td>1.0</td>\n",
       "      <td>1.0</td>\n",
       "      <td>0.0</td>\n",
       "    </tr>\n",
       "    <tr>\n",
       "      <th>4</th>\n",
       "      <td>5</td>\n",
       "      <td>0</td>\n",
       "      <td>3</td>\n",
       "      <td>35.000000</td>\n",
       "      <td>0</td>\n",
       "      <td>0</td>\n",
       "      <td>8.0500</td>\n",
       "      <td>0.0</td>\n",
       "      <td>0.0</td>\n",
       "      <td>1.0</td>\n",
       "      <td>0.0</td>\n",
       "      <td>1.0</td>\n",
       "    </tr>\n",
       "    <tr>\n",
       "      <th>...</th>\n",
       "      <td>...</td>\n",
       "      <td>...</td>\n",
       "      <td>...</td>\n",
       "      <td>...</td>\n",
       "      <td>...</td>\n",
       "      <td>...</td>\n",
       "      <td>...</td>\n",
       "      <td>...</td>\n",
       "      <td>...</td>\n",
       "      <td>...</td>\n",
       "      <td>...</td>\n",
       "      <td>...</td>\n",
       "    </tr>\n",
       "    <tr>\n",
       "      <th>886</th>\n",
       "      <td>887</td>\n",
       "      <td>0</td>\n",
       "      <td>2</td>\n",
       "      <td>27.000000</td>\n",
       "      <td>0</td>\n",
       "      <td>0</td>\n",
       "      <td>13.0000</td>\n",
       "      <td>0.0</td>\n",
       "      <td>0.0</td>\n",
       "      <td>1.0</td>\n",
       "      <td>0.0</td>\n",
       "      <td>1.0</td>\n",
       "    </tr>\n",
       "    <tr>\n",
       "      <th>887</th>\n",
       "      <td>888</td>\n",
       "      <td>1</td>\n",
       "      <td>1</td>\n",
       "      <td>19.000000</td>\n",
       "      <td>0</td>\n",
       "      <td>0</td>\n",
       "      <td>30.0000</td>\n",
       "      <td>0.0</td>\n",
       "      <td>0.0</td>\n",
       "      <td>1.0</td>\n",
       "      <td>1.0</td>\n",
       "      <td>0.0</td>\n",
       "    </tr>\n",
       "    <tr>\n",
       "      <th>888</th>\n",
       "      <td>889</td>\n",
       "      <td>0</td>\n",
       "      <td>3</td>\n",
       "      <td>29.699118</td>\n",
       "      <td>1</td>\n",
       "      <td>2</td>\n",
       "      <td>23.4500</td>\n",
       "      <td>0.0</td>\n",
       "      <td>0.0</td>\n",
       "      <td>1.0</td>\n",
       "      <td>1.0</td>\n",
       "      <td>0.0</td>\n",
       "    </tr>\n",
       "    <tr>\n",
       "      <th>889</th>\n",
       "      <td>890</td>\n",
       "      <td>1</td>\n",
       "      <td>1</td>\n",
       "      <td>26.000000</td>\n",
       "      <td>0</td>\n",
       "      <td>0</td>\n",
       "      <td>30.0000</td>\n",
       "      <td>1.0</td>\n",
       "      <td>0.0</td>\n",
       "      <td>0.0</td>\n",
       "      <td>0.0</td>\n",
       "      <td>1.0</td>\n",
       "    </tr>\n",
       "    <tr>\n",
       "      <th>890</th>\n",
       "      <td>891</td>\n",
       "      <td>0</td>\n",
       "      <td>3</td>\n",
       "      <td>32.000000</td>\n",
       "      <td>0</td>\n",
       "      <td>0</td>\n",
       "      <td>7.7500</td>\n",
       "      <td>0.0</td>\n",
       "      <td>1.0</td>\n",
       "      <td>0.0</td>\n",
       "      <td>0.0</td>\n",
       "      <td>1.0</td>\n",
       "    </tr>\n",
       "  </tbody>\n",
       "</table>\n",
       "<p>891 rows × 12 columns</p>\n",
       "</div>"
      ],
      "text/plain": [
       "     PassengerId  Survived  Pclass        Age  SibSp  Parch     Fare    C  \\\n",
       "0              1         0       3  22.000000      1      0   7.2500  0.0   \n",
       "1              2         1       1  38.000000      1      0  71.2833  1.0   \n",
       "2              3         1       3  26.000000      0      0   7.9250  0.0   \n",
       "3              4         1       1  35.000000      1      0  53.1000  0.0   \n",
       "4              5         0       3  35.000000      0      0   8.0500  0.0   \n",
       "..           ...       ...     ...        ...    ...    ...      ...  ...   \n",
       "886          887         0       2  27.000000      0      0  13.0000  0.0   \n",
       "887          888         1       1  19.000000      0      0  30.0000  0.0   \n",
       "888          889         0       3  29.699118      1      2  23.4500  0.0   \n",
       "889          890         1       1  26.000000      0      0  30.0000  1.0   \n",
       "890          891         0       3  32.000000      0      0   7.7500  0.0   \n",
       "\n",
       "       S    Q  Female  Male  \n",
       "0    0.0  1.0     0.0   1.0  \n",
       "1    0.0  0.0     1.0   0.0  \n",
       "2    0.0  1.0     1.0   0.0  \n",
       "3    0.0  1.0     1.0   0.0  \n",
       "4    0.0  1.0     0.0   1.0  \n",
       "..   ...  ...     ...   ...  \n",
       "886  0.0  1.0     0.0   1.0  \n",
       "887  0.0  1.0     1.0   0.0  \n",
       "888  0.0  1.0     1.0   0.0  \n",
       "889  0.0  0.0     0.0   1.0  \n",
       "890  1.0  0.0     0.0   1.0  \n",
       "\n",
       "[891 rows x 12 columns]"
      ]
     },
     "execution_count": 32,
     "metadata": {},
     "output_type": "execute_result"
    }
   ],
   "source": [
    "#applay the prediction for all the data\n",
    "\n",
    "final_data =pipeline.fit_transform(titanic)\n",
    "final_data"
   ]
  },
  {
   "cell_type": "code",
   "execution_count": 33,
   "id": "b909c48a",
   "metadata": {
    "execution": {
     "iopub.execute_input": "2024-03-21T06:02:01.914302Z",
     "iopub.status.busy": "2024-03-21T06:02:01.913504Z",
     "iopub.status.idle": "2024-03-21T06:02:01.926644Z",
     "shell.execute_reply": "2024-03-21T06:02:01.925521Z"
    },
    "papermill": {
     "duration": 0.038915,
     "end_time": "2024-03-21T06:02:01.929232",
     "exception": false,
     "start_time": "2024-03-21T06:02:01.890317",
     "status": "completed"
    },
    "tags": []
   },
   "outputs": [],
   "source": [
    "X_final = final_data.drop (['Survived'],axis =1)\n",
    "Y_final = final_data['Survived']\n",
    "\n",
    "scaler =StandardScaler()\n",
    "X_final_Scal = scaler.fit_transform(X_final)\n",
    "Y_final_Scal = Y_final.to_numpy()"
   ]
  },
  {
   "cell_type": "code",
   "execution_count": 34,
   "id": "6396b25f",
   "metadata": {
    "execution": {
     "iopub.execute_input": "2024-03-21T06:02:01.972514Z",
     "iopub.status.busy": "2024-03-21T06:02:01.972071Z",
     "iopub.status.idle": "2024-03-21T06:02:34.457729Z",
     "shell.execute_reply": "2024-03-21T06:02:34.456127Z"
    },
    "papermill": {
     "duration": 32.529322,
     "end_time": "2024-03-21T06:02:34.479754",
     "exception": false,
     "start_time": "2024-03-21T06:02:01.950432",
     "status": "completed"
    },
    "tags": []
   },
   "outputs": [
    {
     "data": {
      "text/html": [
       "<style>#sk-container-id-3 {color: black;background-color: white;}#sk-container-id-3 pre{padding: 0;}#sk-container-id-3 div.sk-toggleable {background-color: white;}#sk-container-id-3 label.sk-toggleable__label {cursor: pointer;display: block;width: 100%;margin-bottom: 0;padding: 0.3em;box-sizing: border-box;text-align: center;}#sk-container-id-3 label.sk-toggleable__label-arrow:before {content: \"▸\";float: left;margin-right: 0.25em;color: #696969;}#sk-container-id-3 label.sk-toggleable__label-arrow:hover:before {color: black;}#sk-container-id-3 div.sk-estimator:hover label.sk-toggleable__label-arrow:before {color: black;}#sk-container-id-3 div.sk-toggleable__content {max-height: 0;max-width: 0;overflow: hidden;text-align: left;background-color: #f0f8ff;}#sk-container-id-3 div.sk-toggleable__content pre {margin: 0.2em;color: black;border-radius: 0.25em;background-color: #f0f8ff;}#sk-container-id-3 input.sk-toggleable__control:checked~div.sk-toggleable__content {max-height: 200px;max-width: 100%;overflow: auto;}#sk-container-id-3 input.sk-toggleable__control:checked~label.sk-toggleable__label-arrow:before {content: \"▾\";}#sk-container-id-3 div.sk-estimator input.sk-toggleable__control:checked~label.sk-toggleable__label {background-color: #d4ebff;}#sk-container-id-3 div.sk-label input.sk-toggleable__control:checked~label.sk-toggleable__label {background-color: #d4ebff;}#sk-container-id-3 input.sk-hidden--visually {border: 0;clip: rect(1px 1px 1px 1px);clip: rect(1px, 1px, 1px, 1px);height: 1px;margin: -1px;overflow: hidden;padding: 0;position: absolute;width: 1px;}#sk-container-id-3 div.sk-estimator {font-family: monospace;background-color: #f0f8ff;border: 1px dotted black;border-radius: 0.25em;box-sizing: border-box;margin-bottom: 0.5em;}#sk-container-id-3 div.sk-estimator:hover {background-color: #d4ebff;}#sk-container-id-3 div.sk-parallel-item::after {content: \"\";width: 100%;border-bottom: 1px solid gray;flex-grow: 1;}#sk-container-id-3 div.sk-label:hover label.sk-toggleable__label {background-color: #d4ebff;}#sk-container-id-3 div.sk-serial::before {content: \"\";position: absolute;border-left: 1px solid gray;box-sizing: border-box;top: 0;bottom: 0;left: 50%;z-index: 0;}#sk-container-id-3 div.sk-serial {display: flex;flex-direction: column;align-items: center;background-color: white;padding-right: 0.2em;padding-left: 0.2em;position: relative;}#sk-container-id-3 div.sk-item {position: relative;z-index: 1;}#sk-container-id-3 div.sk-parallel {display: flex;align-items: stretch;justify-content: center;background-color: white;position: relative;}#sk-container-id-3 div.sk-item::before, #sk-container-id-3 div.sk-parallel-item::before {content: \"\";position: absolute;border-left: 1px solid gray;box-sizing: border-box;top: 0;bottom: 0;left: 50%;z-index: -1;}#sk-container-id-3 div.sk-parallel-item {display: flex;flex-direction: column;z-index: 1;position: relative;background-color: white;}#sk-container-id-3 div.sk-parallel-item:first-child::after {align-self: flex-end;width: 50%;}#sk-container-id-3 div.sk-parallel-item:last-child::after {align-self: flex-start;width: 50%;}#sk-container-id-3 div.sk-parallel-item:only-child::after {width: 0;}#sk-container-id-3 div.sk-dashed-wrapped {border: 1px dashed gray;margin: 0 0.4em 0.5em 0.4em;box-sizing: border-box;padding-bottom: 0.4em;background-color: white;}#sk-container-id-3 div.sk-label label {font-family: monospace;font-weight: bold;display: inline-block;line-height: 1.2em;}#sk-container-id-3 div.sk-label-container {text-align: center;}#sk-container-id-3 div.sk-container {/* jupyter's `normalize.less` sets `[hidden] { display: none; }` but bootstrap.min.css set `[hidden] { display: none !important; }` so we also need the `!important` here to be able to override the default hidden behavior on the sphinx rendered scikit-learn.org. See: https://github.com/scikit-learn/scikit-learn/issues/21755 */display: inline-block !important;position: relative;}#sk-container-id-3 div.sk-text-repr-fallback {display: none;}</style><div id=\"sk-container-id-3\" class=\"sk-top-container\"><div class=\"sk-text-repr-fallback\"><pre>GridSearchCV(cv=3, estimator=RandomForestClassifier(),\n",
       "             param_grid=[{&#x27;max_depth&#x27;: [None, 5],\n",
       "                          &#x27;min_samples_split&#x27;: [2, 3, 4],\n",
       "                          &#x27;n_estimators&#x27;: [10, 100, 700]}],\n",
       "             return_train_score=True, scoring=&#x27;accuracy&#x27;)</pre><b>In a Jupyter environment, please rerun this cell to show the HTML representation or trust the notebook. <br />On GitHub, the HTML representation is unable to render, please try loading this page with nbviewer.org.</b></div><div class=\"sk-container\" hidden><div class=\"sk-item sk-dashed-wrapped\"><div class=\"sk-label-container\"><div class=\"sk-label sk-toggleable\"><input class=\"sk-toggleable__control sk-hidden--visually\" id=\"sk-estimator-id-5\" type=\"checkbox\" ><label for=\"sk-estimator-id-5\" class=\"sk-toggleable__label sk-toggleable__label-arrow\">GridSearchCV</label><div class=\"sk-toggleable__content\"><pre>GridSearchCV(cv=3, estimator=RandomForestClassifier(),\n",
       "             param_grid=[{&#x27;max_depth&#x27;: [None, 5],\n",
       "                          &#x27;min_samples_split&#x27;: [2, 3, 4],\n",
       "                          &#x27;n_estimators&#x27;: [10, 100, 700]}],\n",
       "             return_train_score=True, scoring=&#x27;accuracy&#x27;)</pre></div></div></div><div class=\"sk-parallel\"><div class=\"sk-parallel-item\"><div class=\"sk-item\"><div class=\"sk-label-container\"><div class=\"sk-label sk-toggleable\"><input class=\"sk-toggleable__control sk-hidden--visually\" id=\"sk-estimator-id-6\" type=\"checkbox\" ><label for=\"sk-estimator-id-6\" class=\"sk-toggleable__label sk-toggleable__label-arrow\">estimator: RandomForestClassifier</label><div class=\"sk-toggleable__content\"><pre>RandomForestClassifier()</pre></div></div></div><div class=\"sk-serial\"><div class=\"sk-item\"><div class=\"sk-estimator sk-toggleable\"><input class=\"sk-toggleable__control sk-hidden--visually\" id=\"sk-estimator-id-7\" type=\"checkbox\" ><label for=\"sk-estimator-id-7\" class=\"sk-toggleable__label sk-toggleable__label-arrow\">RandomForestClassifier</label><div class=\"sk-toggleable__content\"><pre>RandomForestClassifier()</pre></div></div></div></div></div></div></div></div></div></div>"
      ],
      "text/plain": [
       "GridSearchCV(cv=3, estimator=RandomForestClassifier(),\n",
       "             param_grid=[{'max_depth': [None, 5],\n",
       "                          'min_samples_split': [2, 3, 4],\n",
       "                          'n_estimators': [10, 100, 700]}],\n",
       "             return_train_score=True, scoring='accuracy')"
      ]
     },
     "execution_count": 34,
     "metadata": {},
     "output_type": "execute_result"
    }
   ],
   "source": [
    "clf_final = RandomForestClassifier()\n",
    "parameters = [\n",
    "    {\n",
    "    'n_estimators': [10, 100, 700],\n",
    "    'max_depth': [None, 5],\n",
    "    'min_samples_split': [2, 3, 4],\n",
    "    }\n",
    "]\n",
    "\n",
    "grid_search = GridSearchCV(clf_final,parameters,cv = 3,scoring =  \"accuracy\",return_train_score = True)\n",
    "grid_search.fit(X_final_Scal,Y_final_Scal)"
   ]
  },
  {
   "cell_type": "code",
   "execution_count": 35,
   "id": "5bab70aa",
   "metadata": {
    "execution": {
     "iopub.execute_input": "2024-03-21T06:02:34.523800Z",
     "iopub.status.busy": "2024-03-21T06:02:34.522683Z",
     "iopub.status.idle": "2024-03-21T06:02:34.531927Z",
     "shell.execute_reply": "2024-03-21T06:02:34.530520Z"
    },
    "papermill": {
     "duration": 0.033944,
     "end_time": "2024-03-21T06:02:34.534295",
     "exception": false,
     "start_time": "2024-03-21T06:02:34.500351",
     "status": "completed"
    },
    "tags": []
   },
   "outputs": [
    {
     "data": {
      "text/html": [
       "<style>#sk-container-id-4 {color: black;background-color: white;}#sk-container-id-4 pre{padding: 0;}#sk-container-id-4 div.sk-toggleable {background-color: white;}#sk-container-id-4 label.sk-toggleable__label {cursor: pointer;display: block;width: 100%;margin-bottom: 0;padding: 0.3em;box-sizing: border-box;text-align: center;}#sk-container-id-4 label.sk-toggleable__label-arrow:before {content: \"▸\";float: left;margin-right: 0.25em;color: #696969;}#sk-container-id-4 label.sk-toggleable__label-arrow:hover:before {color: black;}#sk-container-id-4 div.sk-estimator:hover label.sk-toggleable__label-arrow:before {color: black;}#sk-container-id-4 div.sk-toggleable__content {max-height: 0;max-width: 0;overflow: hidden;text-align: left;background-color: #f0f8ff;}#sk-container-id-4 div.sk-toggleable__content pre {margin: 0.2em;color: black;border-radius: 0.25em;background-color: #f0f8ff;}#sk-container-id-4 input.sk-toggleable__control:checked~div.sk-toggleable__content {max-height: 200px;max-width: 100%;overflow: auto;}#sk-container-id-4 input.sk-toggleable__control:checked~label.sk-toggleable__label-arrow:before {content: \"▾\";}#sk-container-id-4 div.sk-estimator input.sk-toggleable__control:checked~label.sk-toggleable__label {background-color: #d4ebff;}#sk-container-id-4 div.sk-label input.sk-toggleable__control:checked~label.sk-toggleable__label {background-color: #d4ebff;}#sk-container-id-4 input.sk-hidden--visually {border: 0;clip: rect(1px 1px 1px 1px);clip: rect(1px, 1px, 1px, 1px);height: 1px;margin: -1px;overflow: hidden;padding: 0;position: absolute;width: 1px;}#sk-container-id-4 div.sk-estimator {font-family: monospace;background-color: #f0f8ff;border: 1px dotted black;border-radius: 0.25em;box-sizing: border-box;margin-bottom: 0.5em;}#sk-container-id-4 div.sk-estimator:hover {background-color: #d4ebff;}#sk-container-id-4 div.sk-parallel-item::after {content: \"\";width: 100%;border-bottom: 1px solid gray;flex-grow: 1;}#sk-container-id-4 div.sk-label:hover label.sk-toggleable__label {background-color: #d4ebff;}#sk-container-id-4 div.sk-serial::before {content: \"\";position: absolute;border-left: 1px solid gray;box-sizing: border-box;top: 0;bottom: 0;left: 50%;z-index: 0;}#sk-container-id-4 div.sk-serial {display: flex;flex-direction: column;align-items: center;background-color: white;padding-right: 0.2em;padding-left: 0.2em;position: relative;}#sk-container-id-4 div.sk-item {position: relative;z-index: 1;}#sk-container-id-4 div.sk-parallel {display: flex;align-items: stretch;justify-content: center;background-color: white;position: relative;}#sk-container-id-4 div.sk-item::before, #sk-container-id-4 div.sk-parallel-item::before {content: \"\";position: absolute;border-left: 1px solid gray;box-sizing: border-box;top: 0;bottom: 0;left: 50%;z-index: -1;}#sk-container-id-4 div.sk-parallel-item {display: flex;flex-direction: column;z-index: 1;position: relative;background-color: white;}#sk-container-id-4 div.sk-parallel-item:first-child::after {align-self: flex-end;width: 50%;}#sk-container-id-4 div.sk-parallel-item:last-child::after {align-self: flex-start;width: 50%;}#sk-container-id-4 div.sk-parallel-item:only-child::after {width: 0;}#sk-container-id-4 div.sk-dashed-wrapped {border: 1px dashed gray;margin: 0 0.4em 0.5em 0.4em;box-sizing: border-box;padding-bottom: 0.4em;background-color: white;}#sk-container-id-4 div.sk-label label {font-family: monospace;font-weight: bold;display: inline-block;line-height: 1.2em;}#sk-container-id-4 div.sk-label-container {text-align: center;}#sk-container-id-4 div.sk-container {/* jupyter's `normalize.less` sets `[hidden] { display: none; }` but bootstrap.min.css set `[hidden] { display: none !important; }` so we also need the `!important` here to be able to override the default hidden behavior on the sphinx rendered scikit-learn.org. See: https://github.com/scikit-learn/scikit-learn/issues/21755 */display: inline-block !important;position: relative;}#sk-container-id-4 div.sk-text-repr-fallback {display: none;}</style><div id=\"sk-container-id-4\" class=\"sk-top-container\"><div class=\"sk-text-repr-fallback\"><pre>RandomForestClassifier(max_depth=5, min_samples_split=4, n_estimators=700)</pre><b>In a Jupyter environment, please rerun this cell to show the HTML representation or trust the notebook. <br />On GitHub, the HTML representation is unable to render, please try loading this page with nbviewer.org.</b></div><div class=\"sk-container\" hidden><div class=\"sk-item\"><div class=\"sk-estimator sk-toggleable\"><input class=\"sk-toggleable__control sk-hidden--visually\" id=\"sk-estimator-id-8\" type=\"checkbox\" checked><label for=\"sk-estimator-id-8\" class=\"sk-toggleable__label sk-toggleable__label-arrow\">RandomForestClassifier</label><div class=\"sk-toggleable__content\"><pre>RandomForestClassifier(max_depth=5, min_samples_split=4, n_estimators=700)</pre></div></div></div></div></div>"
      ],
      "text/plain": [
       "RandomForestClassifier(max_depth=5, min_samples_split=4, n_estimators=700)"
      ]
     },
     "execution_count": 35,
     "metadata": {},
     "output_type": "execute_result"
    }
   ],
   "source": [
    "final_best_estimator= grid_search.best_estimator_\n",
    "final_best_estimator"
   ]
  },
  {
   "cell_type": "code",
   "execution_count": 36,
   "id": "e54545e7",
   "metadata": {
    "execution": {
     "iopub.execute_input": "2024-03-21T06:02:34.578606Z",
     "iopub.status.busy": "2024-03-21T06:02:34.578113Z",
     "iopub.status.idle": "2024-03-21T06:02:34.674127Z",
     "shell.execute_reply": "2024-03-21T06:02:34.672823Z"
    },
    "papermill": {
     "duration": 0.120821,
     "end_time": "2024-03-21T06:02:34.676760",
     "exception": false,
     "start_time": "2024-03-21T06:02:34.555939",
     "status": "completed"
    },
    "tags": []
   },
   "outputs": [
    {
     "data": {
      "text/plain": [
       "0.8507295173961841"
      ]
     },
     "execution_count": 36,
     "metadata": {},
     "output_type": "execute_result"
    }
   ],
   "source": [
    "accuracy = final_best_estimator.score(X_final_Scal, Y_final_Scal)\n",
    "accuracy"
   ]
  },
  {
   "cell_type": "code",
   "execution_count": 37,
   "id": "31e08d50",
   "metadata": {
    "execution": {
     "iopub.execute_input": "2024-03-21T06:02:34.721116Z",
     "iopub.status.busy": "2024-03-21T06:02:34.720702Z",
     "iopub.status.idle": "2024-03-21T06:02:34.737146Z",
     "shell.execute_reply": "2024-03-21T06:02:34.735948Z"
    },
    "papermill": {
     "duration": 0.041778,
     "end_time": "2024-03-21T06:02:34.739394",
     "exception": false,
     "start_time": "2024-03-21T06:02:34.697616",
     "status": "completed"
    },
    "tags": []
   },
   "outputs": [
    {
     "data": {
      "text/html": [
       "<div>\n",
       "<style scoped>\n",
       "    .dataframe tbody tr th:only-of-type {\n",
       "        vertical-align: middle;\n",
       "    }\n",
       "\n",
       "    .dataframe tbody tr th {\n",
       "        vertical-align: top;\n",
       "    }\n",
       "\n",
       "    .dataframe thead th {\n",
       "        text-align: right;\n",
       "    }\n",
       "</style>\n",
       "<table border=\"1\" class=\"dataframe\">\n",
       "  <thead>\n",
       "    <tr style=\"text-align: right;\">\n",
       "      <th></th>\n",
       "      <th>PassengerId</th>\n",
       "      <th>Pclass</th>\n",
       "      <th>Name</th>\n",
       "      <th>Sex</th>\n",
       "      <th>Age</th>\n",
       "      <th>SibSp</th>\n",
       "      <th>Parch</th>\n",
       "      <th>Ticket</th>\n",
       "      <th>Fare</th>\n",
       "      <th>Cabin</th>\n",
       "      <th>Embarked</th>\n",
       "    </tr>\n",
       "  </thead>\n",
       "  <tbody>\n",
       "    <tr>\n",
       "      <th>0</th>\n",
       "      <td>892</td>\n",
       "      <td>3</td>\n",
       "      <td>Kelly, Mr. James</td>\n",
       "      <td>male</td>\n",
       "      <td>34.5</td>\n",
       "      <td>0</td>\n",
       "      <td>0</td>\n",
       "      <td>330911</td>\n",
       "      <td>7.8292</td>\n",
       "      <td>NaN</td>\n",
       "      <td>Q</td>\n",
       "    </tr>\n",
       "    <tr>\n",
       "      <th>1</th>\n",
       "      <td>893</td>\n",
       "      <td>3</td>\n",
       "      <td>Wilkes, Mrs. James (Ellen Needs)</td>\n",
       "      <td>female</td>\n",
       "      <td>47.0</td>\n",
       "      <td>1</td>\n",
       "      <td>0</td>\n",
       "      <td>363272</td>\n",
       "      <td>7.0000</td>\n",
       "      <td>NaN</td>\n",
       "      <td>S</td>\n",
       "    </tr>\n",
       "    <tr>\n",
       "      <th>2</th>\n",
       "      <td>894</td>\n",
       "      <td>2</td>\n",
       "      <td>Myles, Mr. Thomas Francis</td>\n",
       "      <td>male</td>\n",
       "      <td>62.0</td>\n",
       "      <td>0</td>\n",
       "      <td>0</td>\n",
       "      <td>240276</td>\n",
       "      <td>9.6875</td>\n",
       "      <td>NaN</td>\n",
       "      <td>Q</td>\n",
       "    </tr>\n",
       "    <tr>\n",
       "      <th>3</th>\n",
       "      <td>895</td>\n",
       "      <td>3</td>\n",
       "      <td>Wirz, Mr. Albert</td>\n",
       "      <td>male</td>\n",
       "      <td>27.0</td>\n",
       "      <td>0</td>\n",
       "      <td>0</td>\n",
       "      <td>315154</td>\n",
       "      <td>8.6625</td>\n",
       "      <td>NaN</td>\n",
       "      <td>S</td>\n",
       "    </tr>\n",
       "    <tr>\n",
       "      <th>4</th>\n",
       "      <td>896</td>\n",
       "      <td>3</td>\n",
       "      <td>Hirvonen, Mrs. Alexander (Helga E Lindqvist)</td>\n",
       "      <td>female</td>\n",
       "      <td>22.0</td>\n",
       "      <td>1</td>\n",
       "      <td>1</td>\n",
       "      <td>3101298</td>\n",
       "      <td>12.2875</td>\n",
       "      <td>NaN</td>\n",
       "      <td>S</td>\n",
       "    </tr>\n",
       "  </tbody>\n",
       "</table>\n",
       "</div>"
      ],
      "text/plain": [
       "   PassengerId  Pclass                                          Name     Sex  \\\n",
       "0          892       3                              Kelly, Mr. James    male   \n",
       "1          893       3              Wilkes, Mrs. James (Ellen Needs)  female   \n",
       "2          894       2                     Myles, Mr. Thomas Francis    male   \n",
       "3          895       3                              Wirz, Mr. Albert    male   \n",
       "4          896       3  Hirvonen, Mrs. Alexander (Helga E Lindqvist)  female   \n",
       "\n",
       "    Age  SibSp  Parch   Ticket     Fare Cabin Embarked  \n",
       "0  34.5      0      0   330911   7.8292   NaN        Q  \n",
       "1  47.0      1      0   363272   7.0000   NaN        S  \n",
       "2  62.0      0      0   240276   9.6875   NaN        Q  \n",
       "3  27.0      0      0   315154   8.6625   NaN        S  \n",
       "4  22.0      1      1  3101298  12.2875   NaN        S  "
      ]
     },
     "execution_count": 37,
     "metadata": {},
     "output_type": "execute_result"
    }
   ],
   "source": [
    "titanic_test.head()"
   ]
  },
  {
   "cell_type": "code",
   "execution_count": 38,
   "id": "dc2eeda6",
   "metadata": {
    "execution": {
     "iopub.execute_input": "2024-03-21T06:02:34.783660Z",
     "iopub.status.busy": "2024-03-21T06:02:34.783146Z",
     "iopub.status.idle": "2024-03-21T06:02:34.802180Z",
     "shell.execute_reply": "2024-03-21T06:02:34.800547Z"
    },
    "papermill": {
     "duration": 0.044042,
     "end_time": "2024-03-21T06:02:34.804541",
     "exception": false,
     "start_time": "2024-03-21T06:02:34.760499",
     "status": "completed"
    },
    "tags": []
   },
   "outputs": [],
   "source": [
    " final_test =pipeline.fit_transform(titanic_test)"
   ]
  },
  {
   "cell_type": "code",
   "execution_count": 39,
   "id": "af0dbb3e",
   "metadata": {
    "execution": {
     "iopub.execute_input": "2024-03-21T06:02:34.848653Z",
     "iopub.status.busy": "2024-03-21T06:02:34.848172Z",
     "iopub.status.idle": "2024-03-21T06:02:34.872506Z",
     "shell.execute_reply": "2024-03-21T06:02:34.871668Z"
    },
    "papermill": {
     "duration": 0.049271,
     "end_time": "2024-03-21T06:02:34.874796",
     "exception": false,
     "start_time": "2024-03-21T06:02:34.825525",
     "status": "completed"
    },
    "tags": []
   },
   "outputs": [
    {
     "data": {
      "text/html": [
       "<div>\n",
       "<style scoped>\n",
       "    .dataframe tbody tr th:only-of-type {\n",
       "        vertical-align: middle;\n",
       "    }\n",
       "\n",
       "    .dataframe tbody tr th {\n",
       "        vertical-align: top;\n",
       "    }\n",
       "\n",
       "    .dataframe thead th {\n",
       "        text-align: right;\n",
       "    }\n",
       "</style>\n",
       "<table border=\"1\" class=\"dataframe\">\n",
       "  <thead>\n",
       "    <tr style=\"text-align: right;\">\n",
       "      <th></th>\n",
       "      <th>PassengerId</th>\n",
       "      <th>Pclass</th>\n",
       "      <th>Age</th>\n",
       "      <th>SibSp</th>\n",
       "      <th>Parch</th>\n",
       "      <th>Fare</th>\n",
       "      <th>C</th>\n",
       "      <th>S</th>\n",
       "      <th>Q</th>\n",
       "      <th>Female</th>\n",
       "      <th>Male</th>\n",
       "    </tr>\n",
       "  </thead>\n",
       "  <tbody>\n",
       "    <tr>\n",
       "      <th>0</th>\n",
       "      <td>892</td>\n",
       "      <td>3</td>\n",
       "      <td>34.50000</td>\n",
       "      <td>0</td>\n",
       "      <td>0</td>\n",
       "      <td>7.8292</td>\n",
       "      <td>0.0</td>\n",
       "      <td>1.0</td>\n",
       "      <td>0.0</td>\n",
       "      <td>0.0</td>\n",
       "      <td>1.0</td>\n",
       "    </tr>\n",
       "    <tr>\n",
       "      <th>1</th>\n",
       "      <td>893</td>\n",
       "      <td>3</td>\n",
       "      <td>47.00000</td>\n",
       "      <td>1</td>\n",
       "      <td>0</td>\n",
       "      <td>7.0000</td>\n",
       "      <td>0.0</td>\n",
       "      <td>0.0</td>\n",
       "      <td>1.0</td>\n",
       "      <td>1.0</td>\n",
       "      <td>0.0</td>\n",
       "    </tr>\n",
       "    <tr>\n",
       "      <th>2</th>\n",
       "      <td>894</td>\n",
       "      <td>2</td>\n",
       "      <td>62.00000</td>\n",
       "      <td>0</td>\n",
       "      <td>0</td>\n",
       "      <td>9.6875</td>\n",
       "      <td>0.0</td>\n",
       "      <td>1.0</td>\n",
       "      <td>0.0</td>\n",
       "      <td>0.0</td>\n",
       "      <td>1.0</td>\n",
       "    </tr>\n",
       "    <tr>\n",
       "      <th>3</th>\n",
       "      <td>895</td>\n",
       "      <td>3</td>\n",
       "      <td>27.00000</td>\n",
       "      <td>0</td>\n",
       "      <td>0</td>\n",
       "      <td>8.6625</td>\n",
       "      <td>0.0</td>\n",
       "      <td>0.0</td>\n",
       "      <td>1.0</td>\n",
       "      <td>0.0</td>\n",
       "      <td>1.0</td>\n",
       "    </tr>\n",
       "    <tr>\n",
       "      <th>4</th>\n",
       "      <td>896</td>\n",
       "      <td>3</td>\n",
       "      <td>22.00000</td>\n",
       "      <td>1</td>\n",
       "      <td>1</td>\n",
       "      <td>12.2875</td>\n",
       "      <td>0.0</td>\n",
       "      <td>0.0</td>\n",
       "      <td>1.0</td>\n",
       "      <td>1.0</td>\n",
       "      <td>0.0</td>\n",
       "    </tr>\n",
       "    <tr>\n",
       "      <th>...</th>\n",
       "      <td>...</td>\n",
       "      <td>...</td>\n",
       "      <td>...</td>\n",
       "      <td>...</td>\n",
       "      <td>...</td>\n",
       "      <td>...</td>\n",
       "      <td>...</td>\n",
       "      <td>...</td>\n",
       "      <td>...</td>\n",
       "      <td>...</td>\n",
       "      <td>...</td>\n",
       "    </tr>\n",
       "    <tr>\n",
       "      <th>413</th>\n",
       "      <td>1305</td>\n",
       "      <td>3</td>\n",
       "      <td>30.27259</td>\n",
       "      <td>0</td>\n",
       "      <td>0</td>\n",
       "      <td>8.0500</td>\n",
       "      <td>0.0</td>\n",
       "      <td>0.0</td>\n",
       "      <td>1.0</td>\n",
       "      <td>0.0</td>\n",
       "      <td>1.0</td>\n",
       "    </tr>\n",
       "    <tr>\n",
       "      <th>414</th>\n",
       "      <td>1306</td>\n",
       "      <td>1</td>\n",
       "      <td>39.00000</td>\n",
       "      <td>0</td>\n",
       "      <td>0</td>\n",
       "      <td>108.9000</td>\n",
       "      <td>1.0</td>\n",
       "      <td>0.0</td>\n",
       "      <td>0.0</td>\n",
       "      <td>1.0</td>\n",
       "      <td>0.0</td>\n",
       "    </tr>\n",
       "    <tr>\n",
       "      <th>415</th>\n",
       "      <td>1307</td>\n",
       "      <td>3</td>\n",
       "      <td>38.50000</td>\n",
       "      <td>0</td>\n",
       "      <td>0</td>\n",
       "      <td>7.2500</td>\n",
       "      <td>0.0</td>\n",
       "      <td>0.0</td>\n",
       "      <td>1.0</td>\n",
       "      <td>0.0</td>\n",
       "      <td>1.0</td>\n",
       "    </tr>\n",
       "    <tr>\n",
       "      <th>416</th>\n",
       "      <td>1308</td>\n",
       "      <td>3</td>\n",
       "      <td>30.27259</td>\n",
       "      <td>0</td>\n",
       "      <td>0</td>\n",
       "      <td>8.0500</td>\n",
       "      <td>0.0</td>\n",
       "      <td>0.0</td>\n",
       "      <td>1.0</td>\n",
       "      <td>0.0</td>\n",
       "      <td>1.0</td>\n",
       "    </tr>\n",
       "    <tr>\n",
       "      <th>417</th>\n",
       "      <td>1309</td>\n",
       "      <td>3</td>\n",
       "      <td>30.27259</td>\n",
       "      <td>1</td>\n",
       "      <td>1</td>\n",
       "      <td>22.3583</td>\n",
       "      <td>1.0</td>\n",
       "      <td>0.0</td>\n",
       "      <td>0.0</td>\n",
       "      <td>0.0</td>\n",
       "      <td>1.0</td>\n",
       "    </tr>\n",
       "  </tbody>\n",
       "</table>\n",
       "<p>418 rows × 11 columns</p>\n",
       "</div>"
      ],
      "text/plain": [
       "     PassengerId  Pclass       Age  SibSp  Parch      Fare    C    S    Q  \\\n",
       "0            892       3  34.50000      0      0    7.8292  0.0  1.0  0.0   \n",
       "1            893       3  47.00000      1      0    7.0000  0.0  0.0  1.0   \n",
       "2            894       2  62.00000      0      0    9.6875  0.0  1.0  0.0   \n",
       "3            895       3  27.00000      0      0    8.6625  0.0  0.0  1.0   \n",
       "4            896       3  22.00000      1      1   12.2875  0.0  0.0  1.0   \n",
       "..           ...     ...       ...    ...    ...       ...  ...  ...  ...   \n",
       "413         1305       3  30.27259      0      0    8.0500  0.0  0.0  1.0   \n",
       "414         1306       1  39.00000      0      0  108.9000  1.0  0.0  0.0   \n",
       "415         1307       3  38.50000      0      0    7.2500  0.0  0.0  1.0   \n",
       "416         1308       3  30.27259      0      0    8.0500  0.0  0.0  1.0   \n",
       "417         1309       3  30.27259      1      1   22.3583  1.0  0.0  0.0   \n",
       "\n",
       "     Female  Male  \n",
       "0       0.0   1.0  \n",
       "1       1.0   0.0  \n",
       "2       0.0   1.0  \n",
       "3       0.0   1.0  \n",
       "4       1.0   0.0  \n",
       "..      ...   ...  \n",
       "413     0.0   1.0  \n",
       "414     1.0   0.0  \n",
       "415     0.0   1.0  \n",
       "416     0.0   1.0  \n",
       "417     0.0   1.0  \n",
       "\n",
       "[418 rows x 11 columns]"
      ]
     },
     "execution_count": 39,
     "metadata": {},
     "output_type": "execute_result"
    }
   ],
   "source": [
    "final_test"
   ]
  },
  {
   "cell_type": "code",
   "execution_count": 40,
   "id": "2695c2d7",
   "metadata": {
    "execution": {
     "iopub.execute_input": "2024-03-21T06:02:34.921268Z",
     "iopub.status.busy": "2024-03-21T06:02:34.920755Z",
     "iopub.status.idle": "2024-03-21T06:02:34.933422Z",
     "shell.execute_reply": "2024-03-21T06:02:34.932417Z"
    },
    "papermill": {
     "duration": 0.038796,
     "end_time": "2024-03-21T06:02:34.935848",
     "exception": false,
     "start_time": "2024-03-21T06:02:34.897052",
     "status": "completed"
    },
    "tags": []
   },
   "outputs": [
    {
     "name": "stdout",
     "output_type": "stream",
     "text": [
      "<class 'pandas.core.frame.DataFrame'>\n",
      "RangeIndex: 418 entries, 0 to 417\n",
      "Data columns (total 11 columns):\n",
      " #   Column       Non-Null Count  Dtype  \n",
      "---  ------       --------------  -----  \n",
      " 0   PassengerId  418 non-null    int64  \n",
      " 1   Pclass       418 non-null    int64  \n",
      " 2   Age          418 non-null    float64\n",
      " 3   SibSp        418 non-null    int64  \n",
      " 4   Parch        418 non-null    int64  \n",
      " 5   Fare         417 non-null    float64\n",
      " 6   C            418 non-null    float64\n",
      " 7   S            418 non-null    float64\n",
      " 8   Q            418 non-null    float64\n",
      " 9   Female       418 non-null    float64\n",
      " 10  Male         418 non-null    float64\n",
      "dtypes: float64(7), int64(4)\n",
      "memory usage: 36.0 KB\n"
     ]
    }
   ],
   "source": [
    "final_test.info()"
   ]
  },
  {
   "cell_type": "markdown",
   "id": "e49fa305",
   "metadata": {
    "papermill": {
     "duration": 0.022051,
     "end_time": "2024-03-21T06:02:34.980262",
     "exception": false,
     "start_time": "2024-03-21T06:02:34.958211",
     "status": "completed"
    },
    "tags": []
   },
   "source": [
    "**we nead to fit the missing value in the Fare culomn**"
   ]
  },
  {
   "cell_type": "code",
   "execution_count": 41,
   "id": "b6cb9cdd",
   "metadata": {
    "execution": {
     "iopub.execute_input": "2024-03-21T06:02:35.026755Z",
     "iopub.status.busy": "2024-03-21T06:02:35.026028Z",
     "iopub.status.idle": "2024-03-21T06:02:35.040283Z",
     "shell.execute_reply": "2024-03-21T06:02:35.039138Z"
    },
    "papermill": {
     "duration": 0.040801,
     "end_time": "2024-03-21T06:02:35.042977",
     "exception": false,
     "start_time": "2024-03-21T06:02:35.002176",
     "status": "completed"
    },
    "tags": []
   },
   "outputs": [],
   "source": [
    "X_final_test = final_test\n",
    "X_final_test  =X_final_test.fillna(method = \"ffill\") #tack the next value\n",
    "\n",
    "scaler = StandardScaler()\n",
    "X_final_test_Scal = scaler.fit_transform(X_final_test)"
   ]
  },
  {
   "cell_type": "code",
   "execution_count": 42,
   "id": "9e747c61",
   "metadata": {
    "execution": {
     "iopub.execute_input": "2024-03-21T06:02:35.089076Z",
     "iopub.status.busy": "2024-03-21T06:02:35.087864Z",
     "iopub.status.idle": "2024-03-21T06:02:35.101777Z",
     "shell.execute_reply": "2024-03-21T06:02:35.100555Z"
    },
    "papermill": {
     "duration": 0.039515,
     "end_time": "2024-03-21T06:02:35.104097",
     "exception": false,
     "start_time": "2024-03-21T06:02:35.064582",
     "status": "completed"
    },
    "tags": []
   },
   "outputs": [
    {
     "name": "stdout",
     "output_type": "stream",
     "text": [
      "<class 'pandas.core.frame.DataFrame'>\n",
      "RangeIndex: 418 entries, 0 to 417\n",
      "Data columns (total 11 columns):\n",
      " #   Column       Non-Null Count  Dtype  \n",
      "---  ------       --------------  -----  \n",
      " 0   PassengerId  418 non-null    int64  \n",
      " 1   Pclass       418 non-null    int64  \n",
      " 2   Age          418 non-null    float64\n",
      " 3   SibSp        418 non-null    int64  \n",
      " 4   Parch        418 non-null    int64  \n",
      " 5   Fare         418 non-null    float64\n",
      " 6   C            418 non-null    float64\n",
      " 7   S            418 non-null    float64\n",
      " 8   Q            418 non-null    float64\n",
      " 9   Female       418 non-null    float64\n",
      " 10  Male         418 non-null    float64\n",
      "dtypes: float64(7), int64(4)\n",
      "memory usage: 36.0 KB\n"
     ]
    }
   ],
   "source": [
    "X_final_test.info()"
   ]
  },
  {
   "cell_type": "code",
   "execution_count": 43,
   "id": "a82f65b3",
   "metadata": {
    "execution": {
     "iopub.execute_input": "2024-03-21T06:02:35.150546Z",
     "iopub.status.busy": "2024-03-21T06:02:35.150078Z",
     "iopub.status.idle": "2024-03-21T06:02:35.158594Z",
     "shell.execute_reply": "2024-03-21T06:02:35.157303Z"
    },
    "papermill": {
     "duration": 0.035091,
     "end_time": "2024-03-21T06:02:35.161178",
     "exception": false,
     "start_time": "2024-03-21T06:02:35.126087",
     "status": "completed"
    },
    "tags": []
   },
   "outputs": [
    {
     "data": {
      "text/plain": [
       "array([[-1.72791209,  0.87348191,  0.3349926 , ..., -1.35067551,\n",
       "        -0.75592895,  0.75592895],\n",
       "       [-1.71962474,  0.87348191,  1.32553003, ...,  0.74037028,\n",
       "         1.32287566, -1.32287566],\n",
       "       [-1.71133739, -0.31581919,  2.51417495, ..., -1.35067551,\n",
       "        -0.75592895,  0.75592895],\n",
       "       ...,\n",
       "       [ 1.71133739,  0.87348191,  0.65196458, ...,  0.74037028,\n",
       "        -0.75592895,  0.75592895],\n",
       "       [ 1.71962474,  0.87348191,  0.        , ...,  0.74037028,\n",
       "        -0.75592895,  0.75592895],\n",
       "       [ 1.72791209,  0.87348191,  0.        , ..., -1.35067551,\n",
       "        -0.75592895,  0.75592895]])"
      ]
     },
     "execution_count": 43,
     "metadata": {},
     "output_type": "execute_result"
    }
   ],
   "source": [
    "X_final_test_Scal"
   ]
  },
  {
   "cell_type": "code",
   "execution_count": 44,
   "id": "ecd41faf",
   "metadata": {
    "execution": {
     "iopub.execute_input": "2024-03-21T06:02:35.208583Z",
     "iopub.status.busy": "2024-03-21T06:02:35.207842Z",
     "iopub.status.idle": "2024-03-21T06:02:35.277049Z",
     "shell.execute_reply": "2024-03-21T06:02:35.275977Z"
    },
    "papermill": {
     "duration": 0.095618,
     "end_time": "2024-03-21T06:02:35.279706",
     "exception": false,
     "start_time": "2024-03-21T06:02:35.184088",
     "status": "completed"
    },
    "tags": []
   },
   "outputs": [],
   "source": [
    "predictions_final = final_best_estimator.predict(X_final_test_Scal)"
   ]
  },
  {
   "cell_type": "code",
   "execution_count": 45,
   "id": "16c16b64",
   "metadata": {
    "execution": {
     "iopub.execute_input": "2024-03-21T06:02:35.327211Z",
     "iopub.status.busy": "2024-03-21T06:02:35.326533Z",
     "iopub.status.idle": "2024-03-21T06:02:35.335036Z",
     "shell.execute_reply": "2024-03-21T06:02:35.333794Z"
    },
    "papermill": {
     "duration": 0.034589,
     "end_time": "2024-03-21T06:02:35.337729",
     "exception": false,
     "start_time": "2024-03-21T06:02:35.303140",
     "status": "completed"
    },
    "tags": []
   },
   "outputs": [
    {
     "data": {
      "text/plain": [
       "array([0, 1, 0, 0, 1, 0, 1, 0, 1, 0, 0, 0, 1, 0, 1, 1, 0, 0, 1, 1, 0, 0,\n",
       "       1, 0, 1, 0, 1, 0, 0, 0, 0, 0, 1, 1, 0, 0, 1, 1, 0, 0, 0, 0, 0, 1,\n",
       "       1, 0, 0, 0, 1, 1, 0, 0, 1, 1, 0, 0, 0, 0, 0, 1, 0, 0, 0, 1, 0, 1,\n",
       "       1, 0, 0, 1, 1, 0, 1, 0, 1, 0, 0, 1, 0, 1, 1, 0, 0, 0, 0, 0, 1, 1,\n",
       "       1, 1, 1, 0, 1, 0, 0, 0, 1, 0, 1, 0, 1, 0, 0, 0, 1, 0, 0, 0, 0, 0,\n",
       "       0, 1, 1, 1, 1, 0, 0, 1, 0, 1, 1, 0, 1, 0, 0, 1, 0, 1, 0, 0, 0, 0,\n",
       "       0, 0, 0, 0, 0, 0, 1, 0, 0, 1, 0, 0, 0, 0, 0, 0, 0, 0, 1, 0, 0, 1,\n",
       "       0, 0, 1, 1, 0, 1, 1, 1, 1, 0, 0, 1, 0, 0, 1, 1, 0, 0, 0, 0, 0, 1,\n",
       "       1, 0, 1, 1, 0, 0, 1, 0, 1, 0, 1, 0, 0, 0, 0, 0, 0, 0, 1, 0, 1, 1,\n",
       "       0, 1, 1, 1, 0, 1, 0, 0, 1, 0, 1, 0, 0, 0, 0, 1, 0, 0, 1, 0, 1, 0,\n",
       "       1, 0, 1, 0, 1, 1, 0, 1, 0, 0, 0, 1, 0, 0, 0, 0, 0, 0, 1, 1, 1, 1,\n",
       "       0, 0, 0, 0, 1, 0, 1, 1, 1, 0, 0, 0, 0, 0, 0, 0, 1, 0, 0, 0, 1, 1,\n",
       "       0, 0, 0, 0, 1, 0, 0, 0, 1, 1, 0, 1, 0, 0, 0, 0, 0, 1, 1, 1, 1, 0,\n",
       "       0, 0, 0, 0, 0, 1, 0, 0, 0, 0, 1, 0, 0, 0, 0, 0, 0, 0, 1, 1, 0, 1,\n",
       "       0, 0, 0, 0, 0, 1, 1, 1, 0, 0, 0, 0, 0, 0, 0, 0, 1, 0, 1, 0, 0, 0,\n",
       "       1, 0, 0, 1, 0, 0, 0, 0, 0, 0, 0, 0, 0, 1, 0, 1, 0, 1, 0, 1, 1, 0,\n",
       "       0, 0, 1, 0, 1, 0, 0, 1, 0, 1, 1, 0, 1, 0, 0, 0, 1, 0, 0, 1, 0, 0,\n",
       "       1, 1, 0, 0, 0, 0, 0, 0, 1, 1, 0, 1, 0, 0, 0, 0, 0, 1, 0, 0, 0, 1,\n",
       "       0, 1, 0, 0, 1, 0, 1, 0, 0, 0, 0, 0, 1, 1, 1, 1, 1, 0, 1, 0, 0, 0])"
      ]
     },
     "execution_count": 45,
     "metadata": {},
     "output_type": "execute_result"
    }
   ],
   "source": [
    "predictions_final"
   ]
  },
  {
   "cell_type": "code",
   "execution_count": 46,
   "id": "1d5ef5ab",
   "metadata": {
    "execution": {
     "iopub.execute_input": "2024-03-21T06:02:35.384026Z",
     "iopub.status.busy": "2024-03-21T06:02:35.383164Z",
     "iopub.status.idle": "2024-03-21T06:02:35.393629Z",
     "shell.execute_reply": "2024-03-21T06:02:35.392554Z"
    },
    "papermill": {
     "duration": 0.036628,
     "end_time": "2024-03-21T06:02:35.396324",
     "exception": false,
     "start_time": "2024-03-21T06:02:35.359696",
     "status": "completed"
    },
    "tags": []
   },
   "outputs": [],
   "source": [
    "final_df = pd.DataFrame(titanic_test['PassengerId'])\n",
    "final_df['Survived'] = predictions_final\n",
    "final_df.to_csv(\"/kaggle/working/data_predictions.csv\",index =False)\n"
   ]
  },
  {
   "cell_type": "markdown",
   "id": "335a5228",
   "metadata": {
    "papermill": {
     "duration": 0.021842,
     "end_time": "2024-03-21T06:02:35.440788",
     "exception": false,
     "start_time": "2024-03-21T06:02:35.418946",
     "status": "completed"
    },
    "tags": []
   },
   "source": [
    "<h1 style=\"font-family: Trebuchet MS; font-size: 20px; text-align: center; \">\n",
    "  <b>If you have any feedback or suggestions on how to enhance the model's performance, please feel free to share them in the comments below. Your insights are valuable and can help us refine our approach to achieve better results.</b>\n",
    "</h1>\n",
    "\n",
    "\n",
    "<h1 style=\"font-family: Trebuchet MS; font-size: 30px; text-align: center; \"><b>Thank You</b></h1>"
   ]
  },
  {
   "cell_type": "markdown",
   "id": "11a71ada",
   "metadata": {
    "papermill": {
     "duration": 0.021589,
     "end_time": "2024-03-21T06:02:35.484358",
     "exception": false,
     "start_time": "2024-03-21T06:02:35.462769",
     "status": "completed"
    },
    "tags": []
   },
   "source": [
    "![](https://th.bing.com/th/id/R.aa0cb7114d1a63ed120358fac6bd380a?rik=ZP6CtisZ1J4sIQ&pid=ImgRaw&r=0)"
   ]
  }
 ],
 "metadata": {
  "kaggle": {
   "accelerator": "none",
   "dataSources": [
    {
     "databundleVersionId": 26502,
     "sourceId": 3136,
     "sourceType": "competition"
    }
   ],
   "dockerImageVersionId": 30558,
   "isGpuEnabled": false,
   "isInternetEnabled": true,
   "language": "python",
   "sourceType": "notebook"
  },
  "kernelspec": {
   "display_name": "Python 3",
   "language": "python",
   "name": "python3"
  },
  "language_info": {
   "codemirror_mode": {
    "name": "ipython",
    "version": 3
   },
   "file_extension": ".py",
   "mimetype": "text/x-python",
   "name": "python",
   "nbconvert_exporter": "python",
   "pygments_lexer": "ipython3",
   "version": "3.12.1"
  },
  "papermill": {
   "default_parameters": {},
   "duration": 74.227574,
   "end_time": "2024-03-21T06:02:36.228779",
   "environment_variables": {},
   "exception": null,
   "input_path": "__notebook__.ipynb",
   "output_path": "__notebook__.ipynb",
   "parameters": {},
   "start_time": "2024-03-21T06:01:22.001205",
   "version": "2.4.0"
  }
 },
 "nbformat": 4,
 "nbformat_minor": 5
}
