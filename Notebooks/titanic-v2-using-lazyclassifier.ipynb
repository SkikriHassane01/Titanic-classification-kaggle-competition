{
 "cells": [
  {
   "cell_type": "markdown",
   "id": "4a5c4682",
   "metadata": {
    "papermill": {
     "duration": 0.013168,
     "end_time": "2024-03-19T18:31:29.168438",
     "exception": false,
     "start_time": "2024-03-19T18:31:29.155270",
     "status": "completed"
    },
    "tags": []
   },
   "source": [
    "\n",
    "\n",
    "<h1 style=\"font-family: Trebuchet MS; padding: 12px; font-size: 30px; color: #081c15; text-align: center; line-height: 1.25;\">Classification Problem<br><span style=\"color: #1b4332; font-size: 48px\"><b>🚢🧊🌊 Titanic with LazyClassifier🚢🧊🌊 </b>\n",
    " <hr>\n",
    "    \n",
    "<h1 style=\"font-family: Trebuchet MS; font-size: 14px; color: #264653; text-align: right; \"><strong>Created By: Hassane Skikri</strong></h1>\n",
    "\n"
   ]
  },
  {
   "cell_type": "markdown",
   "id": "9420e0a2",
   "metadata": {
    "papermill": {
     "duration": 0.012285,
     "end_time": "2024-03-19T18:31:29.193584",
     "exception": false,
     "start_time": "2024-03-19T18:31:29.181299",
     "status": "completed"
    },
    "tags": []
   },
   "source": [
    "<hr>\n",
    "<p style=\"background-color:#93CDDD; font-family: 'Trebuchet MS'; font-weight: bold; color: #3a5a40; font-size: 40px; text-align: center; border-radius: 50px; padding: 10px;\">Table of Contents</p>\n",
    "<hr>\n"
   ]
  },
  {
   "cell_type": "markdown",
   "id": "c6ebeaea",
   "metadata": {
    "papermill": {
     "duration": 0.012719,
     "end_time": "2024-03-19T18:31:29.219297",
     "exception": false,
     "start_time": "2024-03-19T18:31:29.206578",
     "status": "completed"
    },
    "tags": []
   },
   "source": [
    "## **What is covered in this notebook?**\n",
    "\n",
    " - [**1 - Importing Libraries**](#1)\n",
    " - [**2 - Loading Dataset**](#2)\n",
    " - [**3 - Exploring the data**](#3)\n",
    " - [**4 - Data Preprocessing**](#4)\n",
    " - [**5 - Feature Scaling**](#5)\n",
    " - [**6 - Model Building and Evaluation**](#6)\n",
    " - [**7 - Hyperparameter Tuning**](#7)\n",
    " - [**8 - Preparing the Final Submission:**](#9)\n",
    "<hr>"
   ]
  },
  {
   "cell_type": "markdown",
   "id": "1a787b5c",
   "metadata": {
    "_kg_hide-input": true,
    "_kg_hide-output": true,
    "papermill": {
     "duration": 0.012636,
     "end_time": "2024-03-19T18:31:29.245605",
     "exception": false,
     "start_time": "2024-03-19T18:31:29.232969",
     "status": "completed"
    },
    "tags": []
   },
   "source": [
    "# 1 - Importing Libraries"
   ]
  },
  {
   "cell_type": "markdown",
   "id": "2e93ee84",
   "metadata": {
    "papermill": {
     "duration": 0.013169,
     "end_time": "2024-03-19T18:31:29.272298",
     "exception": false,
     "start_time": "2024-03-19T18:31:29.259129",
     "status": "completed"
    },
    "tags": []
   },
   "source": [
    "<p style=\"background-color:#93CDDD; font-family: 'Trebuchet MS'; font-weight: bold; color: #3a5a40; font-size: 40px; text-align: center; border-radius: 50px; padding: 10px;\">1️⃣ - Importing libraries</p>\n",
    "<hr>\n"
   ]
  },
  {
   "cell_type": "code",
   "execution_count": 1,
   "id": "de19b96c",
   "metadata": {
    "_cell_guid": "b1076dfc-b9ad-4769-8c92-a6c4dae69d19",
    "_uuid": "8f2839f25d086af736a60e9eeb907d3b93b6e0e5",
    "execution": {
     "iopub.execute_input": "2024-03-19T18:31:29.301147Z",
     "iopub.status.busy": "2024-03-19T18:31:29.300740Z",
     "iopub.status.idle": "2024-03-19T18:31:34.022563Z",
     "shell.execute_reply": "2024-03-19T18:31:34.021612Z"
    },
    "papermill": {
     "duration": 4.738229,
     "end_time": "2024-03-19T18:31:34.024507",
     "exception": false,
     "start_time": "2024-03-19T18:31:29.286278",
     "status": "completed"
    },
    "tags": []
   },
   "outputs": [
    {
     "name": "stdout",
     "output_type": "stream",
     "text": [
      "setep completed\n"
     ]
    }
   ],
   "source": [
    "# Data Analysis and Manipulation Libraries Import\n",
    "import numpy as np \n",
    "import pandas as pd \n",
    "\n",
    "# Data Visualization Libraries Import\n",
    "import  matplotlib.pyplot as plt\n",
    "import seaborn as sns\n",
    "\n",
    "#Splitting the data\n",
    "from sklearn.model_selection import StratifiedShuffleSplit\n",
    "\n",
    "#Custom Transformer Class for Data Imputation\n",
    "from sklearn.base import BaseEstimator,TransformerMixin\n",
    "from sklearn.impute import SimpleImputer\n",
    "\n",
    "#encoding\n",
    "from sklearn.preprocessing import OneHotEncoder\n",
    "from sklearn.compose import ColumnTransformer\n",
    "\n",
    "#calling the pipeline\n",
    "from sklearn.pipeline import Pipeline\n",
    "\n",
    "#Scaling\n",
    "from sklearn.preprocessing import StandardScaler\n",
    "\n",
    "#data spliting \n",
    "from sklearn.model_selection import train_test_split\n",
    "\n",
    "import optuna\n",
    "from sklearn.ensemble import RandomForestClassifier\n",
    "from sklearn.metrics import accuracy_score\n",
    "\n",
    "#ignore all the warning \n",
    "import warnings\n",
    "warnings.filterwarnings('ignore')\n",
    "\n",
    "print(\"setep completed\")"
   ]
  },
  {
   "cell_type": "code",
   "execution_count": 3,
   "id": "f90347f8",
   "metadata": {
    "execution": {
     "iopub.execute_input": "2024-03-19T18:31:34.091986Z",
     "iopub.status.busy": "2024-03-19T18:31:34.090946Z",
     "iopub.status.idle": "2024-03-19T18:31:34.098267Z",
     "shell.execute_reply": "2024-03-19T18:31:34.097010Z"
    },
    "papermill": {
     "duration": 0.024281,
     "end_time": "2024-03-19T18:31:34.100616",
     "exception": false,
     "start_time": "2024-03-19T18:31:34.076335",
     "status": "completed"
    },
    "tags": []
   },
   "outputs": [],
   "source": [
    "#display Matplotlib plots directly within the notebook\n",
    "%matplotlib inline\n",
    "# display graphs correctly\n",
    "plt.rcParams['figure.figsize'] = (12, 5)\n",
    "plt.rcParams['figure.dpi'] = 120\n",
    "\n",
    "# Apply the 'ggplot' style\n",
    "plt.style.use('dark_background')"
   ]
  },
  {
   "cell_type": "markdown",
   "id": "6c3a7d3b",
   "metadata": {
    "papermill": {
     "duration": 0.012437,
     "end_time": "2024-03-19T18:31:34.125906",
     "exception": false,
     "start_time": "2024-03-19T18:31:34.113469",
     "status": "completed"
    },
    "tags": []
   },
   "source": [
    "\n",
    "<hr>\n",
    "<p style=\"background-color:#93CDDD; font-family: 'Trebuchet MS'; font-weight: bold; color: #3a5a40; font-size: 40px; text-align: center; border-radius: 50px; padding: 10px;\">2️⃣ - Loading Dataset</p>\n",
    "<a name = 2 > </a>\n",
    "<hr>\n"
   ]
  },
  {
   "cell_type": "markdown",
   "id": "c503c886",
   "metadata": {
    "_kg_hide-input": true,
    "_kg_hide-output": true,
    "papermill": {
     "duration": 0.012164,
     "end_time": "2024-03-19T18:31:34.150983",
     "exception": false,
     "start_time": "2024-03-19T18:31:34.138819",
     "status": "completed"
    },
    "tags": []
   },
   "source": [
    "# 2 - Loading Dataset"
   ]
  },
  {
   "cell_type": "code",
   "execution_count": 4,
   "id": "d57e5da9",
   "metadata": {
    "execution": {
     "iopub.execute_input": "2024-03-19T18:31:34.178750Z",
     "iopub.status.busy": "2024-03-19T18:31:34.177835Z",
     "iopub.status.idle": "2024-03-19T18:31:34.234677Z",
     "shell.execute_reply": "2024-03-19T18:31:34.233738Z"
    },
    "papermill": {
     "duration": 0.072877,
     "end_time": "2024-03-19T18:31:34.236604",
     "exception": false,
     "start_time": "2024-03-19T18:31:34.163727",
     "status": "completed"
    },
    "tags": []
   },
   "outputs": [
    {
     "data": {
      "text/html": [
       "<div>\n",
       "<style scoped>\n",
       "    .dataframe tbody tr th:only-of-type {\n",
       "        vertical-align: middle;\n",
       "    }\n",
       "\n",
       "    .dataframe tbody tr th {\n",
       "        vertical-align: top;\n",
       "    }\n",
       "\n",
       "    .dataframe thead th {\n",
       "        text-align: right;\n",
       "    }\n",
       "</style>\n",
       "<table border=\"1\" class=\"dataframe\">\n",
       "  <thead>\n",
       "    <tr style=\"text-align: right;\">\n",
       "      <th></th>\n",
       "      <th>PassengerId</th>\n",
       "      <th>Survived</th>\n",
       "      <th>Pclass</th>\n",
       "      <th>Name</th>\n",
       "      <th>Sex</th>\n",
       "      <th>Age</th>\n",
       "      <th>SibSp</th>\n",
       "      <th>Parch</th>\n",
       "      <th>Ticket</th>\n",
       "      <th>Fare</th>\n",
       "      <th>Cabin</th>\n",
       "      <th>Embarked</th>\n",
       "    </tr>\n",
       "  </thead>\n",
       "  <tbody>\n",
       "    <tr>\n",
       "      <th>0</th>\n",
       "      <td>1</td>\n",
       "      <td>0</td>\n",
       "      <td>3</td>\n",
       "      <td>Braund, Mr. Owen Harris</td>\n",
       "      <td>male</td>\n",
       "      <td>22.0</td>\n",
       "      <td>1</td>\n",
       "      <td>0</td>\n",
       "      <td>A/5 21171</td>\n",
       "      <td>7.2500</td>\n",
       "      <td>NaN</td>\n",
       "      <td>S</td>\n",
       "    </tr>\n",
       "    <tr>\n",
       "      <th>1</th>\n",
       "      <td>2</td>\n",
       "      <td>1</td>\n",
       "      <td>1</td>\n",
       "      <td>Cumings, Mrs. John Bradley (Florence Briggs Th...</td>\n",
       "      <td>female</td>\n",
       "      <td>38.0</td>\n",
       "      <td>1</td>\n",
       "      <td>0</td>\n",
       "      <td>PC 17599</td>\n",
       "      <td>71.2833</td>\n",
       "      <td>C85</td>\n",
       "      <td>C</td>\n",
       "    </tr>\n",
       "  </tbody>\n",
       "</table>\n",
       "</div>"
      ],
      "text/plain": [
       "   PassengerId  Survived  Pclass  \\\n",
       "0            1         0       3   \n",
       "1            2         1       1   \n",
       "\n",
       "                                                Name     Sex   Age  SibSp  \\\n",
       "0                            Braund, Mr. Owen Harris    male  22.0      1   \n",
       "1  Cumings, Mrs. John Bradley (Florence Briggs Th...  female  38.0      1   \n",
       "\n",
       "   Parch     Ticket     Fare Cabin Embarked  \n",
       "0      0  A/5 21171   7.2500   NaN        S  \n",
       "1      0   PC 17599  71.2833   C85        C  "
      ]
     },
     "execution_count": 4,
     "metadata": {},
     "output_type": "execute_result"
    }
   ],
   "source": [
    "titanic = pd.read_csv('..Data/train.csv')\n",
    "titanic_test = pd.read_csv('..Data/test.csv')\n",
    "titanic.head(2)"
   ]
  },
  {
   "cell_type": "code",
   "execution_count": 5,
   "id": "b24b75dd",
   "metadata": {
    "execution": {
     "iopub.execute_input": "2024-03-19T18:31:34.321754Z",
     "iopub.status.busy": "2024-03-19T18:31:34.321399Z",
     "iopub.status.idle": "2024-03-19T18:31:34.337329Z",
     "shell.execute_reply": "2024-03-19T18:31:34.336232Z"
    },
    "papermill": {
     "duration": 0.090049,
     "end_time": "2024-03-19T18:31:34.339568",
     "exception": false,
     "start_time": "2024-03-19T18:31:34.249519",
     "status": "completed"
    },
    "tags": []
   },
   "outputs": [
    {
     "data": {
      "text/plain": [
       "Survived\n",
       "0    549\n",
       "1    342\n",
       "dtype: int64"
      ]
     },
     "execution_count": 5,
     "metadata": {},
     "output_type": "execute_result"
    }
   ],
   "source": [
    "titanic.groupby('Survived').size()"
   ]
  },
  {
   "cell_type": "code",
   "execution_count": 6,
   "id": "bd5d64f6",
   "metadata": {
    "execution": {
     "iopub.execute_input": "2024-03-19T18:31:34.368972Z",
     "iopub.status.busy": "2024-03-19T18:31:34.368247Z",
     "iopub.status.idle": "2024-03-19T18:31:34.379287Z",
     "shell.execute_reply": "2024-03-19T18:31:34.378309Z"
    },
    "papermill": {
     "duration": 0.027946,
     "end_time": "2024-03-19T18:31:34.381160",
     "exception": false,
     "start_time": "2024-03-19T18:31:34.353214",
     "status": "completed"
    },
    "tags": []
   },
   "outputs": [
    {
     "data": {
      "text/plain": [
       "Sex\n",
       "female    314\n",
       "male      577\n",
       "dtype: int64"
      ]
     },
     "execution_count": 6,
     "metadata": {},
     "output_type": "execute_result"
    }
   ],
   "source": [
    "titanic.groupby('Sex').size()"
   ]
  },
  {
   "cell_type": "markdown",
   "id": "7a1d676a",
   "metadata": {
    "papermill": {
     "duration": 0.013311,
     "end_time": "2024-03-19T18:31:34.407809",
     "exception": false,
     "start_time": "2024-03-19T18:31:34.394498",
     "status": "completed"
    },
    "tags": []
   },
   "source": [
    "\n",
    "<p style=\"background-color:#93CDDD; font-family: 'Trebuchet MS'; font-weight: bold; color: #3a5a40; font-size: 40px; text-align: center; border-radius: 50px; padding: 10px;\">3️⃣ - Exploring the data</p>\n",
    "<a name = 3 ></a>\n",
    "<hr>\n"
   ]
  },
  {
   "cell_type": "markdown",
   "id": "516fbcfb",
   "metadata": {
    "_kg_hide-input": true,
    "_kg_hide-output": true,
    "papermill": {
     "duration": 0.013037,
     "end_time": "2024-03-19T18:31:34.434154",
     "exception": false,
     "start_time": "2024-03-19T18:31:34.421117",
     "status": "completed"
    },
    "tags": []
   },
   "source": [
    "# 3 - Exploring the data"
   ]
  },
  {
   "cell_type": "code",
   "execution_count": 7,
   "id": "95860f0d",
   "metadata": {
    "execution": {
     "iopub.execute_input": "2024-03-19T18:31:34.462817Z",
     "iopub.status.busy": "2024-03-19T18:31:34.462186Z",
     "iopub.status.idle": "2024-03-19T18:31:34.482801Z",
     "shell.execute_reply": "2024-03-19T18:31:34.481724Z"
    },
    "papermill": {
     "duration": 0.038735,
     "end_time": "2024-03-19T18:31:34.485957",
     "exception": false,
     "start_time": "2024-03-19T18:31:34.447222",
     "status": "completed"
    },
    "tags": []
   },
   "outputs": [
    {
     "name": "stdout",
     "output_type": "stream",
     "text": [
      "<class 'pandas.core.frame.DataFrame'>\n",
      "RangeIndex: 891 entries, 0 to 890\n",
      "Data columns (total 12 columns):\n",
      " #   Column       Non-Null Count  Dtype  \n",
      "---  ------       --------------  -----  \n",
      " 0   PassengerId  891 non-null    int64  \n",
      " 1   Survived     891 non-null    int64  \n",
      " 2   Pclass       891 non-null    int64  \n",
      " 3   Name         891 non-null    object \n",
      " 4   Sex          891 non-null    object \n",
      " 5   Age          714 non-null    float64\n",
      " 6   SibSp        891 non-null    int64  \n",
      " 7   Parch        891 non-null    int64  \n",
      " 8   Ticket       891 non-null    object \n",
      " 9   Fare         891 non-null    float64\n",
      " 10  Cabin        204 non-null    object \n",
      " 11  Embarked     889 non-null    object \n",
      "dtypes: float64(2), int64(5), object(5)\n",
      "memory usage: 83.7+ KB\n"
     ]
    }
   ],
   "source": [
    "titanic.info()"
   ]
  },
  {
   "cell_type": "code",
   "execution_count": 8,
   "id": "383caa7b",
   "metadata": {
    "execution": {
     "iopub.execute_input": "2024-03-19T18:31:34.518523Z",
     "iopub.status.busy": "2024-03-19T18:31:34.517640Z",
     "iopub.status.idle": "2024-03-19T18:31:34.546716Z",
     "shell.execute_reply": "2024-03-19T18:31:34.545947Z"
    },
    "papermill": {
     "duration": 0.049535,
     "end_time": "2024-03-19T18:31:34.549271",
     "exception": false,
     "start_time": "2024-03-19T18:31:34.499736",
     "status": "completed"
    },
    "tags": []
   },
   "outputs": [
    {
     "data": {
      "text/html": [
       "<div>\n",
       "<style scoped>\n",
       "    .dataframe tbody tr th:only-of-type {\n",
       "        vertical-align: middle;\n",
       "    }\n",
       "\n",
       "    .dataframe tbody tr th {\n",
       "        vertical-align: top;\n",
       "    }\n",
       "\n",
       "    .dataframe thead th {\n",
       "        text-align: right;\n",
       "    }\n",
       "</style>\n",
       "<table border=\"1\" class=\"dataframe\">\n",
       "  <thead>\n",
       "    <tr style=\"text-align: right;\">\n",
       "      <th></th>\n",
       "      <th>PassengerId</th>\n",
       "      <th>Survived</th>\n",
       "      <th>Pclass</th>\n",
       "      <th>Age</th>\n",
       "      <th>SibSp</th>\n",
       "      <th>Parch</th>\n",
       "      <th>Fare</th>\n",
       "    </tr>\n",
       "  </thead>\n",
       "  <tbody>\n",
       "    <tr>\n",
       "      <th>count</th>\n",
       "      <td>891.000000</td>\n",
       "      <td>891.000000</td>\n",
       "      <td>891.000000</td>\n",
       "      <td>714.000000</td>\n",
       "      <td>891.000000</td>\n",
       "      <td>891.000000</td>\n",
       "      <td>891.000000</td>\n",
       "    </tr>\n",
       "    <tr>\n",
       "      <th>mean</th>\n",
       "      <td>446.000000</td>\n",
       "      <td>0.383838</td>\n",
       "      <td>2.308642</td>\n",
       "      <td>29.699118</td>\n",
       "      <td>0.523008</td>\n",
       "      <td>0.381594</td>\n",
       "      <td>32.204208</td>\n",
       "    </tr>\n",
       "    <tr>\n",
       "      <th>std</th>\n",
       "      <td>257.353842</td>\n",
       "      <td>0.486592</td>\n",
       "      <td>0.836071</td>\n",
       "      <td>14.526497</td>\n",
       "      <td>1.102743</td>\n",
       "      <td>0.806057</td>\n",
       "      <td>49.693429</td>\n",
       "    </tr>\n",
       "    <tr>\n",
       "      <th>min</th>\n",
       "      <td>1.000000</td>\n",
       "      <td>0.000000</td>\n",
       "      <td>1.000000</td>\n",
       "      <td>0.420000</td>\n",
       "      <td>0.000000</td>\n",
       "      <td>0.000000</td>\n",
       "      <td>0.000000</td>\n",
       "    </tr>\n",
       "    <tr>\n",
       "      <th>25%</th>\n",
       "      <td>223.500000</td>\n",
       "      <td>0.000000</td>\n",
       "      <td>2.000000</td>\n",
       "      <td>20.125000</td>\n",
       "      <td>0.000000</td>\n",
       "      <td>0.000000</td>\n",
       "      <td>7.910400</td>\n",
       "    </tr>\n",
       "    <tr>\n",
       "      <th>50%</th>\n",
       "      <td>446.000000</td>\n",
       "      <td>0.000000</td>\n",
       "      <td>3.000000</td>\n",
       "      <td>28.000000</td>\n",
       "      <td>0.000000</td>\n",
       "      <td>0.000000</td>\n",
       "      <td>14.454200</td>\n",
       "    </tr>\n",
       "    <tr>\n",
       "      <th>75%</th>\n",
       "      <td>668.500000</td>\n",
       "      <td>1.000000</td>\n",
       "      <td>3.000000</td>\n",
       "      <td>38.000000</td>\n",
       "      <td>1.000000</td>\n",
       "      <td>0.000000</td>\n",
       "      <td>31.000000</td>\n",
       "    </tr>\n",
       "    <tr>\n",
       "      <th>max</th>\n",
       "      <td>891.000000</td>\n",
       "      <td>1.000000</td>\n",
       "      <td>3.000000</td>\n",
       "      <td>80.000000</td>\n",
       "      <td>8.000000</td>\n",
       "      <td>6.000000</td>\n",
       "      <td>512.329200</td>\n",
       "    </tr>\n",
       "  </tbody>\n",
       "</table>\n",
       "</div>"
      ],
      "text/plain": [
       "       PassengerId    Survived      Pclass         Age       SibSp  \\\n",
       "count   891.000000  891.000000  891.000000  714.000000  891.000000   \n",
       "mean    446.000000    0.383838    2.308642   29.699118    0.523008   \n",
       "std     257.353842    0.486592    0.836071   14.526497    1.102743   \n",
       "min       1.000000    0.000000    1.000000    0.420000    0.000000   \n",
       "25%     223.500000    0.000000    2.000000   20.125000    0.000000   \n",
       "50%     446.000000    0.000000    3.000000   28.000000    0.000000   \n",
       "75%     668.500000    1.000000    3.000000   38.000000    1.000000   \n",
       "max     891.000000    1.000000    3.000000   80.000000    8.000000   \n",
       "\n",
       "            Parch        Fare  \n",
       "count  891.000000  891.000000  \n",
       "mean     0.381594   32.204208  \n",
       "std      0.806057   49.693429  \n",
       "min      0.000000    0.000000  \n",
       "25%      0.000000    7.910400  \n",
       "50%      0.000000   14.454200  \n",
       "75%      0.000000   31.000000  \n",
       "max      6.000000  512.329200  "
      ]
     },
     "execution_count": 8,
     "metadata": {},
     "output_type": "execute_result"
    }
   ],
   "source": [
    "titanic.describe()"
   ]
  },
  {
   "cell_type": "code",
   "execution_count": 9,
   "id": "b5f47d2f",
   "metadata": {
    "execution": {
     "iopub.execute_input": "2024-03-19T18:31:34.580007Z",
     "iopub.status.busy": "2024-03-19T18:31:34.579315Z",
     "iopub.status.idle": "2024-03-19T18:31:34.587792Z",
     "shell.execute_reply": "2024-03-19T18:31:34.586344Z"
    },
    "papermill": {
     "duration": 0.026409,
     "end_time": "2024-03-19T18:31:34.590058",
     "exception": false,
     "start_time": "2024-03-19T18:31:34.563649",
     "status": "completed"
    },
    "tags": []
   },
   "outputs": [
    {
     "data": {
      "text/plain": [
       "PassengerId      0\n",
       "Survived         0\n",
       "Pclass           0\n",
       "Name             0\n",
       "Sex              0\n",
       "Age            177\n",
       "SibSp            0\n",
       "Parch            0\n",
       "Ticket           0\n",
       "Fare             0\n",
       "Cabin          687\n",
       "Embarked         2\n",
       "dtype: int64"
      ]
     },
     "execution_count": 9,
     "metadata": {},
     "output_type": "execute_result"
    }
   ],
   "source": [
    "titanic.isna().sum()"
   ]
  },
  {
   "cell_type": "markdown",
   "id": "bbbff709",
   "metadata": {
    "papermill": {
     "duration": 0.015132,
     "end_time": "2024-03-19T18:31:34.619533",
     "exception": false,
     "start_time": "2024-03-19T18:31:34.604401",
     "status": "completed"
    },
    "tags": []
   },
   "source": [
    "#### **From this information, we can summarize:**\n",
    "- **There are categorical features in the data. So we need to encode them into numeric features.**\n",
    "- **3 column has missing values.**\n"
   ]
  },
  {
   "cell_type": "markdown",
   "id": "bc7067fe",
   "metadata": {
    "papermill": {
     "duration": 0.014408,
     "end_time": "2024-03-19T18:31:34.648375",
     "exception": false,
     "start_time": "2024-03-19T18:31:34.633967",
     "status": "completed"
    },
    "tags": []
   },
   "source": [
    "## **Visualizing the correlations**"
   ]
  },
  {
   "cell_type": "code",
   "execution_count": 10,
   "id": "628ec262",
   "metadata": {
    "execution": {
     "iopub.execute_input": "2024-03-19T18:31:34.678552Z",
     "iopub.status.busy": "2024-03-19T18:31:34.678114Z",
     "iopub.status.idle": "2024-03-19T18:31:35.130125Z",
     "shell.execute_reply": "2024-03-19T18:31:35.128469Z"
    },
    "papermill": {
     "duration": 0.471238,
     "end_time": "2024-03-19T18:31:35.133357",
     "exception": false,
     "start_time": "2024-03-19T18:31:34.662119",
     "status": "completed"
    },
    "tags": []
   },
   "outputs": [
    {
     "data": {
      "text/plain": [
       "<Axes: >"
      ]
     },
     "execution_count": 10,
     "metadata": {},
     "output_type": "execute_result"
    },
    {
     "data": {
      "image/png": "[encoded data removed]",
      "text/plain": [
       "<Figure size 1440x600 with 2 Axes>"
      ]
     },
     "metadata": {},
     "output_type": "display_data"
    }
   ],
   "source": [
    "# Select only numeric columns\n",
    "numeric_columns = titanic.select_dtypes(include=['number'])\n",
    "\n",
    "# Calculate correlations and create the heatmap\n",
    "corr = numeric_columns.corr()\n",
    "sns.heatmap(corr, annot=True, fmt='.2f',cmap=\"YlGnBu\")"
   ]
  },
  {
   "cell_type": "markdown",
   "id": "2ef26675",
   "metadata": {
    "papermill": {
     "duration": 0.014525,
     "end_time": "2024-03-19T18:31:35.162795",
     "exception": false,
     "start_time": "2024-03-19T18:31:35.148270",
     "status": "completed"
    },
    "tags": []
   },
   "source": [
    "***we can conclude that there is a small reverse corrolation between the Pclass and the Survived column***"
   ]
  },
  {
   "cell_type": "markdown",
   "id": "e4ebc183",
   "metadata": {
    "papermill": {
     "duration": 0.014565,
     "end_time": "2024-03-19T18:31:35.192541",
     "exception": false,
     "start_time": "2024-03-19T18:31:35.177976",
     "status": "completed"
    },
    "tags": []
   },
   "source": [
    "<hr>\n",
    "<p style=\"background-color:#93CDDD; font-family: 'Trebuchet MS'; font-weight: bold; color: #3a5a40; font-size: 40px; text-align: center; border-radius: 50px; padding: 10px;\">4️⃣ - Data Preprocessing</p>\n",
    "<a name = 4 ></a>\n",
    "<hr>\n"
   ]
  },
  {
   "cell_type": "markdown",
   "id": "fba4d46f",
   "metadata": {
    "_kg_hide-input": true,
    "_kg_hide-output": true,
    "papermill": {
     "duration": 0.014649,
     "end_time": "2024-03-19T18:31:35.221743",
     "exception": false,
     "start_time": "2024-03-19T18:31:35.207094",
     "status": "completed"
    },
    "tags": []
   },
   "source": [
    "# 4 - Data Preprocessing"
   ]
  },
  {
   "cell_type": "markdown",
   "id": "dedd7e52",
   "metadata": {
    "papermill": {
     "duration": 0.014944,
     "end_time": "2024-03-19T18:31:35.251944",
     "exception": false,
     "start_time": "2024-03-19T18:31:35.237000",
     "status": "completed"
    },
    "tags": []
   },
   "source": [
    "## Splitting the data into training and testing sets"
   ]
  },
  {
   "cell_type": "code",
   "execution_count": 11,
   "id": "09f755bc",
   "metadata": {
    "execution": {
     "iopub.execute_input": "2024-03-19T18:31:35.284563Z",
     "iopub.status.busy": "2024-03-19T18:31:35.284197Z",
     "iopub.status.idle": "2024-03-19T18:31:35.296133Z",
     "shell.execute_reply": "2024-03-19T18:31:35.294690Z"
    },
    "papermill": {
     "duration": 0.03133,
     "end_time": "2024-03-19T18:31:35.298625",
     "exception": false,
     "start_time": "2024-03-19T18:31:35.267295",
     "status": "completed"
    },
    "tags": []
   },
   "outputs": [],
   "source": [
    "X = titanic.drop('Survived', axis=1)  # Features\n",
    "y = titanic['Survived']               # Target\n",
    "\n",
    "X_train, X_test, y_train, y_test = train_test_split(X, y, test_size=0.2, random_state=4)"
   ]
  },
  {
   "cell_type": "code",
   "execution_count": 12,
   "id": "53c6aba0",
   "metadata": {
    "execution": {
     "iopub.execute_input": "2024-03-19T18:31:35.331093Z",
     "iopub.status.busy": "2024-03-19T18:31:35.330670Z",
     "iopub.status.idle": "2024-03-19T18:31:35.813186Z",
     "shell.execute_reply": "2024-03-19T18:31:35.811679Z"
    },
    "papermill": {
     "duration": 0.501623,
     "end_time": "2024-03-19T18:31:35.815849",
     "exception": false,
     "start_time": "2024-03-19T18:31:35.314226",
     "status": "completed"
    },
    "tags": []
   },
   "outputs": [
    {
     "data": {
      "text/plain": [
       "<Axes: xlabel='Survived', ylabel='Count'>"
      ]
     },
     "execution_count": 12,
     "metadata": {},
     "output_type": "execute_result"
    },
    {
     "data": {
      "image/png": "[encoded data removed]",
      "text/plain": [
       "<Figure size 1440x600 with 2 Axes>"
      ]
     },
     "metadata": {},
     "output_type": "display_data"
    }
   ],
   "source": [
    "plt.subplot(1,2,1)\n",
    "sns.histplot(y_test,color='blue')\n",
    "sns.histplot(X_train['Pclass'],color='orange')\n",
    "plt.subplot(1,2,2)\n",
    "sns.histplot(y_test,color='blue')\n",
    "sns.histplot(X_test['Pclass'],color='orange')\n"
   ]
  },
  {
   "cell_type": "code",
   "execution_count": 13,
   "id": "cd6afed3",
   "metadata": {
    "execution": {
     "iopub.execute_input": "2024-03-19T18:31:35.850080Z",
     "iopub.status.busy": "2024-03-19T18:31:35.848755Z",
     "iopub.status.idle": "2024-03-19T18:31:35.861027Z",
     "shell.execute_reply": "2024-03-19T18:31:35.859838Z"
    },
    "papermill": {
     "duration": 0.031587,
     "end_time": "2024-03-19T18:31:35.863221",
     "exception": false,
     "start_time": "2024-03-19T18:31:35.831634",
     "status": "completed"
    },
    "tags": []
   },
   "outputs": [
    {
     "name": "stdout",
     "output_type": "stream",
     "text": [
      "<class 'pandas.core.frame.DataFrame'>\n",
      "Index: 712 entries, 42 to 122\n",
      "Data columns (total 11 columns):\n",
      " #   Column       Non-Null Count  Dtype  \n",
      "---  ------       --------------  -----  \n",
      " 0   PassengerId  712 non-null    int64  \n",
      " 1   Pclass       712 non-null    int64  \n",
      " 2   Name         712 non-null    object \n",
      " 3   Sex          712 non-null    object \n",
      " 4   Age          570 non-null    float64\n",
      " 5   SibSp        712 non-null    int64  \n",
      " 6   Parch        712 non-null    int64  \n",
      " 7   Ticket       712 non-null    object \n",
      " 8   Fare         712 non-null    float64\n",
      " 9   Cabin        169 non-null    object \n",
      " 10  Embarked     710 non-null    object \n",
      "dtypes: float64(2), int64(4), object(5)\n",
      "memory usage: 66.8+ KB\n"
     ]
    }
   ],
   "source": [
    "X_train.info()"
   ]
  },
  {
   "cell_type": "markdown",
   "id": "98785868",
   "metadata": {
    "papermill": {
     "duration": 0.014848,
     "end_time": "2024-03-19T18:31:35.894408",
     "exception": false,
     "start_time": "2024-03-19T18:31:35.879560",
     "status": "completed"
    },
    "tags": []
   },
   "source": [
    "**we can see that the age has a lot of missing value**\n",
    "<br>\n",
    "**the cabin column isn't important so we will drop it**"
   ]
  },
  {
   "cell_type": "markdown",
   "id": "c77f9f44",
   "metadata": {
    "papermill": {
     "duration": 0.017611,
     "end_time": "2024-03-19T18:31:35.927296",
     "exception": false,
     "start_time": "2024-03-19T18:31:35.909685",
     "status": "completed"
    },
    "tags": []
   },
   "source": [
    "## Handling missing values in the Age column."
   ]
  },
  {
   "cell_type": "code",
   "execution_count": 14,
   "id": "0cb20ad5",
   "metadata": {
    "execution": {
     "iopub.execute_input": "2024-03-19T18:31:35.962150Z",
     "iopub.status.busy": "2024-03-19T18:31:35.961598Z",
     "iopub.status.idle": "2024-03-19T18:31:35.967058Z",
     "shell.execute_reply": "2024-03-19T18:31:35.966275Z"
    },
    "papermill": {
     "duration": 0.026341,
     "end_time": "2024-03-19T18:31:35.969293",
     "exception": false,
     "start_time": "2024-03-19T18:31:35.942952",
     "status": "completed"
    },
    "tags": []
   },
   "outputs": [],
   "source": [
    "class AgeImputer(BaseEstimator, TransformerMixin):\n",
    "    def fit (self, X,y=None):\n",
    "        return self\n",
    "    def transform(self,X):\n",
    "        imputer = SimpleImputer(strategy = \"mean\")\n",
    "        X['Age'] = imputer.fit_transform(X[['Age']])\n",
    "        return X"
   ]
  },
  {
   "cell_type": "code",
   "execution_count": 15,
   "id": "0626c277",
   "metadata": {
    "execution": {
     "iopub.execute_input": "2024-03-19T18:31:36.002844Z",
     "iopub.status.busy": "2024-03-19T18:31:36.002195Z",
     "iopub.status.idle": "2024-03-19T18:31:36.007761Z",
     "shell.execute_reply": "2024-03-19T18:31:36.007031Z"
    },
    "papermill": {
     "duration": 0.025046,
     "end_time": "2024-03-19T18:31:36.010150",
     "exception": false,
     "start_time": "2024-03-19T18:31:35.985104",
     "status": "completed"
    },
    "tags": []
   },
   "outputs": [
    {
     "data": {
      "text/plain": [
       "array(['C', 'S', 'Q', nan], dtype=object)"
      ]
     },
     "execution_count": 15,
     "metadata": {},
     "output_type": "execute_result"
    }
   ],
   "source": [
    "X_train[\"Embarked\"].unique()"
   ]
  },
  {
   "cell_type": "markdown",
   "id": "00a05ff5",
   "metadata": {
    "papermill": {
     "duration": 0.016153,
     "end_time": "2024-03-19T18:31:36.042669",
     "exception": false,
     "start_time": "2024-03-19T18:31:36.026516",
     "status": "completed"
    },
    "tags": []
   },
   "source": [
    "## Encoding categorical features ('Embarked' and 'Sex')"
   ]
  },
  {
   "cell_type": "code",
   "execution_count": 16,
   "id": "fbb0404b",
   "metadata": {
    "execution": {
     "iopub.execute_input": "2024-03-19T18:31:36.077016Z",
     "iopub.status.busy": "2024-03-19T18:31:36.076598Z",
     "iopub.status.idle": "2024-03-19T18:31:36.083927Z",
     "shell.execute_reply": "2024-03-19T18:31:36.082435Z"
    },
    "papermill": {
     "duration": 0.027766,
     "end_time": "2024-03-19T18:31:36.086625",
     "exception": false,
     "start_time": "2024-03-19T18:31:36.058859",
     "status": "completed"
    },
    "tags": []
   },
   "outputs": [],
   "source": [
    "class FeatureEncoder(BaseEstimator, TransformerMixin):\n",
    "    def fit (self,X):\n",
    "        return self\n",
    "    def transform(self,X):\n",
    "        encoder = OneHotEncoder()\n",
    "        \n",
    "        matrix= encoder.fit_transform(X[['Embarked']]).toarray()\n",
    "        columns = [\"C\",\"S\",\"Q\",\"N\"]\n",
    "        for i in range(len(matrix.T)):\n",
    "            X[columns[i]]= matrix.T[i]\n",
    "        \n",
    "        matrix = encoder.fit_transform(X[[\"Sex\"]]).toarray()\n",
    "        columns = [\"Female\",\"Male\"]\n",
    "        for i in range(len(matrix.T)):\n",
    "            X[columns[i]]= matrix.T[i]\n",
    "        return X"
   ]
  },
  {
   "cell_type": "markdown",
   "id": "8757c0b3",
   "metadata": {
    "papermill": {
     "duration": 0.015279,
     "end_time": "2024-03-19T18:31:36.118103",
     "exception": false,
     "start_time": "2024-03-19T18:31:36.102824",
     "status": "completed"
    },
    "tags": []
   },
   "source": [
    "## Dropping unnecessary columns."
   ]
  },
  {
   "cell_type": "code",
   "execution_count": 17,
   "id": "5eb604a5",
   "metadata": {
    "execution": {
     "iopub.execute_input": "2024-03-19T18:31:36.151336Z",
     "iopub.status.busy": "2024-03-19T18:31:36.150922Z",
     "iopub.status.idle": "2024-03-19T18:31:36.156541Z",
     "shell.execute_reply": "2024-03-19T18:31:36.155624Z"
    },
    "papermill": {
     "duration": 0.024444,
     "end_time": "2024-03-19T18:31:36.158283",
     "exception": false,
     "start_time": "2024-03-19T18:31:36.133839",
     "status": "completed"
    },
    "tags": []
   },
   "outputs": [],
   "source": [
    "#feature dropper\n",
    "\n",
    "class FeatureDropper(BaseEstimator, TransformerMixin):\n",
    "    def fit(self , X , y =None):\n",
    "        return self\n",
    "    def transform(self , X ):\n",
    "        return X.drop([\"Name\",\"Sex\",\"Embarked\",\"Ticket\",\"Cabin\",\"N\"], axis =1, errors = \"ignore\")\n"
   ]
  },
  {
   "cell_type": "markdown",
   "id": "ca27e75c",
   "metadata": {
    "papermill": {
     "duration": 0.015534,
     "end_time": "2024-03-19T18:31:36.189723",
     "exception": false,
     "start_time": "2024-03-19T18:31:36.174189",
     "status": "completed"
    },
    "tags": []
   },
   "source": [
    "## Pipeline"
   ]
  },
  {
   "cell_type": "code",
   "execution_count": 18,
   "id": "d73d33e4",
   "metadata": {
    "execution": {
     "iopub.execute_input": "2024-03-19T18:31:36.225430Z",
     "iopub.status.busy": "2024-03-19T18:31:36.223652Z",
     "iopub.status.idle": "2024-03-19T18:31:36.230700Z",
     "shell.execute_reply": "2024-03-19T18:31:36.229617Z"
    },
    "papermill": {
     "duration": 0.026342,
     "end_time": "2024-03-19T18:31:36.232557",
     "exception": false,
     "start_time": "2024-03-19T18:31:36.206215",
     "status": "completed"
    },
    "tags": []
   },
   "outputs": [],
   "source": [
    "pipeline = Pipeline([(\"ageimputer\",AgeImputer()),\n",
    "                    (\"featureencoder\",FeatureEncoder()),\n",
    "                    (\"featuredropper\",FeatureDropper())])"
   ]
  },
  {
   "cell_type": "code",
   "execution_count": 19,
   "id": "eee5e20d",
   "metadata": {
    "execution": {
     "iopub.execute_input": "2024-03-19T18:31:36.265486Z",
     "iopub.status.busy": "2024-03-19T18:31:36.265085Z",
     "iopub.status.idle": "2024-03-19T18:31:36.280106Z",
     "shell.execute_reply": "2024-03-19T18:31:36.278687Z"
    },
    "papermill": {
     "duration": 0.034664,
     "end_time": "2024-03-19T18:31:36.283124",
     "exception": false,
     "start_time": "2024-03-19T18:31:36.248460",
     "status": "completed"
    },
    "tags": []
   },
   "outputs": [
    {
     "data": {
      "text/html": [
       "<div>\n",
       "<style scoped>\n",
       "    .dataframe tbody tr th:only-of-type {\n",
       "        vertical-align: middle;\n",
       "    }\n",
       "\n",
       "    .dataframe tbody tr th {\n",
       "        vertical-align: top;\n",
       "    }\n",
       "\n",
       "    .dataframe thead th {\n",
       "        text-align: right;\n",
       "    }\n",
       "</style>\n",
       "<table border=\"1\" class=\"dataframe\">\n",
       "  <thead>\n",
       "    <tr style=\"text-align: right;\">\n",
       "      <th></th>\n",
       "      <th>PassengerId</th>\n",
       "      <th>Pclass</th>\n",
       "      <th>Name</th>\n",
       "      <th>Sex</th>\n",
       "      <th>Age</th>\n",
       "      <th>SibSp</th>\n",
       "      <th>Parch</th>\n",
       "      <th>Ticket</th>\n",
       "      <th>Fare</th>\n",
       "      <th>Cabin</th>\n",
       "      <th>Embarked</th>\n",
       "    </tr>\n",
       "  </thead>\n",
       "  <tbody>\n",
       "    <tr>\n",
       "      <th>42</th>\n",
       "      <td>43</td>\n",
       "      <td>3</td>\n",
       "      <td>Kraeff, Mr. Theodor</td>\n",
       "      <td>male</td>\n",
       "      <td>NaN</td>\n",
       "      <td>0</td>\n",
       "      <td>0</td>\n",
       "      <td>349253</td>\n",
       "      <td>7.8958</td>\n",
       "      <td>NaN</td>\n",
       "      <td>C</td>\n",
       "    </tr>\n",
       "    <tr>\n",
       "      <th>684</th>\n",
       "      <td>685</td>\n",
       "      <td>2</td>\n",
       "      <td>Brown, Mr. Thomas William Solomon</td>\n",
       "      <td>male</td>\n",
       "      <td>60.0</td>\n",
       "      <td>1</td>\n",
       "      <td>1</td>\n",
       "      <td>29750</td>\n",
       "      <td>39.0000</td>\n",
       "      <td>NaN</td>\n",
       "      <td>S</td>\n",
       "    </tr>\n",
       "  </tbody>\n",
       "</table>\n",
       "</div>"
      ],
      "text/plain": [
       "     PassengerId  Pclass                               Name   Sex   Age  \\\n",
       "42            43       3                Kraeff, Mr. Theodor  male   NaN   \n",
       "684          685       2  Brown, Mr. Thomas William Solomon  male  60.0   \n",
       "\n",
       "     SibSp  Parch  Ticket     Fare Cabin Embarked  \n",
       "42       0      0  349253   7.8958   NaN        C  \n",
       "684      1      1   29750  39.0000   NaN        S  "
      ]
     },
     "execution_count": 19,
     "metadata": {},
     "output_type": "execute_result"
    }
   ],
   "source": [
    "X_train.head(2)"
   ]
  },
  {
   "cell_type": "code",
   "execution_count": 20,
   "id": "0ab7aff5",
   "metadata": {
    "execution": {
     "iopub.execute_input": "2024-03-19T18:31:36.318713Z",
     "iopub.status.busy": "2024-03-19T18:31:36.318357Z",
     "iopub.status.idle": "2024-03-19T18:31:36.360326Z",
     "shell.execute_reply": "2024-03-19T18:31:36.359443Z"
    },
    "papermill": {
     "duration": 0.062863,
     "end_time": "2024-03-19T18:31:36.362717",
     "exception": false,
     "start_time": "2024-03-19T18:31:36.299854",
     "status": "completed"
    },
    "tags": []
   },
   "outputs": [],
   "source": [
    "X_train = pipeline.fit_transform(X_train)\n",
    "X_test = pipeline.fit_transform(X_test)\n",
    "passenger_id = titanic_test['PassengerId']\n",
    "titanic_test = pipeline.fit_transform(titanic_test)"
   ]
  },
  {
   "cell_type": "code",
   "execution_count": 21,
   "id": "8b60604e",
   "metadata": {
    "execution": {
     "iopub.execute_input": "2024-03-19T18:31:36.399277Z",
     "iopub.status.busy": "2024-03-19T18:31:36.397625Z",
     "iopub.status.idle": "2024-03-19T18:31:36.414801Z",
     "shell.execute_reply": "2024-03-19T18:31:36.413745Z"
    },
    "papermill": {
     "duration": 0.037968,
     "end_time": "2024-03-19T18:31:36.417726",
     "exception": false,
     "start_time": "2024-03-19T18:31:36.379758",
     "status": "completed"
    },
    "tags": []
   },
   "outputs": [
    {
     "data": {
      "text/html": [
       "<div>\n",
       "<style scoped>\n",
       "    .dataframe tbody tr th:only-of-type {\n",
       "        vertical-align: middle;\n",
       "    }\n",
       "\n",
       "    .dataframe tbody tr th {\n",
       "        vertical-align: top;\n",
       "    }\n",
       "\n",
       "    .dataframe thead th {\n",
       "        text-align: right;\n",
       "    }\n",
       "</style>\n",
       "<table border=\"1\" class=\"dataframe\">\n",
       "  <thead>\n",
       "    <tr style=\"text-align: right;\">\n",
       "      <th></th>\n",
       "      <th>PassengerId</th>\n",
       "      <th>Pclass</th>\n",
       "      <th>Age</th>\n",
       "      <th>SibSp</th>\n",
       "      <th>Parch</th>\n",
       "      <th>Fare</th>\n",
       "      <th>C</th>\n",
       "      <th>S</th>\n",
       "      <th>Q</th>\n",
       "      <th>Female</th>\n",
       "      <th>Male</th>\n",
       "    </tr>\n",
       "  </thead>\n",
       "  <tbody>\n",
       "    <tr>\n",
       "      <th>42</th>\n",
       "      <td>43</td>\n",
       "      <td>3</td>\n",
       "      <td>30.020474</td>\n",
       "      <td>0</td>\n",
       "      <td>0</td>\n",
       "      <td>7.8958</td>\n",
       "      <td>1.0</td>\n",
       "      <td>0.0</td>\n",
       "      <td>0.0</td>\n",
       "      <td>0.0</td>\n",
       "      <td>1.0</td>\n",
       "    </tr>\n",
       "    <tr>\n",
       "      <th>684</th>\n",
       "      <td>685</td>\n",
       "      <td>2</td>\n",
       "      <td>60.000000</td>\n",
       "      <td>1</td>\n",
       "      <td>1</td>\n",
       "      <td>39.0000</td>\n",
       "      <td>0.0</td>\n",
       "      <td>0.0</td>\n",
       "      <td>1.0</td>\n",
       "      <td>0.0</td>\n",
       "      <td>1.0</td>\n",
       "    </tr>\n",
       "  </tbody>\n",
       "</table>\n",
       "</div>"
      ],
      "text/plain": [
       "     PassengerId  Pclass        Age  SibSp  Parch     Fare    C    S    Q  \\\n",
       "42            43       3  30.020474      0      0   7.8958  1.0  0.0  0.0   \n",
       "684          685       2  60.000000      1      1  39.0000  0.0  0.0  1.0   \n",
       "\n",
       "     Female  Male  \n",
       "42      0.0   1.0  \n",
       "684     0.0   1.0  "
      ]
     },
     "execution_count": 21,
     "metadata": {},
     "output_type": "execute_result"
    }
   ],
   "source": [
    "X_train.head(2)"
   ]
  },
  {
   "cell_type": "code",
   "execution_count": 22,
   "id": "fb2cd467",
   "metadata": {
    "execution": {
     "iopub.execute_input": "2024-03-19T18:31:36.453772Z",
     "iopub.status.busy": "2024-03-19T18:31:36.452296Z",
     "iopub.status.idle": "2024-03-19T18:31:36.464619Z",
     "shell.execute_reply": "2024-03-19T18:31:36.463198Z"
    },
    "papermill": {
     "duration": 0.031863,
     "end_time": "2024-03-19T18:31:36.466862",
     "exception": false,
     "start_time": "2024-03-19T18:31:36.434999",
     "status": "completed"
    },
    "tags": []
   },
   "outputs": [
    {
     "name": "stdout",
     "output_type": "stream",
     "text": [
      "<class 'pandas.core.frame.DataFrame'>\n",
      "Index: 712 entries, 42 to 122\n",
      "Data columns (total 11 columns):\n",
      " #   Column       Non-Null Count  Dtype  \n",
      "---  ------       --------------  -----  \n",
      " 0   PassengerId  712 non-null    int64  \n",
      " 1   Pclass       712 non-null    int64  \n",
      " 2   Age          712 non-null    float64\n",
      " 3   SibSp        712 non-null    int64  \n",
      " 4   Parch        712 non-null    int64  \n",
      " 5   Fare         712 non-null    float64\n",
      " 6   C            712 non-null    float64\n",
      " 7   S            712 non-null    float64\n",
      " 8   Q            712 non-null    float64\n",
      " 9   Female       712 non-null    float64\n",
      " 10  Male         712 non-null    float64\n",
      "dtypes: float64(7), int64(4)\n",
      "memory usage: 66.8 KB\n"
     ]
    }
   ],
   "source": [
    "X_train.info()"
   ]
  },
  {
   "cell_type": "markdown",
   "id": "9d732137",
   "metadata": {
    "papermill": {
     "duration": 0.016161,
     "end_time": "2024-03-19T18:31:36.499352",
     "exception": false,
     "start_time": "2024-03-19T18:31:36.483191",
     "status": "completed"
    },
    "tags": []
   },
   "source": [
    "\n",
    "<hr>\n",
    "\n",
    "<p style=\"background-color:#93CDDD; font-family: 'Trebuchet MS'; font-weight: bold; color: #3a5a40; font-size: 40px; text-align: center; border-radius: 50px; padding: 10px;\">5️⃣ - Feature Scaling</p>\n",
    "<a name = 5 ></a>\n",
    "<hr>\n"
   ]
  },
  {
   "cell_type": "markdown",
   "id": "a2c45b93",
   "metadata": {
    "_kg_hide-input": true,
    "_kg_hide-output": true,
    "papermill": {
     "duration": 0.015899,
     "end_time": "2024-03-19T18:31:36.532506",
     "exception": false,
     "start_time": "2024-03-19T18:31:36.516607",
     "status": "completed"
    },
    "tags": []
   },
   "source": [
    "# 5 - Feature Scaling"
   ]
  },
  {
   "cell_type": "code",
   "execution_count": 23,
   "id": "e6e9d2f1",
   "metadata": {
    "execution": {
     "iopub.execute_input": "2024-03-19T18:31:36.567041Z",
     "iopub.status.busy": "2024-03-19T18:31:36.566661Z",
     "iopub.status.idle": "2024-03-19T18:31:36.575739Z",
     "shell.execute_reply": "2024-03-19T18:31:36.574757Z"
    },
    "papermill": {
     "duration": 0.029837,
     "end_time": "2024-03-19T18:31:36.578449",
     "exception": false,
     "start_time": "2024-03-19T18:31:36.548612",
     "status": "completed"
    },
    "tags": []
   },
   "outputs": [],
   "source": [
    "#ensure that all features have similar scales\n",
    "scaler = StandardScaler()\n",
    "X_train_data =  scaler.fit_transform(X_train)\n",
    "y_train_data = y_train.to_numpy()  #  convert a Pandas Series into a NumPy array."
   ]
  },
  {
   "cell_type": "code",
   "execution_count": 24,
   "id": "edd12d5c",
   "metadata": {
    "execution": {
     "iopub.execute_input": "2024-03-19T18:31:36.614338Z",
     "iopub.status.busy": "2024-03-19T18:31:36.613892Z",
     "iopub.status.idle": "2024-03-19T18:31:36.619530Z",
     "shell.execute_reply": "2024-03-19T18:31:36.617990Z"
    },
    "papermill": {
     "duration": 0.026715,
     "end_time": "2024-03-19T18:31:36.622201",
     "exception": false,
     "start_time": "2024-03-19T18:31:36.595486",
     "status": "completed"
    },
    "tags": []
   },
   "outputs": [],
   "source": [
    "X_train_data = pd.DataFrame(X_train_data,columns = X_test.columns)"
   ]
  },
  {
   "cell_type": "code",
   "execution_count": 25,
   "id": "f4266870",
   "metadata": {
    "execution": {
     "iopub.execute_input": "2024-03-19T18:31:36.656864Z",
     "iopub.status.busy": "2024-03-19T18:31:36.656247Z",
     "iopub.status.idle": "2024-03-19T18:31:36.664752Z",
     "shell.execute_reply": "2024-03-19T18:31:36.663961Z"
    },
    "papermill": {
     "duration": 0.028569,
     "end_time": "2024-03-19T18:31:36.667190",
     "exception": false,
     "start_time": "2024-03-19T18:31:36.638621",
     "status": "completed"
    },
    "tags": []
   },
   "outputs": [],
   "source": [
    "X_test_data =  scaler.fit_transform(X_test)\n",
    "y_test_data = y_test.to_numpy()  \n",
    "\n",
    "X_test_data = pd.DataFrame(X_test_data,columns = X_train.columns)"
   ]
  },
  {
   "cell_type": "code",
   "execution_count": 26,
   "id": "d770c166",
   "metadata": {
    "execution": {
     "iopub.execute_input": "2024-03-19T18:31:36.702353Z",
     "iopub.status.busy": "2024-03-19T18:31:36.702017Z",
     "iopub.status.idle": "2024-03-19T18:31:36.711266Z",
     "shell.execute_reply": "2024-03-19T18:31:36.710272Z"
    },
    "papermill": {
     "duration": 0.030037,
     "end_time": "2024-03-19T18:31:36.713764",
     "exception": false,
     "start_time": "2024-03-19T18:31:36.683727",
     "status": "completed"
    },
    "tags": []
   },
   "outputs": [],
   "source": [
    "titanic_test = scaler.fit_transform(titanic_test)"
   ]
  },
  {
   "cell_type": "markdown",
   "id": "3eea0fd4",
   "metadata": {
    "papermill": {
     "duration": 0.015951,
     "end_time": "2024-03-19T18:31:36.746127",
     "exception": false,
     "start_time": "2024-03-19T18:31:36.730176",
     "status": "completed"
    },
    "tags": []
   },
   "source": [
    "**for each column. we can see that the mean is close to 0 and the standard deviation is close to 1.**"
   ]
  },
  {
   "cell_type": "markdown",
   "id": "dce7fc26",
   "metadata": {
    "papermill": {
     "duration": 0.01554,
     "end_time": "2024-03-19T18:31:36.777833",
     "exception": false,
     "start_time": "2024-03-19T18:31:36.762293",
     "status": "completed"
    },
    "tags": []
   },
   "source": [
    "\n",
    "\n",
    "<hr>\n",
    "\n",
    "<p style=\"background-color:#93CDDD; font-family: 'Trebuchet MS'; font-weight: bold; color: #3a5a40; font-size: 40px; text-align: center; border-radius: 50px; padding: 10px;\">6️⃣ - Model Building and Evaluation using  LazyClassifier</p>\n",
    "<a name = 6 ></a>\n",
    "<hr>\n"
   ]
  },
  {
   "cell_type": "markdown",
   "id": "e9c875d4",
   "metadata": {
    "papermill": {
     "duration": 0.015999,
     "end_time": "2024-03-19T18:31:36.809679",
     "exception": false,
     "start_time": "2024-03-19T18:31:36.793680",
     "status": "completed"
    },
    "tags": []
   },
   "source": [
    "## Selecting the best model based on performance."
   ]
  },
  {
   "cell_type": "code",
   "execution_count": 27,
   "id": "0fb1c845",
   "metadata": {
    "_kg_hide-output": true,
    "execution": {
     "iopub.execute_input": "2024-03-19T18:31:36.843921Z",
     "iopub.status.busy": "2024-03-19T18:31:36.843501Z",
     "iopub.status.idle": "2024-03-19T18:31:48.721105Z",
     "shell.execute_reply": "2024-03-19T18:31:48.719338Z"
    },
    "papermill": {
     "duration": 11.897924,
     "end_time": "2024-03-19T18:31:48.723776",
     "exception": false,
     "start_time": "2024-03-19T18:31:36.825852",
     "status": "completed"
    },
    "tags": []
   },
   "outputs": [
    {
     "name": "stdout",
     "output_type": "stream",
     "text": [
      "Collecting lazypredict\r\n",
      "  Downloading lazypredict-0.2.12-py2.py3-none-any.whl (12 kB)\r\n",
      "Requirement already satisfied: click in /opt/conda/lib/python3.10/site-packages (from lazypredict) (8.1.7)\r\n",
      "Requirement already satisfied: scikit-learn in /opt/conda/lib/python3.10/site-packages (from lazypredict) (1.2.2)\r\n",
      "Requirement already satisfied: pandas in /opt/conda/lib/python3.10/site-packages (from lazypredict) (2.0.3)\r\n",
      "Requirement already satisfied: tqdm in /opt/conda/lib/python3.10/site-packages (from lazypredict) (4.66.1)\r\n",
      "Requirement already satisfied: joblib in /opt/conda/lib/python3.10/site-packages (from lazypredict) (1.3.2)\r\n",
      "Requirement already satisfied: lightgbm in /opt/conda/lib/python3.10/site-packages (from lazypredict) (3.3.2)\r\n",
      "Requirement already satisfied: xgboost in /opt/conda/lib/python3.10/site-packages (from lazypredict) (1.7.6)\r\n",
      "Requirement already satisfied: wheel in /opt/conda/lib/python3.10/site-packages (from lightgbm->lazypredict) (0.40.0)\r\n",
      "Requirement already satisfied: numpy in /opt/conda/lib/python3.10/site-packages (from lightgbm->lazypredict) (1.23.5)\r\n",
      "Requirement already satisfied: scipy in /opt/conda/lib/python3.10/site-packages (from lightgbm->lazypredict) (1.11.2)\r\n",
      "Requirement already satisfied: threadpoolctl>=2.0.0 in /opt/conda/lib/python3.10/site-packages (from scikit-learn->lazypredict) (3.1.0)\r\n",
      "Requirement already satisfied: python-dateutil>=2.8.2 in /opt/conda/lib/python3.10/site-packages (from pandas->lazypredict) (2.8.2)\r\n",
      "Requirement already satisfied: pytz>=2020.1 in /opt/conda/lib/python3.10/site-packages (from pandas->lazypredict) (2023.3)\r\n",
      "Requirement already satisfied: tzdata>=2022.1 in /opt/conda/lib/python3.10/site-packages (from pandas->lazypredict) (2023.3)\r\n",
      "Requirement already satisfied: six>=1.5 in /opt/conda/lib/python3.10/site-packages (from python-dateutil>=2.8.2->pandas->lazypredict) (1.16.0)\r\n",
      "Installing collected packages: lazypredict\r\n",
      "Successfully installed lazypredict-0.2.12\r\n"
     ]
    }
   ],
   "source": [
    "!pip install lazypredict"
   ]
  },
  {
   "cell_type": "code",
   "execution_count": 28,
   "id": "3fb10000",
   "metadata": {
    "execution": {
     "iopub.execute_input": "2024-03-19T18:31:48.760537Z",
     "iopub.status.busy": "2024-03-19T18:31:48.760149Z",
     "iopub.status.idle": "2024-03-19T18:31:54.173857Z",
     "shell.execute_reply": "2024-03-19T18:31:54.172718Z"
    },
    "papermill": {
     "duration": 5.436071,
     "end_time": "2024-03-19T18:31:54.177329",
     "exception": false,
     "start_time": "2024-03-19T18:31:48.741258",
     "status": "completed"
    },
    "tags": []
   },
   "outputs": [
    {
     "name": "stderr",
     "output_type": "stream",
     "text": [
      "100%|██████████| 29/29 [00:02<00:00, 13.21it/s]"
     ]
    },
    {
     "name": "stdout",
     "output_type": "stream",
     "text": [
      "                               Accuracy  Balanced Accuracy  ROC AUC  F1 Score  \\\n",
      "Model                                                                           \n",
      "XGBClassifier                      0.85               0.82     0.82      0.85   \n",
      "RandomForestClassifier             0.86               0.82     0.82      0.86   \n",
      "LGBMClassifier                     0.85               0.82     0.82      0.85   \n",
      "LabelSpreading                     0.84               0.81     0.81      0.84   \n",
      "LabelPropagation                   0.84               0.81     0.81      0.84   \n",
      "ExtraTreesClassifier               0.84               0.80     0.80      0.84   \n",
      "LogisticRegression                 0.83               0.80     0.80      0.83   \n",
      "BaggingClassifier                  0.83               0.80     0.80      0.83   \n",
      "SVC                                0.84               0.80     0.80      0.83   \n",
      "LinearDiscriminantAnalysis         0.83               0.80     0.80      0.82   \n",
      "RidgeClassifierCV                  0.83               0.80     0.80      0.82   \n",
      "RidgeClassifier                    0.83               0.80     0.80      0.82   \n",
      "LinearSVC                          0.83               0.80     0.80      0.82   \n",
      "DecisionTreeClassifier             0.83               0.80     0.80      0.82   \n",
      "CalibratedClassifierCV             0.83               0.80     0.80      0.82   \n",
      "GaussianNB                         0.82               0.80     0.80      0.82   \n",
      "NearestCentroid                    0.82               0.79     0.79      0.82   \n",
      "KNeighborsClassifier               0.83               0.79     0.79      0.82   \n",
      "NuSVC                              0.83               0.78     0.78      0.82   \n",
      "PassiveAggressiveClassifier        0.80               0.78     0.78      0.80   \n",
      "BernoulliNB                        0.80               0.77     0.77      0.80   \n",
      "AdaBoostClassifier                 0.78               0.76     0.76      0.78   \n",
      "SGDClassifier                      0.78               0.74     0.74      0.78   \n",
      "ExtraTreeClassifier                0.74               0.72     0.72      0.74   \n",
      "Perceptron                         0.72               0.68     0.68      0.72   \n",
      "QuadraticDiscriminantAnalysis      0.34               0.50     0.50      0.17   \n",
      "DummyClassifier                    0.66               0.50     0.50      0.53   \n",
      "\n",
      "                               Time Taken  \n",
      "Model                                      \n",
      "XGBClassifier                        0.13  \n",
      "RandomForestClassifier               0.19  \n",
      "LGBMClassifier                       0.60  \n",
      "LabelSpreading                       0.14  \n",
      "LabelPropagation                     0.11  \n",
      "ExtraTreesClassifier                 0.16  \n",
      "LogisticRegression                   0.02  \n",
      "BaggingClassifier                    0.05  \n",
      "SVC                                  0.03  \n",
      "LinearDiscriminantAnalysis           0.06  \n",
      "RidgeClassifierCV                    0.02  \n",
      "RidgeClassifier                      0.03  \n",
      "LinearSVC                            0.07  \n",
      "DecisionTreeClassifier               0.02  \n",
      "CalibratedClassifierCV               0.18  \n",
      "GaussianNB                           0.02  \n",
      "NearestCentroid                      0.01  \n",
      "KNeighborsClassifier                 0.03  \n",
      "NuSVC                                0.07  \n",
      "PassiveAggressiveClassifier          0.02  \n",
      "BernoulliNB                          0.01  \n",
      "AdaBoostClassifier                   0.12  \n",
      "SGDClassifier                        0.02  \n",
      "ExtraTreeClassifier                  0.01  \n",
      "Perceptron                           0.02  \n",
      "QuadraticDiscriminantAnalysis        0.03  \n",
      "DummyClassifier                      0.01  \n"
     ]
    },
    {
     "name": "stderr",
     "output_type": "stream",
     "text": [
      "\n"
     ]
    }
   ],
   "source": [
    "from lazypredict.Supervised import LazyClassifier\n",
    "\n",
    "clf = LazyClassifier(verbose=0,ignore_warnings=True, custom_metric=None)\n",
    "\n",
    "models, predictions = clf.fit(X_train_data, X_test_data, y_train, y_test)\n",
    "\n",
    "print(models)"
   ]
  },
  {
   "cell_type": "code",
   "execution_count": 29,
   "id": "ceeb46cd",
   "metadata": {
    "execution": {
     "iopub.execute_input": "2024-03-19T18:31:54.215192Z",
     "iopub.status.busy": "2024-03-19T18:31:54.214790Z",
     "iopub.status.idle": "2024-03-19T18:31:54.688425Z",
     "shell.execute_reply": "2024-03-19T18:31:54.687231Z"
    },
    "papermill": {
     "duration": 0.495638,
     "end_time": "2024-03-19T18:31:54.690681",
     "exception": false,
     "start_time": "2024-03-19T18:31:54.195043",
     "status": "completed"
    },
    "tags": []
   },
   "outputs": [
    {
     "data": {
      "image/png": "[encoded data removed]",
      "text/plain": [
       "<Figure size 1440x600 with 1 Axes>"
      ]
     },
     "metadata": {},
     "output_type": "display_data"
    }
   ],
   "source": [
    "models.sort_values('Accuracy', ascending=False).plot(kind='bar', y='Accuracy')\n",
    "plt.title('Model Comparison - Accuracy')\n",
    "plt.show()"
   ]
  },
  {
   "cell_type": "markdown",
   "id": "b0f26d7c",
   "metadata": {
    "papermill": {
     "duration": 0.019156,
     "end_time": "2024-03-19T18:31:54.729130",
     "exception": false,
     "start_time": "2024-03-19T18:31:54.709974",
     "status": "completed"
    },
    "tags": []
   },
   "source": [
    "\n",
    "<hr>\n",
    "\n",
    "<p style=\"background-color:#93CDDD; font-family: 'Trebuchet MS'; font-weight: bold; color: #3a5a40; font-size: 40px; text-align: center; border-radius: 50px; padding: 10px;\">7️⃣ -  Fine-Tuning with Optuna:</p>\n",
    "<a name = 7 ></a>\n",
    "<hr>\n"
   ]
  },
  {
   "cell_type": "markdown",
   "id": "424f8835",
   "metadata": {
    "_kg_hide-input": true,
    "_kg_hide-output": true,
    "papermill": {
     "duration": 0.01902,
     "end_time": "2024-03-19T18:31:54.767750",
     "exception": false,
     "start_time": "2024-03-19T18:31:54.748730",
     "status": "completed"
    },
    "tags": []
   },
   "source": [
    "# 7 -  Fine-Tuning with Optuna:"
   ]
  },
  {
   "cell_type": "code",
   "execution_count": 30,
   "id": "983deacd",
   "metadata": {
    "_kg_hide-output": true,
    "execution": {
     "iopub.execute_input": "2024-03-19T18:31:54.808760Z",
     "iopub.status.busy": "2024-03-19T18:31:54.808377Z",
     "iopub.status.idle": "2024-03-19T18:32:22.362934Z",
     "shell.execute_reply": "2024-03-19T18:32:22.361630Z"
    },
    "papermill": {
     "duration": 27.578297,
     "end_time": "2024-03-19T18:32:22.365683",
     "exception": false,
     "start_time": "2024-03-19T18:31:54.787386",
     "status": "completed"
    },
    "tags": []
   },
   "outputs": [
    {
     "name": "stderr",
     "output_type": "stream",
     "text": [
      "[I 2024-03-19 18:31:54,811] A new study created in memory with name: no-name-7fc30109-67b4-4a3d-9dbc-f8ce4cfbdd51\n",
      "[I 2024-03-19 18:31:54,890] Trial 0 finished with value: 0.8379888268156425 and parameters: {'n_estimators': 39, 'max_depth': 12, 'min_samples_split': 4, 'min_samples_leaf': 1}. Best is trial 0 with value: 0.8379888268156425.\n",
      "[I 2024-03-19 18:31:55,578] Trial 1 finished with value: 0.8268156424581006 and parameters: {'n_estimators': 455, 'max_depth': 4, 'min_samples_split': 8, 'min_samples_leaf': 3}. Best is trial 0 with value: 0.8379888268156425.\n",
      "[I 2024-03-19 18:31:56,073] Trial 2 finished with value: 0.8435754189944135 and parameters: {'n_estimators': 305, 'max_depth': 21, 'min_samples_split': 7, 'min_samples_leaf': 9}. Best is trial 2 with value: 0.8435754189944135.\n",
      "[I 2024-03-19 18:31:56,284] Trial 3 finished with value: 0.8435754189944135 and parameters: {'n_estimators': 123, 'max_depth': 24, 'min_samples_split': 9, 'min_samples_leaf': 5}. Best is trial 2 with value: 0.8435754189944135.\n",
      "[I 2024-03-19 18:31:56,861] Trial 4 finished with value: 0.8435754189944135 and parameters: {'n_estimators': 338, 'max_depth': 18, 'min_samples_split': 4, 'min_samples_leaf': 2}. Best is trial 2 with value: 0.8435754189944135.\n",
      "[I 2024-03-19 18:31:56,948] Trial 5 finished with value: 0.8435754189944135 and parameters: {'n_estimators': 47, 'max_depth': 11, 'min_samples_split': 4, 'min_samples_leaf': 2}. Best is trial 2 with value: 0.8435754189944135.\n",
      "[I 2024-03-19 18:31:57,454] Trial 6 finished with value: 0.8435754189944135 and parameters: {'n_estimators': 298, 'max_depth': 7, 'min_samples_split': 10, 'min_samples_leaf': 5}. Best is trial 2 with value: 0.8435754189944135.\n",
      "[I 2024-03-19 18:31:57,614] Trial 7 finished with value: 0.8379888268156425 and parameters: {'n_estimators': 93, 'max_depth': 8, 'min_samples_split': 9, 'min_samples_leaf': 6}. Best is trial 2 with value: 0.8435754189944135.\n",
      "[I 2024-03-19 18:31:57,815] Trial 8 finished with value: 0.8379888268156425 and parameters: {'n_estimators': 118, 'max_depth': 30, 'min_samples_split': 5, 'min_samples_leaf': 4}. Best is trial 2 with value: 0.8435754189944135.\n",
      "[I 2024-03-19 18:31:58,143] Trial 9 finished with value: 0.8100558659217877 and parameters: {'n_estimators': 226, 'max_depth': 2, 'min_samples_split': 15, 'min_samples_leaf': 8}. Best is trial 2 with value: 0.8435754189944135.\n",
      "[I 2024-03-19 18:31:58,837] Trial 10 finished with value: 0.8268156424581006 and parameters: {'n_estimators': 412, 'max_depth': 20, 'min_samples_split': 13, 'min_samples_leaf': 10}. Best is trial 2 with value: 0.8435754189944135.\n",
      "[I 2024-03-19 18:31:59,197] Trial 11 finished with value: 0.8379888268156425 and parameters: {'n_estimators': 205, 'max_depth': 25, 'min_samples_split': 7, 'min_samples_leaf': 7}. Best is trial 2 with value: 0.8435754189944135.\n",
      "[I 2024-03-19 18:31:59,487] Trial 12 finished with value: 0.8268156424581006 and parameters: {'n_estimators': 167, 'max_depth': 24, 'min_samples_split': 11, 'min_samples_leaf': 10}. Best is trial 2 with value: 0.8435754189944135.\n",
      "[I 2024-03-19 18:32:00,109] Trial 13 finished with value: 0.8379888268156425 and parameters: {'n_estimators': 360, 'max_depth': 30, 'min_samples_split': 7, 'min_samples_leaf': 8}. Best is trial 2 with value: 0.8435754189944135.\n",
      "[I 2024-03-19 18:32:00,605] Trial 14 finished with value: 0.8435754189944135 and parameters: {'n_estimators': 284, 'max_depth': 23, 'min_samples_split': 2, 'min_samples_leaf': 5}. Best is trial 2 with value: 0.8435754189944135.\n",
      "[I 2024-03-19 18:32:00,884] Trial 15 finished with value: 0.8435754189944135 and parameters: {'n_estimators': 158, 'max_depth': 15, 'min_samples_split': 11, 'min_samples_leaf': 8}. Best is trial 2 with value: 0.8435754189944135.\n",
      "[I 2024-03-19 18:32:01,744] Trial 16 finished with value: 0.8379888268156425 and parameters: {'n_estimators': 495, 'max_depth': 27, 'min_samples_split': 6, 'min_samples_leaf': 6}. Best is trial 2 with value: 0.8435754189944135.\n",
      "[I 2024-03-19 18:32:02,340] Trial 17 finished with value: 0.8435754189944135 and parameters: {'n_estimators': 356, 'max_depth': 21, 'min_samples_split': 13, 'min_samples_leaf': 9}. Best is trial 2 with value: 0.8435754189944135.\n",
      "[I 2024-03-19 18:32:02,761] Trial 18 finished with value: 0.8435754189944135 and parameters: {'n_estimators': 230, 'max_depth': 16, 'min_samples_split': 9, 'min_samples_leaf': 4}. Best is trial 2 with value: 0.8435754189944135.\n",
      "[I 2024-03-19 18:32:02,969] Trial 19 finished with value: 0.8379888268156425 and parameters: {'n_estimators': 107, 'max_depth': 27, 'min_samples_split': 12, 'min_samples_leaf': 7}. Best is trial 2 with value: 0.8435754189944135.\n",
      "[I 2024-03-19 18:32:03,435] Trial 20 finished with value: 0.8379888268156425 and parameters: {'n_estimators': 259, 'max_depth': 32, 'min_samples_split': 2, 'min_samples_leaf': 4}. Best is trial 2 with value: 0.8435754189944135.\n",
      "[I 2024-03-19 18:32:04,051] Trial 21 finished with value: 0.8435754189944135 and parameters: {'n_estimators': 333, 'max_depth': 19, 'min_samples_split': 4, 'min_samples_leaf': 1}. Best is trial 2 with value: 0.8435754189944135.\n",
      "[I 2024-03-19 18:32:04,789] Trial 22 finished with value: 0.8435754189944135 and parameters: {'n_estimators': 412, 'max_depth': 18, 'min_samples_split': 6, 'min_samples_leaf': 2}. Best is trial 2 with value: 0.8435754189944135.\n",
      "[I 2024-03-19 18:32:05,337] Trial 23 finished with value: 0.8435754189944135 and parameters: {'n_estimators': 317, 'max_depth': 14, 'min_samples_split': 8, 'min_samples_leaf': 3}. Best is trial 2 with value: 0.8435754189944135.\n",
      "[I 2024-03-19 18:32:05,788] Trial 24 finished with value: 0.8324022346368715 and parameters: {'n_estimators': 258, 'max_depth': 21, 'min_samples_split': 3, 'min_samples_leaf': 7}. Best is trial 2 with value: 0.8435754189944135.\n",
      "[I 2024-03-19 18:32:06,479] Trial 25 finished with value: 0.8435754189944135 and parameters: {'n_estimators': 391, 'max_depth': 22, 'min_samples_split': 6, 'min_samples_leaf': 3}. Best is trial 2 with value: 0.8435754189944135.\n",
      "[I 2024-03-19 18:32:06,779] Trial 26 finished with value: 0.8435754189944135 and parameters: {'n_estimators': 167, 'max_depth': 18, 'min_samples_split': 7, 'min_samples_leaf': 9}. Best is trial 2 with value: 0.8435754189944135.\n",
      "[I 2024-03-19 18:32:07,430] Trial 27 finished with value: 0.8435754189944135 and parameters: {'n_estimators': 377, 'max_depth': 27, 'min_samples_split': 10, 'min_samples_leaf': 5}. Best is trial 2 with value: 0.8435754189944135.\n",
      "[I 2024-03-19 18:32:07,986] Trial 28 finished with value: 0.8435754189944135 and parameters: {'n_estimators': 308, 'max_depth': 25, 'min_samples_split': 5, 'min_samples_leaf': 2}. Best is trial 2 with value: 0.8435754189944135.\n",
      "[I 2024-03-19 18:32:08,131] Trial 29 finished with value: 0.8603351955307262 and parameters: {'n_estimators': 62, 'max_depth': 11, 'min_samples_split': 3, 'min_samples_leaf': 1}. Best is trial 29 with value: 0.8603351955307262.\n",
      "[I 2024-03-19 18:32:08,219] Trial 30 finished with value: 0.8324022346368715 and parameters: {'n_estimators': 30, 'max_depth': 13, 'min_samples_split': 3, 'min_samples_leaf': 1}. Best is trial 29 with value: 0.8603351955307262.\n",
      "[I 2024-03-19 18:32:08,369] Trial 31 finished with value: 0.8379888268156425 and parameters: {'n_estimators': 70, 'max_depth': 10, 'min_samples_split': 3, 'min_samples_leaf': 2}. Best is trial 29 with value: 0.8603351955307262.\n",
      "[I 2024-03-19 18:32:08,534] Trial 32 finished with value: 0.8491620111731844 and parameters: {'n_estimators': 73, 'max_depth': 17, 'min_samples_split': 4, 'min_samples_leaf': 1}. Best is trial 29 with value: 0.8603351955307262.\n",
      "[I 2024-03-19 18:32:08,811] Trial 33 finished with value: 0.8491620111731844 and parameters: {'n_estimators': 134, 'max_depth': 16, 'min_samples_split': 5, 'min_samples_leaf': 1}. Best is trial 29 with value: 0.8603351955307262.\n",
      "[I 2024-03-19 18:32:08,960] Trial 34 finished with value: 0.8491620111731844 and parameters: {'n_estimators': 67, 'max_depth': 16, 'min_samples_split': 3, 'min_samples_leaf': 1}. Best is trial 29 with value: 0.8603351955307262.\n",
      "[I 2024-03-19 18:32:09,124] Trial 35 finished with value: 0.8435754189944135 and parameters: {'n_estimators': 75, 'max_depth': 12, 'min_samples_split': 2, 'min_samples_leaf': 1}. Best is trial 29 with value: 0.8603351955307262.\n",
      "[I 2024-03-19 18:32:09,267] Trial 36 finished with value: 0.8435754189944135 and parameters: {'n_estimators': 62, 'max_depth': 16, 'min_samples_split': 5, 'min_samples_leaf': 1}. Best is trial 29 with value: 0.8603351955307262.\n",
      "[I 2024-03-19 18:32:09,532] Trial 37 finished with value: 0.8491620111731844 and parameters: {'n_estimators': 134, 'max_depth': 9, 'min_samples_split': 3, 'min_samples_leaf': 1}. Best is trial 29 with value: 0.8603351955307262.\n",
      "[I 2024-03-19 18:32:09,620] Trial 38 finished with value: 0.8435754189944135 and parameters: {'n_estimators': 36, 'max_depth': 7, 'min_samples_split': 4, 'min_samples_leaf': 3}. Best is trial 29 with value: 0.8603351955307262.\n",
      "[I 2024-03-19 18:32:09,778] Trial 39 finished with value: 0.8379888268156425 and parameters: {'n_estimators': 81, 'max_depth': 5, 'min_samples_split': 5, 'min_samples_leaf': 2}. Best is trial 29 with value: 0.8603351955307262.\n",
      "[I 2024-03-19 18:32:10,046] Trial 40 finished with value: 0.8435754189944135 and parameters: {'n_estimators': 134, 'max_depth': 12, 'min_samples_split': 3, 'min_samples_leaf': 1}. Best is trial 29 with value: 0.8603351955307262.\n",
      "[I 2024-03-19 18:32:10,336] Trial 41 finished with value: 0.8491620111731844 and parameters: {'n_estimators': 140, 'max_depth': 9, 'min_samples_split': 3, 'min_samples_leaf': 1}. Best is trial 29 with value: 0.8603351955307262.\n",
      "[I 2024-03-19 18:32:10,572] Trial 42 finished with value: 0.8547486033519553 and parameters: {'n_estimators': 105, 'max_depth': 14, 'min_samples_split': 4, 'min_samples_leaf': 1}. Best is trial 29 with value: 0.8603351955307262.\n",
      "[I 2024-03-19 18:32:10,787] Trial 43 finished with value: 0.8547486033519553 and parameters: {'n_estimators': 101, 'max_depth': 14, 'min_samples_split': 4, 'min_samples_leaf': 2}. Best is trial 29 with value: 0.8603351955307262.\n",
      "[I 2024-03-19 18:32:10,992] Trial 44 finished with value: 0.8547486033519553 and parameters: {'n_estimators': 98, 'max_depth': 14, 'min_samples_split': 4, 'min_samples_leaf': 2}. Best is trial 29 with value: 0.8603351955307262.\n",
      "[I 2024-03-19 18:32:11,216] Trial 45 finished with value: 0.8491620111731844 and parameters: {'n_estimators': 107, 'max_depth': 14, 'min_samples_split': 4, 'min_samples_leaf': 2}. Best is trial 29 with value: 0.8603351955307262.\n",
      "[I 2024-03-19 18:32:11,599] Trial 46 finished with value: 0.8435754189944135 and parameters: {'n_estimators': 190, 'max_depth': 12, 'min_samples_split': 4, 'min_samples_leaf': 2}. Best is trial 29 with value: 0.8603351955307262.\n",
      "[I 2024-03-19 18:32:11,724] Trial 47 finished with value: 0.8491620111731844 and parameters: {'n_estimators': 47, 'max_depth': 14, 'min_samples_split': 6, 'min_samples_leaf': 3}. Best is trial 29 with value: 0.8603351955307262.\n",
      "[I 2024-03-19 18:32:11,928] Trial 48 finished with value: 0.8435754189944135 and parameters: {'n_estimators': 100, 'max_depth': 11, 'min_samples_split': 2, 'min_samples_leaf': 2}. Best is trial 29 with value: 0.8603351955307262.\n",
      "[I 2024-03-19 18:32:12,119] Trial 49 finished with value: 0.8379888268156425 and parameters: {'n_estimators': 89, 'max_depth': 17, 'min_samples_split': 4, 'min_samples_leaf': 3}. Best is trial 29 with value: 0.8603351955307262.\n",
      "[I 2024-03-19 18:32:12,443] Trial 50 finished with value: 0.8435754189944135 and parameters: {'n_estimators': 158, 'max_depth': 10, 'min_samples_split': 5, 'min_samples_leaf': 4}. Best is trial 29 with value: 0.8603351955307262.\n",
      "[I 2024-03-19 18:32:12,694] Trial 51 finished with value: 0.8491620111731844 and parameters: {'n_estimators': 123, 'max_depth': 15, 'min_samples_split': 5, 'min_samples_leaf': 1}. Best is trial 29 with value: 0.8603351955307262.\n",
      "[I 2024-03-19 18:32:12,827] Trial 52 finished with value: 0.8547486033519553 and parameters: {'n_estimators': 54, 'max_depth': 19, 'min_samples_split': 4, 'min_samples_leaf': 2}. Best is trial 29 with value: 0.8603351955307262.\n",
      "[I 2024-03-19 18:32:12,952] Trial 53 finished with value: 0.8547486033519553 and parameters: {'n_estimators': 53, 'max_depth': 19, 'min_samples_split': 4, 'min_samples_leaf': 2}. Best is trial 29 with value: 0.8603351955307262.\n",
      "[I 2024-03-19 18:32:13,036] Trial 54 finished with value: 0.8379888268156425 and parameters: {'n_estimators': 26, 'max_depth': 19, 'min_samples_split': 2, 'min_samples_leaf': 2}. Best is trial 29 with value: 0.8603351955307262.\n",
      "[I 2024-03-19 18:32:13,175] Trial 55 finished with value: 0.8547486033519553 and parameters: {'n_estimators': 55, 'max_depth': 20, 'min_samples_split': 6, 'min_samples_leaf': 2}. Best is trial 29 with value: 0.8603351955307262.\n",
      "[I 2024-03-19 18:32:13,300] Trial 56 finished with value: 0.8324022346368715 and parameters: {'n_estimators': 50, 'max_depth': 13, 'min_samples_split': 4, 'min_samples_leaf': 3}. Best is trial 29 with value: 0.8603351955307262.\n",
      "[I 2024-03-19 18:32:13,497] Trial 57 finished with value: 0.8379888268156425 and parameters: {'n_estimators': 94, 'max_depth': 19, 'min_samples_split': 7, 'min_samples_leaf': 3}. Best is trial 29 with value: 0.8603351955307262.\n",
      "[I 2024-03-19 18:32:13,726] Trial 58 finished with value: 0.8435754189944135 and parameters: {'n_estimators': 119, 'max_depth': 15, 'min_samples_split': 15, 'min_samples_leaf': 2}. Best is trial 29 with value: 0.8603351955307262.\n",
      "[I 2024-03-19 18:32:14,086] Trial 59 finished with value: 0.8379888268156425 and parameters: {'n_estimators': 202, 'max_depth': 13, 'min_samples_split': 2, 'min_samples_leaf': 4}. Best is trial 29 with value: 0.8603351955307262.\n",
      "[I 2024-03-19 18:32:14,194] Trial 60 finished with value: 0.8435754189944135 and parameters: {'n_estimators': 41, 'max_depth': 22, 'min_samples_split': 8, 'min_samples_leaf': 3}. Best is trial 29 with value: 0.8603351955307262.\n",
      "[I 2024-03-19 18:32:14,326] Trial 61 finished with value: 0.8491620111731844 and parameters: {'n_estimators': 56, 'max_depth': 20, 'min_samples_split': 6, 'min_samples_leaf': 2}. Best is trial 29 with value: 0.8603351955307262.\n",
      "[I 2024-03-19 18:32:14,517] Trial 62 finished with value: 0.8435754189944135 and parameters: {'n_estimators': 89, 'max_depth': 20, 'min_samples_split': 3, 'min_samples_leaf': 2}. Best is trial 29 with value: 0.8603351955307262.\n",
      "[I 2024-03-19 18:32:14,664] Trial 63 finished with value: 0.8435754189944135 and parameters: {'n_estimators': 62, 'max_depth': 18, 'min_samples_split': 4, 'min_samples_leaf': 2}. Best is trial 29 with value: 0.8603351955307262.\n",
      "[I 2024-03-19 18:32:14,898] Trial 64 finished with value: 0.8491620111731844 and parameters: {'n_estimators': 114, 'max_depth': 23, 'min_samples_split': 6, 'min_samples_leaf': 1}. Best is trial 29 with value: 0.8603351955307262.\n",
      "[I 2024-03-19 18:32:15,016] Trial 65 finished with value: 0.8435754189944135 and parameters: {'n_estimators': 48, 'max_depth': 11, 'min_samples_split': 5, 'min_samples_leaf': 2}. Best is trial 29 with value: 0.8603351955307262.\n",
      "[I 2024-03-19 18:32:15,206] Trial 66 finished with value: 0.8379888268156425 and parameters: {'n_estimators': 89, 'max_depth': 17, 'min_samples_split': 4, 'min_samples_leaf': 3}. Best is trial 29 with value: 0.8603351955307262.\n",
      "[I 2024-03-19 18:32:15,510] Trial 67 finished with value: 0.8435754189944135 and parameters: {'n_estimators': 147, 'max_depth': 15, 'min_samples_split': 5, 'min_samples_leaf': 1}. Best is trial 29 with value: 0.8603351955307262.\n",
      "[I 2024-03-19 18:32:15,697] Trial 68 finished with value: 0.8324022346368715 and parameters: {'n_estimators': 78, 'max_depth': 22, 'min_samples_split': 3, 'min_samples_leaf': 6}. Best is trial 29 with value: 0.8603351955307262.\n",
      "[I 2024-03-19 18:32:16,067] Trial 69 finished with value: 0.8435754189944135 and parameters: {'n_estimators': 178, 'max_depth': 14, 'min_samples_split': 3, 'min_samples_leaf': 2}. Best is trial 29 with value: 0.8603351955307262.\n",
      "[I 2024-03-19 18:32:16,279] Trial 70 finished with value: 0.8547486033519553 and parameters: {'n_estimators': 103, 'max_depth': 21, 'min_samples_split': 5, 'min_samples_leaf': 1}. Best is trial 29 with value: 0.8603351955307262.\n",
      "[I 2024-03-19 18:32:16,509] Trial 71 finished with value: 0.8547486033519553 and parameters: {'n_estimators': 105, 'max_depth': 20, 'min_samples_split': 5, 'min_samples_leaf': 1}. Best is trial 29 with value: 0.8603351955307262.\n",
      "[I 2024-03-19 18:32:16,591] Trial 72 finished with value: 0.8547486033519553 and parameters: {'n_estimators': 25, 'max_depth': 18, 'min_samples_split': 4, 'min_samples_leaf': 1}. Best is trial 29 with value: 0.8603351955307262.\n",
      "[I 2024-03-19 18:32:16,754] Trial 73 finished with value: 0.8491620111731844 and parameters: {'n_estimators': 69, 'max_depth': 24, 'min_samples_split': 4, 'min_samples_leaf': 1}. Best is trial 29 with value: 0.8603351955307262.\n",
      "[I 2024-03-19 18:32:16,886] Trial 74 finished with value: 0.8491620111731844 and parameters: {'n_estimators': 57, 'max_depth': 21, 'min_samples_split': 6, 'min_samples_leaf': 2}. Best is trial 29 with value: 0.8603351955307262.\n",
      "[I 2024-03-19 18:32:16,991] Trial 75 finished with value: 0.8379888268156425 and parameters: {'n_estimators': 40, 'max_depth': 19, 'min_samples_split': 5, 'min_samples_leaf': 2}. Best is trial 29 with value: 0.8603351955307262.\n",
      "[I 2024-03-19 18:32:17,170] Trial 76 finished with value: 0.8491620111731844 and parameters: {'n_estimators': 81, 'max_depth': 17, 'min_samples_split': 3, 'min_samples_leaf': 1}. Best is trial 29 with value: 0.8603351955307262.\n",
      "[I 2024-03-19 18:32:17,400] Trial 77 finished with value: 0.8435754189944135 and parameters: {'n_estimators': 113, 'max_depth': 21, 'min_samples_split': 6, 'min_samples_leaf': 3}. Best is trial 29 with value: 0.8603351955307262.\n",
      "[I 2024-03-19 18:32:17,606] Trial 78 finished with value: 0.8435754189944135 and parameters: {'n_estimators': 99, 'max_depth': 23, 'min_samples_split': 7, 'min_samples_leaf': 1}. Best is trial 29 with value: 0.8603351955307262.\n",
      "[I 2024-03-19 18:32:17,891] Trial 79 finished with value: 0.8435754189944135 and parameters: {'n_estimators': 145, 'max_depth': 16, 'min_samples_split': 4, 'min_samples_leaf': 2}. Best is trial 29 with value: 0.8603351955307262.\n",
      "[I 2024-03-19 18:32:18,359] Trial 80 finished with value: 0.8547486033519553 and parameters: {'n_estimators': 235, 'max_depth': 26, 'min_samples_split': 2, 'min_samples_leaf': 1}. Best is trial 29 with value: 0.8603351955307262.\n",
      "[I 2024-03-19 18:32:18,620] Trial 81 finished with value: 0.8491620111731844 and parameters: {'n_estimators': 127, 'max_depth': 20, 'min_samples_split': 5, 'min_samples_leaf': 1}. Best is trial 29 with value: 0.8603351955307262.\n",
      "[I 2024-03-19 18:32:18,848] Trial 82 finished with value: 0.8547486033519553 and parameters: {'n_estimators': 107, 'max_depth': 20, 'min_samples_split': 5, 'min_samples_leaf': 1}. Best is trial 29 with value: 0.8603351955307262.\n",
      "[I 2024-03-19 18:32:18,996] Trial 83 finished with value: 0.8435754189944135 and parameters: {'n_estimators': 63, 'max_depth': 19, 'min_samples_split': 4, 'min_samples_leaf': 2}. Best is trial 29 with value: 0.8603351955307262.\n",
      "[I 2024-03-19 18:32:19,214] Trial 84 finished with value: 0.8491620111731844 and parameters: {'n_estimators': 100, 'max_depth': 18, 'min_samples_split': 5, 'min_samples_leaf': 1}. Best is trial 29 with value: 0.8603351955307262.\n",
      "[I 2024-03-19 18:32:20,044] Trial 85 finished with value: 0.8435754189944135 and parameters: {'n_estimators': 474, 'max_depth': 22, 'min_samples_split': 14, 'min_samples_leaf': 2}. Best is trial 29 with value: 0.8603351955307262.\n",
      "[I 2024-03-19 18:32:20,217] Trial 86 finished with value: 0.8435754189944135 and parameters: {'n_estimators': 80, 'max_depth': 10, 'min_samples_split': 4, 'min_samples_leaf': 1}. Best is trial 29 with value: 0.8603351955307262.\n",
      "[I 2024-03-19 18:32:20,517] Trial 87 finished with value: 0.8491620111731844 and parameters: {'n_estimators': 154, 'max_depth': 13, 'min_samples_split': 3, 'min_samples_leaf': 2}. Best is trial 29 with value: 0.8603351955307262.\n",
      "[I 2024-03-19 18:32:20,620] Trial 88 finished with value: 0.8268156424581006 and parameters: {'n_estimators': 36, 'max_depth': 17, 'min_samples_split': 6, 'min_samples_leaf': 3}. Best is trial 29 with value: 0.8603351955307262.\n",
      "[I 2024-03-19 18:32:20,745] Trial 89 finished with value: 0.8435754189944135 and parameters: {'n_estimators': 53, 'max_depth': 6, 'min_samples_split': 3, 'min_samples_leaf': 5}. Best is trial 29 with value: 0.8603351955307262.\n",
      "[I 2024-03-19 18:32:21,002] Trial 90 finished with value: 0.8435754189944135 and parameters: {'n_estimators': 129, 'max_depth': 14, 'min_samples_split': 10, 'min_samples_leaf': 1}. Best is trial 29 with value: 0.8603351955307262.\n",
      "[I 2024-03-19 18:32:21,102] Trial 91 finished with value: 0.8491620111731844 and parameters: {'n_estimators': 34, 'max_depth': 18, 'min_samples_split': 4, 'min_samples_leaf': 1}. Best is trial 29 with value: 0.8603351955307262.\n",
      "[I 2024-03-19 18:32:21,193] Trial 92 finished with value: 0.8603351955307262 and parameters: {'n_estimators': 27, 'max_depth': 16, 'min_samples_split': 4, 'min_samples_leaf': 1}. Best is trial 29 with value: 0.8603351955307262.\n",
      "[I 2024-03-19 18:32:21,364] Trial 93 finished with value: 0.8324022346368715 and parameters: {'n_estimators': 73, 'max_depth': 15, 'min_samples_split': 5, 'min_samples_leaf': 2}. Best is trial 29 with value: 0.8603351955307262.\n",
      "[I 2024-03-19 18:32:21,567] Trial 94 finished with value: 0.8379888268156425 and parameters: {'n_estimators': 86, 'max_depth': 12, 'min_samples_split': 4, 'min_samples_leaf': 1}. Best is trial 29 with value: 0.8603351955307262.\n",
      "[I 2024-03-19 18:32:21,691] Trial 95 finished with value: 0.8491620111731844 and parameters: {'n_estimators': 45, 'max_depth': 16, 'min_samples_split': 3, 'min_samples_leaf': 2}. Best is trial 29 with value: 0.8603351955307262.\n",
      "[I 2024-03-19 18:32:21,842] Trial 96 finished with value: 0.8547486033519553 and parameters: {'n_estimators': 62, 'max_depth': 20, 'min_samples_split': 4, 'min_samples_leaf': 1}. Best is trial 29 with value: 0.8603351955307262.\n",
      "[I 2024-03-19 18:32:22,044] Trial 97 finished with value: 0.8268156424581006 and parameters: {'n_estimators': 102, 'max_depth': 21, 'min_samples_split': 5, 'min_samples_leaf': 10}. Best is trial 29 with value: 0.8603351955307262.\n",
      "[I 2024-03-19 18:32:22,120] Trial 98 finished with value: 0.8212290502793296 and parameters: {'n_estimators': 25, 'max_depth': 3, 'min_samples_split': 3, 'min_samples_leaf': 2}. Best is trial 29 with value: 0.8603351955307262.\n",
      "[I 2024-03-19 18:32:22,357] Trial 99 finished with value: 0.8435754189944135 and parameters: {'n_estimators': 114, 'max_depth': 11, 'min_samples_split': 8, 'min_samples_leaf': 1}. Best is trial 29 with value: 0.8603351955307262.\n"
     ]
    }
   ],
   "source": [
    "def objective(trial):\n",
    "    n_estimators = trial.suggest_int('n_estimators', 25, 500)\n",
    "    max_depth = trial.suggest_int('max_depth', 2, 32)\n",
    "    min_samples_split = trial.suggest_int('min_samples_split', 2, 15)\n",
    "    min_samples_leaf = trial.suggest_int('min_samples_leaf', 1, 10)\n",
    "    \n",
    "    clf = RandomForestClassifier(n_estimators=n_estimators, max_depth=max_depth,\n",
    "                                 min_samples_split=min_samples_split, min_samples_leaf=min_samples_leaf,\n",
    "                                 random_state=42)\n",
    "    clf.fit(X_train_data, y_train)\n",
    "    return accuracy_score(y_test, clf.predict(X_test_data))\n",
    "\n",
    "study = optuna.create_study(direction='maximize')\n",
    "study.optimize(objective, n_trials=100)"
   ]
  },
  {
   "cell_type": "code",
   "execution_count": 31,
   "id": "2f4c2b08",
   "metadata": {
    "execution": {
     "iopub.execute_input": "2024-03-19T18:32:22.418037Z",
     "iopub.status.busy": "2024-03-19T18:32:22.417606Z",
     "iopub.status.idle": "2024-03-19T18:32:22.425302Z",
     "shell.execute_reply": "2024-03-19T18:32:22.423185Z"
    },
    "papermill": {
     "duration": 0.037657,
     "end_time": "2024-03-19T18:32:22.428472",
     "exception": false,
     "start_time": "2024-03-19T18:32:22.390815",
     "status": "completed"
    },
    "tags": []
   },
   "outputs": [
    {
     "name": "stdout",
     "output_type": "stream",
     "text": [
      "Best Parameters: {'n_estimators': 62, 'max_depth': 11, 'min_samples_split': 3, 'min_samples_leaf': 1}\n"
     ]
    }
   ],
   "source": [
    "best_params = study.best_params\n",
    "print(\"Best Parameters:\", best_params)"
   ]
  },
  {
   "cell_type": "code",
   "execution_count": 32,
   "id": "b97cc11d",
   "metadata": {
    "execution": {
     "iopub.execute_input": "2024-03-19T18:32:22.479931Z",
     "iopub.status.busy": "2024-03-19T18:32:22.479562Z",
     "iopub.status.idle": "2024-03-19T18:32:22.605863Z",
     "shell.execute_reply": "2024-03-19T18:32:22.604208Z"
    },
    "papermill": {
     "duration": 0.154335,
     "end_time": "2024-03-19T18:32:22.608261",
     "exception": false,
     "start_time": "2024-03-19T18:32:22.453926",
     "status": "completed"
    },
    "tags": []
   },
   "outputs": [
    {
     "data": {
      "text/html": [
       "<style>#sk-container-id-1 {color: black;background-color: white;}#sk-container-id-1 pre{padding: 0;}#sk-container-id-1 div.sk-toggleable {background-color: white;}#sk-container-id-1 label.sk-toggleable__label {cursor: pointer;display: block;width: 100%;margin-bottom: 0;padding: 0.3em;box-sizing: border-box;text-align: center;}#sk-container-id-1 label.sk-toggleable__label-arrow:before {content: \"▸\";float: left;margin-right: 0.25em;color: #696969;}#sk-container-id-1 label.sk-toggleable__label-arrow:hover:before {color: black;}#sk-container-id-1 div.sk-estimator:hover label.sk-toggleable__label-arrow:before {color: black;}#sk-container-id-1 div.sk-toggleable__content {max-height: 0;max-width: 0;overflow: hidden;text-align: left;background-color: #f0f8ff;}#sk-container-id-1 div.sk-toggleable__content pre {margin: 0.2em;color: black;border-radius: 0.25em;background-color: #f0f8ff;}#sk-container-id-1 input.sk-toggleable__control:checked~div.sk-toggleable__content {max-height: 200px;max-width: 100%;overflow: auto;}#sk-container-id-1 input.sk-toggleable__control:checked~label.sk-toggleable__label-arrow:before {content: \"▾\";}#sk-container-id-1 div.sk-estimator input.sk-toggleable__control:checked~label.sk-toggleable__label {background-color: #d4ebff;}#sk-container-id-1 div.sk-label input.sk-toggleable__control:checked~label.sk-toggleable__label {background-color: #d4ebff;}#sk-container-id-1 input.sk-hidden--visually {border: 0;clip: rect(1px 1px 1px 1px);clip: rect(1px, 1px, 1px, 1px);height: 1px;margin: -1px;overflow: hidden;padding: 0;position: absolute;width: 1px;}#sk-container-id-1 div.sk-estimator {font-family: monospace;background-color: #f0f8ff;border: 1px dotted black;border-radius: 0.25em;box-sizing: border-box;margin-bottom: 0.5em;}#sk-container-id-1 div.sk-estimator:hover {background-color: #d4ebff;}#sk-container-id-1 div.sk-parallel-item::after {content: \"\";width: 100%;border-bottom: 1px solid gray;flex-grow: 1;}#sk-container-id-1 div.sk-label:hover label.sk-toggleable__label {background-color: #d4ebff;}#sk-container-id-1 div.sk-serial::before {content: \"\";position: absolute;border-left: 1px solid gray;box-sizing: border-box;top: 0;bottom: 0;left: 50%;z-index: 0;}#sk-container-id-1 div.sk-serial {display: flex;flex-direction: column;align-items: center;background-color: white;padding-right: 0.2em;padding-left: 0.2em;position: relative;}#sk-container-id-1 div.sk-item {position: relative;z-index: 1;}#sk-container-id-1 div.sk-parallel {display: flex;align-items: stretch;justify-content: center;background-color: white;position: relative;}#sk-container-id-1 div.sk-item::before, #sk-container-id-1 div.sk-parallel-item::before {content: \"\";position: absolute;border-left: 1px solid gray;box-sizing: border-box;top: 0;bottom: 0;left: 50%;z-index: -1;}#sk-container-id-1 div.sk-parallel-item {display: flex;flex-direction: column;z-index: 1;position: relative;background-color: white;}#sk-container-id-1 div.sk-parallel-item:first-child::after {align-self: flex-end;width: 50%;}#sk-container-id-1 div.sk-parallel-item:last-child::after {align-self: flex-start;width: 50%;}#sk-container-id-1 div.sk-parallel-item:only-child::after {width: 0;}#sk-container-id-1 div.sk-dashed-wrapped {border: 1px dashed gray;margin: 0 0.4em 0.5em 0.4em;box-sizing: border-box;padding-bottom: 0.4em;background-color: white;}#sk-container-id-1 div.sk-label label {font-family: monospace;font-weight: bold;display: inline-block;line-height: 1.2em;}#sk-container-id-1 div.sk-label-container {text-align: center;}#sk-container-id-1 div.sk-container {/* jupyter's `normalize.less` sets `[hidden] { display: none; }` but bootstrap.min.css set `[hidden] { display: none !important; }` so we also need the `!important` here to be able to override the default hidden behavior on the sphinx rendered scikit-learn.org. See: https://github.com/scikit-learn/scikit-learn/issues/21755 */display: inline-block !important;position: relative;}#sk-container-id-1 div.sk-text-repr-fallback {display: none;}</style><div id=\"sk-container-id-1\" class=\"sk-top-container\"><div class=\"sk-text-repr-fallback\"><pre>RandomForestClassifier(max_depth=11, min_samples_split=3, n_estimators=62,\n",
       "                       random_state=42)</pre><b>In a Jupyter environment, please rerun this cell to show the HTML representation or trust the notebook. <br />On GitHub, the HTML representation is unable to render, please try loading this page with nbviewer.org.</b></div><div class=\"sk-container\" hidden><div class=\"sk-item\"><div class=\"sk-estimator sk-toggleable\"><input class=\"sk-toggleable__control sk-hidden--visually\" id=\"sk-estimator-id-1\" type=\"checkbox\" checked><label for=\"sk-estimator-id-1\" class=\"sk-toggleable__label sk-toggleable__label-arrow\">RandomForestClassifier</label><div class=\"sk-toggleable__content\"><pre>RandomForestClassifier(max_depth=11, min_samples_split=3, n_estimators=62,\n",
       "                       random_state=42)</pre></div></div></div></div></div>"
      ],
      "text/plain": [
       "RandomForestClassifier(max_depth=11, min_samples_split=3, n_estimators=62,\n",
       "                       random_state=42)"
      ]
     },
     "execution_count": 32,
     "metadata": {},
     "output_type": "execute_result"
    }
   ],
   "source": [
    "best_model = RandomForestClassifier(**best_params, random_state=42)\n",
    "best_model.fit(X_train_data, y_train)"
   ]
  },
  {
   "cell_type": "code",
   "execution_count": 33,
   "id": "c71a5965",
   "metadata": {
    "execution": {
     "iopub.execute_input": "2024-03-19T18:32:22.658236Z",
     "iopub.status.busy": "2024-03-19T18:32:22.657850Z",
     "iopub.status.idle": "2024-03-19T18:32:22.673210Z",
     "shell.execute_reply": "2024-03-19T18:32:22.671630Z"
    },
    "papermill": {
     "duration": 0.042577,
     "end_time": "2024-03-19T18:32:22.675304",
     "exception": false,
     "start_time": "2024-03-19T18:32:22.632727",
     "status": "completed"
    },
    "tags": []
   },
   "outputs": [
    {
     "name": "stdout",
     "output_type": "stream",
     "text": [
      "Accuracy on Test Set: 0.8603351955307262\n"
     ]
    }
   ],
   "source": [
    "accuracy = best_model.score(X_test_data, y_test)\n",
    "print(\"Accuracy on Test Set:\", accuracy)"
   ]
  },
  {
   "cell_type": "code",
   "execution_count": 34,
   "id": "a2f8bf53",
   "metadata": {
    "execution": {
     "iopub.execute_input": "2024-03-19T18:32:22.728278Z",
     "iopub.status.busy": "2024-03-19T18:32:22.727902Z",
     "iopub.status.idle": "2024-03-19T18:32:22.733708Z",
     "shell.execute_reply": "2024-03-19T18:32:22.731939Z"
    },
    "papermill": {
     "duration": 0.035247,
     "end_time": "2024-03-19T18:32:22.735863",
     "exception": false,
     "start_time": "2024-03-19T18:32:22.700616",
     "status": "completed"
    },
    "tags": []
   },
   "outputs": [],
   "source": [
    "# # Get feature importances\n",
    "# importances = best_model.feature_importances_\n",
    "\n",
    "# # Transform these importances into a DataFrame for easier visualization\n",
    "# feature_importances = pd.DataFrame(importances, index=X_train.columns, columns=['Importance']).sort_values('Importance', ascending=False)\n",
    "\n",
    "# # Optionally, plot the feature importances\n",
    "# feature_importances.plot(kind='bar')"
   ]
  },
  {
   "cell_type": "code",
   "execution_count": 35,
   "id": "f14b63ea",
   "metadata": {
    "execution": {
     "iopub.execute_input": "2024-03-19T18:32:22.788810Z",
     "iopub.status.busy": "2024-03-19T18:32:22.787733Z",
     "iopub.status.idle": "2024-03-19T18:32:22.795133Z",
     "shell.execute_reply": "2024-03-19T18:32:22.793663Z"
    },
    "papermill": {
     "duration": 0.035969,
     "end_time": "2024-03-19T18:32:22.797424",
     "exception": false,
     "start_time": "2024-03-19T18:32:22.761455",
     "status": "completed"
    },
    "tags": []
   },
   "outputs": [],
   "source": [
    "# # Select a subset of features deemed most important\n",
    "\n",
    "# selected_features = feature_importances[feature_importances['Importance'] > 0].index.tolist()\n",
    "\n",
    "# # Re-train the model or perform further analysis using the selected features\n",
    "# X_train_selected = X_train[selected_features]\n",
    "# X_test_selected = X_test[selected_features]"
   ]
  },
  {
   "cell_type": "code",
   "execution_count": 36,
   "id": "b3612a97",
   "metadata": {
    "execution": {
     "iopub.execute_input": "2024-03-19T18:32:22.848006Z",
     "iopub.status.busy": "2024-03-19T18:32:22.847615Z",
     "iopub.status.idle": "2024-03-19T18:32:22.853499Z",
     "shell.execute_reply": "2024-03-19T18:32:22.852435Z"
    },
    "papermill": {
     "duration": 0.033944,
     "end_time": "2024-03-19T18:32:22.856177",
     "exception": false,
     "start_time": "2024-03-19T18:32:22.822233",
     "status": "completed"
    },
    "tags": []
   },
   "outputs": [],
   "source": [
    "# best_model = RandomForestClassifier(**best_params, random_state=42)\n",
    "# best_model.fit(X_train_selected , y_train)\n",
    "# accuracy = best_model.score(X_test_selected, y_test)\n",
    "# print(\"Accuracy on Test Set:\", accuracy)"
   ]
  },
  {
   "cell_type": "code",
   "execution_count": 37,
   "id": "0af28e43",
   "metadata": {
    "execution": {
     "iopub.execute_input": "2024-03-19T18:32:22.907318Z",
     "iopub.status.busy": "2024-03-19T18:32:22.906779Z",
     "iopub.status.idle": "2024-03-19T18:32:22.911541Z",
     "shell.execute_reply": "2024-03-19T18:32:22.910499Z"
    },
    "papermill": {
     "duration": 0.031994,
     "end_time": "2024-03-19T18:32:22.913531",
     "exception": false,
     "start_time": "2024-03-19T18:32:22.881537",
     "status": "completed"
    },
    "tags": []
   },
   "outputs": [],
   "source": [
    "# it donsn't improve the model prediction"
   ]
  },
  {
   "cell_type": "markdown",
   "id": "68fb132c",
   "metadata": {
    "papermill": {
     "duration": 0.024078,
     "end_time": "2024-03-19T18:32:22.961798",
     "exception": false,
     "start_time": "2024-03-19T18:32:22.937720",
     "status": "completed"
    },
    "tags": []
   },
   "source": [
    "\n",
    "\n",
    "<hr>\n",
    "\n",
    "<p style=\"background-color:#93CDDD; font-family: 'Trebuchet MS'; font-weight: bold; color: #3a5a40; font-size: 40px; text-align: center; border-radius: 50px; padding: 10px;\">9️⃣ - Preparing the Final Submission</p>\n",
    "<a name = 9 ></a>\n",
    "<hr>\n",
    "\n",
    "\n"
   ]
  },
  {
   "cell_type": "markdown",
   "id": "492b0e6d",
   "metadata": {
    "_kg_hide-input": true,
    "_kg_hide-output": true,
    "papermill": {
     "duration": 0.025564,
     "end_time": "2024-03-19T18:32:23.012039",
     "exception": false,
     "start_time": "2024-03-19T18:32:22.986475",
     "status": "completed"
    },
    "tags": []
   },
   "source": [
    "# 9- Preparing the Final Submission"
   ]
  },
  {
   "cell_type": "code",
   "execution_count": 38,
   "id": "0f3da9cf",
   "metadata": {
    "execution": {
     "iopub.execute_input": "2024-03-19T18:32:23.064859Z",
     "iopub.status.busy": "2024-03-19T18:32:23.064492Z",
     "iopub.status.idle": "2024-03-19T18:32:23.069727Z",
     "shell.execute_reply": "2024-03-19T18:32:23.068366Z"
    },
    "papermill": {
     "duration": 0.034554,
     "end_time": "2024-03-19T18:32:23.072532",
     "exception": false,
     "start_time": "2024-03-19T18:32:23.037978",
     "status": "completed"
    },
    "tags": []
   },
   "outputs": [],
   "source": [
    "titanic_test = pd.DataFrame(titanic_test,columns = X_train.columns)"
   ]
  },
  {
   "cell_type": "code",
   "execution_count": 39,
   "id": "27cfb1f7",
   "metadata": {
    "execution": {
     "iopub.execute_input": "2024-03-19T18:32:23.125025Z",
     "iopub.status.busy": "2024-03-19T18:32:23.124637Z",
     "iopub.status.idle": "2024-03-19T18:32:23.137073Z",
     "shell.execute_reply": "2024-03-19T18:32:23.135377Z"
    },
    "papermill": {
     "duration": 0.042064,
     "end_time": "2024-03-19T18:32:23.139819",
     "exception": false,
     "start_time": "2024-03-19T18:32:23.097755",
     "status": "completed"
    },
    "tags": []
   },
   "outputs": [],
   "source": [
    "imputer = SimpleImputer(strategy = \"median\")\n",
    "titanic_test['Fare'] = imputer.fit_transform(titanic_test[['Fare']])\n"
   ]
  },
  {
   "cell_type": "code",
   "execution_count": 40,
   "id": "5ff7551a",
   "metadata": {
    "execution": {
     "iopub.execute_input": "2024-03-19T18:32:23.192803Z",
     "iopub.status.busy": "2024-03-19T18:32:23.192418Z",
     "iopub.status.idle": "2024-03-19T18:32:23.206533Z",
     "shell.execute_reply": "2024-03-19T18:32:23.205155Z"
    },
    "papermill": {
     "duration": 0.044008,
     "end_time": "2024-03-19T18:32:23.209542",
     "exception": false,
     "start_time": "2024-03-19T18:32:23.165534",
     "status": "completed"
    },
    "tags": []
   },
   "outputs": [
    {
     "name": "stdout",
     "output_type": "stream",
     "text": [
      "<class 'pandas.core.frame.DataFrame'>\n",
      "RangeIndex: 418 entries, 0 to 417\n",
      "Data columns (total 11 columns):\n",
      " #   Column       Non-Null Count  Dtype  \n",
      "---  ------       --------------  -----  \n",
      " 0   PassengerId  418 non-null    float64\n",
      " 1   Pclass       418 non-null    float64\n",
      " 2   Age          418 non-null    float64\n",
      " 3   SibSp        418 non-null    float64\n",
      " 4   Parch        418 non-null    float64\n",
      " 5   Fare         418 non-null    float64\n",
      " 6   C            418 non-null    float64\n",
      " 7   S            418 non-null    float64\n",
      " 8   Q            418 non-null    float64\n",
      " 9   Female       418 non-null    float64\n",
      " 10  Male         418 non-null    float64\n",
      "dtypes: float64(11)\n",
      "memory usage: 36.0 KB\n"
     ]
    }
   ],
   "source": [
    "titanic_test.info()"
   ]
  },
  {
   "cell_type": "code",
   "execution_count": 41,
   "id": "587946c8",
   "metadata": {
    "execution": {
     "iopub.execute_input": "2024-03-19T18:32:23.261024Z",
     "iopub.status.busy": "2024-03-19T18:32:23.260641Z",
     "iopub.status.idle": "2024-03-19T18:32:23.276451Z",
     "shell.execute_reply": "2024-03-19T18:32:23.275129Z"
    },
    "papermill": {
     "duration": 0.044895,
     "end_time": "2024-03-19T18:32:23.279579",
     "exception": false,
     "start_time": "2024-03-19T18:32:23.234684",
     "status": "completed"
    },
    "tags": []
   },
   "outputs": [],
   "source": [
    "predictions = best_model.predict(titanic_test)"
   ]
  },
  {
   "cell_type": "code",
   "execution_count": 42,
   "id": "1f66926f",
   "metadata": {
    "execution": {
     "iopub.execute_input": "2024-03-19T18:32:23.330998Z",
     "iopub.status.busy": "2024-03-19T18:32:23.330626Z",
     "iopub.status.idle": "2024-03-19T18:32:23.339779Z",
     "shell.execute_reply": "2024-03-19T18:32:23.337549Z"
    },
    "papermill": {
     "duration": 0.03752,
     "end_time": "2024-03-19T18:32:23.342097",
     "exception": false,
     "start_time": "2024-03-19T18:32:23.304577",
     "status": "completed"
    },
    "tags": []
   },
   "outputs": [
    {
     "data": {
      "text/plain": [
       "array([0, 0, 0, 0, 1, 0, 1, 0, 1, 0, 0, 0, 1, 0, 1, 1, 0, 0, 1, 1, 0, 0,\n",
       "       1, 0, 1, 0, 1, 0, 0, 0, 0, 0, 1, 0, 0, 0, 1, 1, 0, 0, 0, 0, 0, 1,\n",
       "       1, 0, 0, 0, 1, 1, 0, 0, 1, 1, 0, 0, 0, 0, 0, 1, 0, 0, 0, 1, 0, 1,\n",
       "       1, 0, 0, 1, 1, 0, 1, 0, 1, 0, 0, 1, 0, 1, 1, 0, 0, 0, 0, 0, 1, 1,\n",
       "       1, 1, 1, 0, 1, 0, 0, 0, 1, 0, 1, 0, 1, 0, 0, 0, 1, 0, 0, 0, 0, 0,\n",
       "       0, 1, 1, 1, 1, 0, 0, 1, 0, 1, 1, 0, 1, 0, 0, 1, 0, 1, 0, 0, 0, 0,\n",
       "       0, 0, 0, 0, 0, 0, 1, 0, 0, 1, 0, 0, 0, 0, 0, 0, 0, 0, 1, 0, 0, 1,\n",
       "       0, 0, 1, 1, 0, 1, 1, 1, 1, 0, 0, 1, 0, 0, 1, 1, 0, 0, 0, 0, 0, 1,\n",
       "       1, 0, 1, 1, 0, 1, 1, 0, 1, 0, 1, 0, 0, 0, 0, 0, 1, 0, 1, 0, 1, 1,\n",
       "       0, 0, 1, 1, 0, 1, 0, 0, 0, 0, 1, 0, 0, 0, 0, 1, 0, 0, 0, 0, 1, 0,\n",
       "       1, 0, 1, 0, 1, 0, 0, 0, 0, 0, 0, 1, 0, 0, 1, 0, 0, 0, 1, 1, 1, 1,\n",
       "       0, 0, 0, 0, 1, 0, 1, 0, 1, 0, 0, 0, 0, 0, 0, 0, 1, 0, 0, 0, 1, 1,\n",
       "       0, 0, 0, 0, 0, 0, 0, 0, 1, 1, 0, 1, 0, 0, 0, 0, 1, 1, 0, 1, 1, 0,\n",
       "       0, 1, 0, 0, 0, 0, 0, 1, 0, 0, 1, 0, 0, 0, 0, 0, 0, 0, 1, 1, 0, 1,\n",
       "       0, 0, 0, 0, 0, 0, 1, 1, 0, 0, 0, 0, 0, 0, 0, 0, 1, 0, 1, 1, 0, 0,\n",
       "       1, 0, 0, 0, 0, 0, 0, 0, 0, 0, 0, 0, 0, 1, 0, 1, 0, 1, 0, 1, 1, 0,\n",
       "       0, 0, 1, 0, 1, 0, 0, 0, 0, 1, 1, 0, 1, 0, 0, 1, 1, 0, 0, 1, 0, 0,\n",
       "       1, 1, 0, 0, 0, 0, 0, 0, 1, 0, 0, 1, 0, 0, 0, 0, 0, 1, 1, 0, 0, 1,\n",
       "       0, 1, 0, 0, 1, 0, 1, 0, 1, 1, 0, 1, 0, 1, 0, 1, 1, 0, 1, 0, 0, 1])"
      ]
     },
     "execution_count": 42,
     "metadata": {},
     "output_type": "execute_result"
    }
   ],
   "source": [
    "predictions"
   ]
  },
  {
   "cell_type": "code",
   "execution_count": 43,
   "id": "297dfaf8",
   "metadata": {
    "execution": {
     "iopub.execute_input": "2024-03-19T18:32:23.395458Z",
     "iopub.status.busy": "2024-03-19T18:32:23.395076Z",
     "iopub.status.idle": "2024-03-19T18:32:23.407041Z",
     "shell.execute_reply": "2024-03-19T18:32:23.405466Z"
    },
    "papermill": {
     "duration": 0.042568,
     "end_time": "2024-03-19T18:32:23.410202",
     "exception": false,
     "start_time": "2024-03-19T18:32:23.367634",
     "status": "completed"
    },
    "tags": []
   },
   "outputs": [],
   "source": [
    "final_df = pd.DataFrame(passenger_id)\n",
    "final_df['Survived'] = predictions\n",
    "final_df.to_csv(\"/kaggle/working/data_predictions.csv\",index =False)\n"
   ]
  },
  {
   "cell_type": "code",
   "execution_count": 44,
   "id": "a8f1899e",
   "metadata": {
    "execution": {
     "iopub.execute_input": "2024-03-19T18:32:23.462623Z",
     "iopub.status.busy": "2024-03-19T18:32:23.462285Z",
     "iopub.status.idle": "2024-03-19T18:32:23.471075Z",
     "shell.execute_reply": "2024-03-19T18:32:23.470292Z"
    },
    "papermill": {
     "duration": 0.037156,
     "end_time": "2024-03-19T18:32:23.472961",
     "exception": false,
     "start_time": "2024-03-19T18:32:23.435805",
     "status": "completed"
    },
    "tags": []
   },
   "outputs": [
    {
     "data": {
      "text/html": [
       "<div>\n",
       "<style scoped>\n",
       "    .dataframe tbody tr th:only-of-type {\n",
       "        vertical-align: middle;\n",
       "    }\n",
       "\n",
       "    .dataframe tbody tr th {\n",
       "        vertical-align: top;\n",
       "    }\n",
       "\n",
       "    .dataframe thead th {\n",
       "        text-align: right;\n",
       "    }\n",
       "</style>\n",
       "<table border=\"1\" class=\"dataframe\">\n",
       "  <thead>\n",
       "    <tr style=\"text-align: right;\">\n",
       "      <th></th>\n",
       "      <th>PassengerId</th>\n",
       "      <th>Survived</th>\n",
       "    </tr>\n",
       "  </thead>\n",
       "  <tbody>\n",
       "    <tr>\n",
       "      <th>0</th>\n",
       "      <td>892</td>\n",
       "      <td>0</td>\n",
       "    </tr>\n",
       "    <tr>\n",
       "      <th>1</th>\n",
       "      <td>893</td>\n",
       "      <td>0</td>\n",
       "    </tr>\n",
       "    <tr>\n",
       "      <th>2</th>\n",
       "      <td>894</td>\n",
       "      <td>0</td>\n",
       "    </tr>\n",
       "    <tr>\n",
       "      <th>3</th>\n",
       "      <td>895</td>\n",
       "      <td>0</td>\n",
       "    </tr>\n",
       "    <tr>\n",
       "      <th>4</th>\n",
       "      <td>896</td>\n",
       "      <td>1</td>\n",
       "    </tr>\n",
       "  </tbody>\n",
       "</table>\n",
       "</div>"
      ],
      "text/plain": [
       "   PassengerId  Survived\n",
       "0          892         0\n",
       "1          893         0\n",
       "2          894         0\n",
       "3          895         0\n",
       "4          896         1"
      ]
     },
     "execution_count": 44,
     "metadata": {},
     "output_type": "execute_result"
    }
   ],
   "source": [
    "final_df.head()"
   ]
  },
  {
   "cell_type": "markdown",
   "id": "2bdd6a2d",
   "metadata": {
    "papermill": {
     "duration": 0.023716,
     "end_time": "2024-03-19T18:32:23.521652",
     "exception": false,
     "start_time": "2024-03-19T18:32:23.497936",
     "status": "completed"
    },
    "tags": []
   },
   "source": [
    "<h1 style=\"font-family: Trebuchet MS; font-size: 20px; color: #1b4332; text-align: center; \">\n",
    "  <b>If you have any feedback or suggestions on how to enhance the model's performance, please feel free to share them in the comments below. Your insights are valuable and can help us refine our approach to achieve better results.</b>\n",
    "</h1>\n",
    "\n",
    "\n",
    "<h1 style=\"font-family: Trebuchet MS; font-size: 30px; color: #1b4332; text-align: center; \"><b>Thank You</b></h1>"
   ]
  }
 ],
 "metadata": {
  "kaggle": {
   "accelerator": "none",
   "dataSources": [
    {
     "databundleVersionId": 26502,
     "sourceId": 3136,
     "sourceType": "competition"
    }
   ],
   "dockerImageVersionId": 30558,
   "isGpuEnabled": false,
   "isInternetEnabled": true,
   "language": "python",
   "sourceType": "notebook"
  },
  "kernelspec": {
   "display_name": "Python 3",
   "language": "python",
   "name": "python3"
  },
  "language_info": {
   "codemirror_mode": {
    "name": "ipython",
    "version": 3
   },
   "file_extension": ".py",
   "mimetype": "text/x-python",
   "name": "python",
   "nbconvert_exporter": "python",
   "pygments_lexer": "ipython3",
   "version": "3.10.12"
  },
  "papermill": {
   "default_parameters": {},
   "duration": 59.408708,
   "end_time": "2024-03-19T18:32:24.668901",
   "environment_variables": {},
   "exception": null,
   "input_path": "__notebook__.ipynb",
   "output_path": "__notebook__.ipynb",
   "parameters": {},
   "start_time": "2024-03-19T18:31:25.260193",
   "version": "2.4.0"
  }
 },
 "nbformat": 4,
 "nbformat_minor": 5
}
